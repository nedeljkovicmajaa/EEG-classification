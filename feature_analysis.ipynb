{
 "cells": [
  {
   "cell_type": "code",
   "execution_count": 8,
   "metadata": {},
   "outputs": [],
   "source": [
    "import sys\n",
    "sys.path.append('../')\n",
    "from data_loader import DataLoader\n",
    "import random\n",
    "import configparser\n",
    "from feature_selector import BaselineSelector, AnalysisSelector\n",
    "from feature_selector import FeatureExtractor\n",
    "import numpy as np\n",
    "from utils import parse_config_features\n",
    "import pandas as pd "
   ]
  },
  {
   "cell_type": "code",
   "execution_count": 9,
   "metadata": {},
   "outputs": [
    {
     "data": {
      "text/plain": [
       "['config.ini']"
      ]
     },
     "execution_count": 9,
     "metadata": {},
     "output_type": "execute_result"
    }
   ],
   "source": [
    "config = configparser.ConfigParser()\n",
    "config.read('config.ini')"
   ]
  },
  {
   "cell_type": "code",
   "execution_count": 10,
   "metadata": {},
   "outputs": [],
   "source": [
    "X = pd.read_csv(config['Data']['features_path'])\n",
    "y = np.load(config['Data']['labels_path'])"
   ]
  },
  {
   "cell_type": "code",
   "execution_count": 11,
   "metadata": {},
   "outputs": [
    {
     "data": {
      "text/plain": [
       "Index(['Unnamed: 0', 'skewness_alpha_0', 'skewness_alpha_1',\n",
       "       'skewness_alpha_2', 'skewness_alpha_3', 'skewness_alpha_4',\n",
       "       'skewness_alpha_5', 'skewness_alpha_6', 'skewness_alpha_7',\n",
       "       'skewness_alpha_8',\n",
       "       ...\n",
       "       'hjorth_complexity_theta_9', 'hjorth_complexity_theta_10',\n",
       "       'hjorth_complexity_theta_11', 'hjorth_complexity_theta_12',\n",
       "       'hjorth_complexity_theta_13', 'hjorth_complexity_theta_14',\n",
       "       'hjorth_complexity_theta_15', 'hjorth_complexity_theta_16',\n",
       "       'hjorth_complexity_theta_17', 'hjorth_complexity_theta_18'],\n",
       "      dtype='object', length=476)"
      ]
     },
     "execution_count": 11,
     "metadata": {},
     "output_type": "execute_result"
    }
   ],
   "source": [
    "X.columns"
   ]
  },
  {
   "cell_type": "code",
   "execution_count": 7,
   "metadata": {},
   "outputs": [],
   "source": [
    "from sklearn.feature_selection import mutual_info_classif"
   ]
  },
  {
   "cell_type": "code",
   "execution_count": 8,
   "metadata": {},
   "outputs": [],
   "source": [
    "mutual_info = mutual_info_classif(X, y)\n",
    "mutual_info_series = pd.Series(mutual_info, index=X.columns)\n",
    "mutual_info_series.sort_values(ascending=False, inplace=True)"
   ]
  },
  {
   "cell_type": "code",
   "execution_count": 9,
   "metadata": {},
   "outputs": [
    {
     "name": "stdout",
     "output_type": "stream",
     "text": [
      "skewness_gamma_18    0.011257\n",
      "skewness_beta_14     0.010415\n",
      "skewness_gamma_11    0.010331\n",
      "skewness_beta_15     0.007686\n",
      "skewness_alpha_8     0.007178\n",
      "skewness_beta_17     0.006633\n",
      "skewness_beta_11     0.006029\n",
      "skewness_alpha_11    0.005482\n",
      "skewness_beta_3      0.004894\n",
      "skewness_beta_8      0.004793\n",
      "skewness_alpha_14    0.004292\n",
      "skewness_beta_9      0.004264\n",
      "skewness_alpha_4     0.003781\n",
      "skewness_gamma_13    0.003250\n",
      "skewness_alpha_3     0.003025\n",
      "dtype: float64\n"
     ]
    }
   ],
   "source": [
    "print(mutual_info_series[:15])"
   ]
  },
  {
   "cell_type": "code",
   "execution_count": 10,
   "metadata": {},
   "outputs": [
    {
     "data": {
      "image/png": "[encoded data removed]",
      "text/plain": [
       "<Figure size 1152x720 with 1 Axes>"
      ]
     },
     "metadata": {
      "needs_background": "light"
     },
     "output_type": "display_data"
    }
   ],
   "source": [
    "import seaborn as sns\n",
    "from matplotlib import pyplot as plt\n",
    "\n",
    "fig, ax = plt.subplots(figsize=(16, 10))\n",
    "    \n",
    "plt.grid()\n",
    "sns.set(style='darkgrid')\n",
    "plt.grid()\n",
    "sns.barplot(x=mutual_info_series.values[30:45], y=mutual_info_series.index[30:45], alpha=0.5)\n",
    "\n",
    "plt.title(f'Information gain for best 15 features', fontdict = {'fontsize' : 20})\n",
    "plt.savefig(f'data/plots/information_gain/ig_best_15.png', dpi = 300)"
   ]
  },
  {
   "cell_type": "code",
   "execution_count": 11,
   "metadata": {},
   "outputs": [
    {
     "name": "stdout",
     "output_type": "stream",
     "text": [
      "Index(['skewness_gamma_18', 'skewness_beta_14', 'skewness_gamma_11',\n",
      "       'skewness_beta_15', 'skewness_alpha_8', 'skewness_beta_17',\n",
      "       'skewness_beta_11', 'skewness_alpha_11', 'skewness_beta_3',\n",
      "       'skewness_beta_8', 'skewness_alpha_14', 'skewness_beta_9',\n",
      "       'skewness_alpha_4', 'skewness_gamma_13', 'skewness_alpha_3',\n",
      "       'skewness_gamma_7', 'skewness_alpha_9', 'skewness_gamma_14',\n",
      "       'skewness_alpha_13', 'skewness_beta_16', 'skewness_gamma_0',\n",
      "       'skewness_beta_6', 'skewness_alpha_16', 'skewness_gamma_6',\n",
      "       'skewness_alpha_6', 'skewness_alpha_1', 'skewness_beta_2',\n",
      "       'skewness_alpha_12', 'skewness_gamma_1', 'skewness_alpha_10',\n",
      "       'skewness_beta_12', 'skewness_gamma_15', 'Unnamed: 0',\n",
      "       'skewness_gamma_3', 'skewness_beta_10', 'skewness_alpha_5',\n",
      "       'skewness_gamma_12', 'skewness_beta_5', 'skewness_alpha_17',\n",
      "       'skewness_alpha_15', 'skewness_gamma_5', 'skewness_gamma_9',\n",
      "       'skewness_gamma_17', 'skewness_gamma_16', 'skewness_beta_13',\n",
      "       'skewness_alpha_18', 'skewness_gamma_10', 'skewness_beta_7',\n",
      "       'skewness_gamma_8', 'skewness_beta_1', 'skewness_gamma_4',\n",
      "       'skewness_alpha_0', 'skewness_gamma_2', 'skewness_alpha_7',\n",
      "       'skewness_beta_4', 'skewness_beta_18', 'skewness_alpha_2',\n",
      "       'skewness_beta_0'],\n",
      "      dtype='object')\n",
      "skewness_gamma_18\n",
      "0.01125722778246141\n",
      "skewness_beta_14\n",
      "0.010414651541490905\n",
      "skewness_gamma_11\n",
      "0.010331299578126396\n",
      "skewness_beta_15\n",
      "0.007686476611475257\n",
      "skewness_alpha_8\n",
      "0.0071776756087231774\n",
      "skewness_beta_17\n",
      "0.0066325961110142995\n",
      "skewness_beta_11\n",
      "0.006028754258714075\n",
      "skewness_alpha_11\n",
      "0.005481771566006488\n",
      "skewness_beta_3\n",
      "0.004893807930591576\n",
      "skewness_beta_8\n",
      "0.004793432861750713\n",
      "skewness_alpha_14\n",
      "0.004292089467266225\n",
      "skewness_beta_9\n",
      "0.0042636680211134426\n",
      "skewness_alpha_4\n",
      "0.0037811755124161905\n",
      "skewness_gamma_13\n",
      "0.0032495854914036393\n",
      "skewness_alpha_3\n",
      "0.0030247074900739968\n",
      "skewness_gamma_7\n",
      "0.002775474482769047\n",
      "skewness_alpha_9\n",
      "0.0026831853368918246\n",
      "skewness_gamma_14\n",
      "0.002627663306353778\n",
      "skewness_alpha_13\n",
      "0.0024405787934753675\n",
      "skewness_beta_16\n",
      "0.002400005070104072\n",
      "skewness_gamma_0\n",
      "0.002362807921726384\n",
      "skewness_beta_6\n",
      "0.0023250151348515047\n",
      "skewness_alpha_16\n",
      "0.00229006574415469\n",
      "skewness_gamma_6\n",
      "0.0022715280272409544\n",
      "skewness_alpha_6\n",
      "0.00213331410282791\n",
      "skewness_alpha_1\n",
      "0.0019934834590153994\n",
      "skewness_beta_2\n",
      "0.0019503250542487471\n",
      "skewness_alpha_12\n",
      "0.0018300555871555435\n",
      "skewness_gamma_1\n",
      "0.0016240690242677047\n",
      "skewness_alpha_10\n",
      "0.001420528555224676\n",
      "skewness_beta_12\n",
      "0.001201820251231167\n",
      "skewness_gamma_15\n",
      "0.001199059792791779\n",
      "Unnamed: 0\n",
      "0.0010718554968454086\n",
      "skewness_gamma_3\n",
      "0.0010695263393223353\n",
      "skewness_beta_10\n",
      "0.0008414128064300197\n",
      "skewness_alpha_5\n",
      "0.0008079840616177503\n",
      "skewness_gamma_12\n",
      "0.0005048824394351392\n",
      "skewness_beta_5\n",
      "0.00038395283771719413\n",
      "skewness_alpha_17\n",
      "0.0003010265408835977\n",
      "skewness_alpha_15\n",
      "0.0002206570179668077\n",
      "skewness_gamma_5\n",
      "2.5829158619705694e-05\n",
      "skewness_gamma_9\n",
      "0.0\n",
      "skewness_gamma_17\n",
      "0.0\n",
      "skewness_gamma_16\n",
      "0.0\n",
      "skewness_beta_13\n",
      "0.0\n",
      "skewness_alpha_18\n",
      "0.0\n",
      "skewness_gamma_10\n",
      "0.0\n",
      "skewness_beta_7\n",
      "0.0\n",
      "skewness_gamma_8\n",
      "0.0\n",
      "skewness_beta_1\n",
      "0.0\n",
      "skewness_gamma_4\n",
      "0.0\n",
      "skewness_alpha_0\n",
      "0.0\n",
      "skewness_gamma_2\n",
      "0.0\n",
      "skewness_alpha_7\n",
      "0.0\n",
      "skewness_beta_4\n",
      "0.0\n",
      "skewness_beta_18\n",
      "0.0\n",
      "skewness_alpha_2\n",
      "0.0\n",
      "skewness_beta_0\n",
      "0.0\n"
     ]
    }
   ],
   "source": [
    "print(mutual_info_series.index)\n",
    "for i, m in enumerate(mutual_info_series.index):\n",
    "    first = m.split('_')[0]\n",
    "    if first != 'hjorth':\n",
    "        print(mutual_info_series.index[i])\n",
    "        print(mutual_info_series.values[i])"
   ]
  }
 ],
 "metadata": {
  "kernelspec": {
   "display_name": "base",
   "language": "python",
   "name": "python3"
  },
  "language_info": {
   "codemirror_mode": {
    "name": "ipython",
    "version": 3
   },
   "file_extension": ".py",
   "mimetype": "text/x-python",
   "name": "python",
   "nbconvert_exporter": "python",
   "pygments_lexer": "ipython3",
   "version": "3.8.8"
  },
  "orig_nbformat": 4
 },
 "nbformat": 4,
 "nbformat_minor": 2
}
