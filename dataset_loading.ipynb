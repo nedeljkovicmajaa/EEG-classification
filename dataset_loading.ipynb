{
 "cells": [
  {
   "cell_type": "code",
   "execution_count": 1,
   "metadata": {},
   "outputs": [],
   "source": [
    "from scipy.io import loadmat\n",
    "from matplotlib import pyplot as plt\n",
    "import pandas as pd\n",
    "import numpy as np"
   ]
  },
  {
   "cell_type": "code",
   "execution_count": 2,
   "metadata": {},
   "outputs": [],
   "source": [
    "def load_subject_data(index):\n",
    "\n",
    "    ind_str = \"\"\n",
    "    if index < 10: ind_str = \"00\"+str(index)\n",
    "    if index >= 10: ind_str = \"0\"+str(index)\n",
    "\n",
    "    path = \"..\\dataset\\derivatives\\sub-\" + ind_str + \"\\eeg\\sub-\" + ind_str + \"_task-eyesclosed_eeg.set\"\n",
    "    data = loadmat(path)\n",
    "\n",
    "    return data"
   ]
  },
  {
   "cell_type": "code",
   "execution_count": 3,
   "metadata": {},
   "outputs": [],
   "source": [
    "%matplotlib qt"
   ]
  },
  {
   "cell_type": "code",
   "execution_count": 4,
   "metadata": {},
   "outputs": [],
   "source": [
    "def plot_sub_data(data, window):\n",
    "    one_chanel = data['data'][1]\n",
    "    times = data['times'].T\n",
    "\n",
    "    plt.plot(times, one_chanel)\n",
    "    plt.show()\n",
    "\n",
    "window = [5000, 10000]\n",
    "data = load_subject_data(17)\n",
    "plot_sub_data(data, window)\n",
    "data = load_subject_data(37)\n",
    "plot_sub_data(data, window)"
   ]
  },
  {
   "cell_type": "code",
   "execution_count": 5,
   "metadata": {},
   "outputs": [],
   "source": [
    "mmse = pd.read_csv('..\\dataset\\participants.tsv', sep='\\t')\n",
    "\n",
    "subject_list = mmse['participant_id']\n",
    "means = np.zeros((len(subject_list), 1))\n",
    "stds = np.zeros((len(subject_list), 1))\n",
    "\n",
    "mmse_score = mmse['MMSE']\n",
    "\n",
    "for sub in subject_list:\n",
    "    sub_int = int(sub[4:])\n",
    "    data = load_subject_data(sub_int)\n",
    "    eeg = data['data'][0]\n",
    "\n",
    "    means[sub_int-1] = np.mean(eeg)\n",
    "    stds[sub_int-1] = np.std(eeg)\n",
    "\n",
    "plt.scatter(mmse_score, means)\n",
    "plt.show()\n",
    "plt.scatter(mmse_score, stds)\n",
    "plt.show()"
   ]
  },
  {
   "cell_type": "code",
   "execution_count": 6,
   "metadata": {},
   "outputs": [],
   "source": [
    "usefull_keys = ['data', 'times', 'group']\n",
    "\n",
    "def create_dict_subject(index, usefull_keys):\n",
    "    usefull_data_dict = {}\n",
    "    data = load_subject_data(index)\n",
    "\n",
    "    for key in usefull_keys:\n",
    "        if key == 'data':\n",
    "            for i in range(data[key].shape[0]):\n",
    "                usefull_data_dict['ch' + str(i)] = [data[key][i].T]\n",
    "        elif key == 'times':\n",
    "            usefull_data_dict[key] = [np.squeeze(data[key])]\n",
    "        elif key == 'group':\n",
    "            usefull_data_dict[key] = data[key][0]\n",
    "        else:\n",
    "            usefull_data_dict[key] = [data[key]]\n",
    "\n",
    "    mmse = pd.read_csv('..\\dataset\\participants.tsv', sep='\\t')\n",
    "    mmse_score = mmse['MMSE']\n",
    "\n",
    "    usefull_data_dict['MMSE'] = mmse_score[index-1]\n",
    "\n",
    "    return usefull_data_dict"
   ]
  },
  {
   "cell_type": "code",
   "execution_count": 7,
   "metadata": {},
   "outputs": [],
   "source": [
    "n_subjects = len(subject_list)\n",
    "\n",
    "def save_data(path):\n",
    "    df = pd.DataFrame(columns = ['ch'+str(i) for i in range(19)] + ['times','group','MMSE'])\n",
    "    for i in range(n_subjects):\n",
    "        subject_data_dict = create_dict_subject(i+1, usefull_keys)\n",
    "        df = df.append(subject_data_dict, ignore_index=True)\n",
    "    print(df.head())\n",
    "    df.to_csv(path)\n",
    "    \n",
    "# save_data(\"..\\\\all_subjects.csv\")"
   ]
  },
  {
   "cell_type": "code",
   "execution_count": null,
   "metadata": {},
   "outputs": [],
   "source": [
    "def create_data_matrix(index):\n",
    "    data = load_subject_data(index)"
   ]
  }
 ],
 "metadata": {
  "kernelspec": {
   "display_name": "base",
   "language": "python",
   "name": "python3"
  },
  "language_info": {
   "codemirror_mode": {
    "name": "ipython",
    "version": 3
   },
   "file_extension": ".py",
   "mimetype": "text/x-python",
   "name": "python",
   "nbconvert_exporter": "python",
   "pygments_lexer": "ipython3",
   "version": "3.9.13"
  },
  "orig_nbformat": 4
 },
 "nbformat": 4,
 "nbformat_minor": 2
}
