{
 "cells": [
  {
   "cell_type": "code",
   "execution_count": 19,
   "metadata": {},
   "outputs": [],
   "source": [
    "import sys\n",
    "sys.path.append('../')\n",
    "from data_loader import DataLoader\n",
    "import random\n",
    "from feature_selector import BaselineSelector\n",
    "from feature_selector import FeatureExtractor\n",
    "import numpy as np"
   ]
  },
  {
   "cell_type": "code",
   "execution_count": 25,
   "metadata": {},
   "outputs": [
    {
     "data": {
      "text/plain": [
       "(19, 2500)"
      ]
     },
     "execution_count": 25,
     "metadata": {},
     "output_type": "execute_result"
    }
   ],
   "source": [
    "# file path to our dataset to all epoches of all participants\n",
    "data_path = \"../data/dataset\"\n",
    "\n",
    "# create a data loader for all participants\n",
    "par_loaders = [0] * 88\n",
    "for i in range(88):\n",
    "    par_loaders[i] = DataLoader(data_path, [i])\n",
    "\n",
    "# returns all data of all epochs for participant one \n",
    "participants = par_loaders[0][:]\n",
    "# returns data of the first epoch for participant one for all channels\n",
    "participant1 = participants[0]['data']"
   ]
  },
  {
   "cell_type": "code",
   "execution_count": 37,
   "metadata": {},
   "outputs": [
    {
     "data": {
      "text/plain": [
       "[[1],\n",
       " [1],\n",
       " [1],\n",
       " [1],\n",
       " [1],\n",
       " [1],\n",
       " [1],\n",
       " [1],\n",
       " [1],\n",
       " [1],\n",
       " [1],\n",
       " [1],\n",
       " [1],\n",
       " [1],\n",
       " [1],\n",
       " [1],\n",
       " [1],\n",
       " [1],\n",
       " [1]]"
      ]
     },
     "execution_count": 37,
     "metadata": {},
     "output_type": "execute_result"
    }
   ],
   "source": [
    "selector1 = BaselineSelector()\n",
    "selector1.selectFeatures(['mean'])\n",
    "\n",
    "channel_means = [[]] * 19\n",
    "channel_means[0].append(1)\n",
    "channel_means"
   ]
  },
  {
   "cell_type": "code",
   "execution_count": null,
   "metadata": {},
   "outputs": [],
   "source": [
    "for participant in par_loaders:\n",
    "    for epoch in participant[:]:\n",
    "        for channel in range(19):\n",
    "            epoch_data = epoch['data'][channel]\n",
    "            out1 = selector1.transform(epoch_data)\n",
    "            extractor = FeatureExtractor()\n",
    "            mean_par = np.mean(out1)\n",
    "\n",
    "    means.append(mean_par)\n",
    "print(means)"
   ]
  }
 ],
 "metadata": {
  "kernelspec": {
   "display_name": "base",
   "language": "python",
   "name": "python3"
  },
  "language_info": {
   "codemirror_mode": {
    "name": "ipython",
    "version": 3
   },
   "file_extension": ".py",
   "mimetype": "text/x-python",
   "name": "python",
   "nbconvert_exporter": "python",
   "pygments_lexer": "ipython3",
   "version": "3.8.8"
  },
  "orig_nbformat": 4
 },
 "nbformat": 4,
 "nbformat_minor": 2
}
