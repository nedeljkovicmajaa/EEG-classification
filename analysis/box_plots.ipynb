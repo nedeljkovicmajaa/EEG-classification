{
 "cells": [
  {
   "cell_type": "code",
   "execution_count": 272,
   "metadata": {},
   "outputs": [],
   "source": [
    "import sys\n",
    "sys.path.append('../')\n",
    "from data_loader import DataLoader\n",
    "import random\n",
    "from feature_selector import BaselineSelector\n",
    "from feature_selector import AnalysisSelector\n",
    "from feature_selector import FeatureExtractor\n",
    "import numpy as np\n",
    "import pandas as pd\n",
    "import seaborn as sns\n",
    "import matplotlib.pyplot as plt\n",
    "import scipy"
   ]
  },
  {
   "cell_type": "code",
   "execution_count": 273,
   "metadata": {},
   "outputs": [],
   "source": [
    "# file path to our dataset to all epoches of all participants\n",
    "data_path = \"../data/dataset\"\n",
    "\n",
    "# create a data loader for all participants\n",
    "par_loaders = [0] * 88\n",
    "for i in range(88):\n",
    "    par_loaders[i] = DataLoader(data_path, [i])\n",
    "\n",
    "# returns all data of all epochs for participant one \n",
    "participants = par_loaders[0][:]\n",
    "# returns data of the first epoch for participant one for all channels\n",
    "participant1 = participants[0]['data']"
   ]
  },
  {
   "cell_type": "code",
   "execution_count": 274,
   "metadata": {},
   "outputs": [],
   "source": [
    "selector1 = BaselineSelector()\n",
    "selector2 = AnalysisSelector()\n",
    "selector1.selectFeatures(['kurtosis'])\n",
    "selector2.selectFeatures(['hjorth_params'], bands=['alpha'], params=['activity'])\n",
    "\n",
    "channel_means_A = {}\n",
    "channel_means_C = {}\n",
    "channel_means_F = {}\n",
    "for channel in range(19):\n",
    "    channel_means_A[channel] = []\n",
    "    channel_means_C[channel] = []\n",
    "    channel_means_F[channel] = []"
   ]
  },
  {
   "cell_type": "code",
   "execution_count": 275,
   "metadata": {},
   "outputs": [],
   "source": [
    "for participant in par_loaders:\n",
    "    x = {}\n",
    "    for channel in range(19):\n",
    "        x[channel] = []\n",
    "    \n",
    "    for epoch in participant[:]:\n",
    "        epoch_data = epoch['data']\n",
    "        out1 = selector2.transform(epoch_data)\n",
    "        \n",
    "        for channel in range(19):\n",
    "            x[channel].append(out1['hjorth_params_activity'][channel])\n",
    "    \n",
    "    for channel in range(19):\n",
    "        if participant[0]['group'] == 'A':\n",
    "            channel_means_A[channel].append(np.mean(x[channel]))\n",
    "        elif participant[0]['group'] == 'C':\n",
    "            channel_means_C[channel].append(np.mean(x[channel]))\n",
    "        elif participant[0]['group'] == 'F':\n",
    "            channel_means_F[channel].append(np.mean(x[channel]))\n",
    "    \n",
    "    "
   ]
  },
  {
   "cell_type": "code",
   "execution_count": 276,
   "metadata": {},
   "outputs": [],
   "source": [
    "channel_means_A_df = pd.DataFrame(channel_means_A)\n",
    "channel_means_C_df = pd.DataFrame(channel_means_C)\n",
    "channel_means_F_df = pd.DataFrame(channel_means_F)"
   ]
  },
  {
   "cell_type": "code",
   "execution_count": 321,
   "metadata": {},
   "outputs": [],
   "source": [
    "ch = 7\n",
    "data_ch = {}\n",
    "data_ch = pd.DataFrame({'A': channel_means_A_df[ch], 'C': channel_means_C_df[ch], 'F': channel_means_F_df[ch]})"
   ]
  },
  {
   "cell_type": "code",
   "execution_count": 323,
   "metadata": {},
   "outputs": [
    {
     "data": {
      "image/png": "[encoded data removed]",
      "text/plain": [
       "<Figure size 720x432 with 1 Axes>"
      ]
     },
     "metadata": {},
     "output_type": "display_data"
    }
   ],
   "source": [
    "#set style and figure size\n",
    "sns.set(rc={'figure.figsize':(10,6)})\n",
    "sns.set(style=\"darkgrid\")\n",
    "\n",
    "#plot the boxplot and stripplot\n",
    "ax = sns.boxplot(data = data_ch)\n",
    "ax = sns.stripplot(data=data_ch, color=\"orange\", jitter=0.2, size=2.5)\n",
    "#ax = sns.violinplot(data = data_ch) \n",
    "\n",
    "#set title and axis labels\n",
    "ax.set(xlabel='group', ylabel='activity', title='Hjorth param activity of alpha band of channel '+str(ch)+' for all groups')\n",
    "\n",
    "#set y limits\n",
    "#ax.set_ylim(-10, 40)\n",
    "\n",
    "# adding transparency to colors\n",
    "for patch in ax.artists:\n",
    "    r, g, b, a = patch.get_facecolor()\n",
    "    patch.set_facecolor((r, g, b, .3))\n",
    "\n",
    "plt.show()"
   ]
  },
  {
   "cell_type": "code",
   "execution_count": null,
   "metadata": {},
   "outputs": [],
   "source": []
  }
 ],
 "metadata": {
  "kernelspec": {
   "display_name": "base",
   "language": "python",
   "name": "python3"
  },
  "language_info": {
   "codemirror_mode": {
    "name": "ipython",
    "version": 3
   },
   "file_extension": ".py",
   "mimetype": "text/x-python",
   "name": "python",
   "nbconvert_exporter": "python",
   "pygments_lexer": "ipython3",
   "version": "3.8.8"
  },
  "orig_nbformat": 4
 },
 "nbformat": 4,
 "nbformat_minor": 2
}
