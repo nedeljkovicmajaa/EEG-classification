{
 "cells": [
  {
   "cell_type": "code",
   "execution_count": null,
   "metadata": {},
   "outputs": [],
   "source": [
    "%run eda.ipynb import *"
   ]
  },
  {
   "cell_type": "code",
   "execution_count": 3,
   "metadata": {},
   "outputs": [],
   "source": [
    "import feature_selector as fs\n",
    "import data_loader as dl"
   ]
  },
  {
   "cell_type": "code",
   "execution_count": 6,
   "metadata": {},
   "outputs": [],
   "source": [
    "data_path = \"./data/dataset\"\n",
    "participant_ids = list(range(88))\n",
    "random.shuffle(participant_ids)\n",
    "\n",
    "train_ids = participant_ids[:80]\n",
    "test_ids = participant_ids[80:]\n",
    "\n",
    "train_loader = DataLoader(data_path, train_ids)\n",
    "test_loader = DataLoader(data_path, test_ids)\n",
    "\n",
    "selector1 = fs.BaselineSelector()\n",
    "selector1.selectFeatures(['mean', 'kurtosis'])\n",
    "out1 = selector1.transform(arr)"
   ]
  },
  {
   "cell_type": "code",
   "execution_count": null,
   "metadata": {},
   "outputs": [],
   "source": []
  }
 ],
 "metadata": {
  "kernelspec": {
   "display_name": "base",
   "language": "python",
   "name": "python3"
  },
  "language_info": {
   "codemirror_mode": {
    "name": "ipython",
    "version": 3
   },
   "file_extension": ".py",
   "mimetype": "text/x-python",
   "name": "python",
   "nbconvert_exporter": "python",
   "pygments_lexer": "ipython3",
   "version": "3.8.8"
  },
  "orig_nbformat": 4
 },
 "nbformat": 4,
 "nbformat_minor": 2
}
