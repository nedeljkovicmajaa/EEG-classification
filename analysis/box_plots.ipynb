{
 "cells": [
  {
   "cell_type": "code",
   "execution_count": 181,
   "metadata": {},
   "outputs": [],
   "source": [
    "import sys\n",
    "sys.path.append('../')\n",
    "from data_loader import DataLoader\n",
    "import random\n",
    "from feature_selector import BaselineSelector\n",
    "from feature_selector import FeatureExtractor\n",
    "import numpy as np\n",
    "import pandas as pd\n",
    "import seaborn as sns\n",
    "import matplotlib.pyplot as plt\n",
    "import scipy"
   ]
  },
  {
   "cell_type": "code",
   "execution_count": 159,
   "metadata": {},
   "outputs": [],
   "source": [
    "# file path to our dataset to all epoches of all participants\n",
    "data_path = \"../data/dataset\"\n",
    "\n",
    "# create a data loader for all participants\n",
    "par_loaders = [0] * 88\n",
    "for i in range(88):\n",
    "    par_loaders[i] = DataLoader(data_path, [i])\n",
    "\n",
    "# returns all data of all epochs for participant one \n",
    "participants = par_loaders[0][:]\n",
    "# returns data of the first epoch for participant one for all channels\n",
    "participant1 = participants[0]['data']"
   ]
  },
  {
   "cell_type": "code",
   "execution_count": 178,
   "metadata": {},
   "outputs": [],
   "source": [
    "selector1 = BaselineSelector()\n",
    "selector1.selectFeatures(['kurtosis'])\n",
    "\n",
    "channel_means_A = {}\n",
    "channel_means_C = {}\n",
    "channel_means_F = {}\n",
    "for channel in range(19):\n",
    "    channel_means_A[channel] = []\n",
    "    channel_means_C[channel] = []\n",
    "    channel_means_F[channel] = []"
   ]
  },
  {
   "cell_type": "code",
   "execution_count": 182,
   "metadata": {},
   "outputs": [],
   "source": [
    "for participant in par_loaders:\n",
    "    x = {}\n",
    "    for channel in range(19):\n",
    "        x[channel] = []\n",
    "    \n",
    "    for epoch in participant[:]:\n",
    "        epoch_data = epoch['data']\n",
    "        out1 = selector1.transform(epoch_data)\n",
    "        for channel in range(19):\n",
    "            x[channel].append(out1[channel])\n",
    "\n",
    "    for channel in range(19):\n",
    "        if participant[0]['group'] == 'A':\n",
    "            channel_means_A[channel].append(scipy.stats.kurtosis(x[channel]))\n",
    "        elif participant[0]['group'] == 'C':\n",
    "            channel_means_C[channel].append(scipy.stats.kurtosis(x[channel]))\n",
    "        elif participant[0]['group'] == 'F':\n",
    "            channel_means_F[channel].append(scipy.stats.kurtosis(x[channel]))\n",
    "    "
   ]
  },
  {
   "cell_type": "code",
   "execution_count": 183,
   "metadata": {},
   "outputs": [],
   "source": [
    "channel_means_A_df = pd.DataFrame.from_dict(channel_means_A)\n",
    "channel_means_C_df = pd.DataFrame.from_dict(channel_means_C)\n",
    "channel_means_F_df = pd.DataFrame.from_dict(channel_means_F)"
   ]
  },
  {
   "cell_type": "code",
   "execution_count": 191,
   "metadata": {},
   "outputs": [],
   "source": [
    "ch = 15\n",
    "data_ch = pd.DataFrame({'A': channel_means_A_df[ch], 'C': channel_means_C_df[ch], 'F': channel_means_F_df[ch]})"
   ]
  },
  {
   "cell_type": "code",
   "execution_count": 194,
   "metadata": {},
   "outputs": [
    {
     "data": {
      "image/png": "[encoded data removed]",
      "text/plain": [
       "<Figure size 720x432 with 1 Axes>"
      ]
     },
     "metadata": {},
     "output_type": "display_data"
    }
   ],
   "source": [
    "sns.set(rc={'figure.figsize':(10,6)})\n",
    "sns.set(style=\"darkgrid\")\n",
    "ax = sns.barplot(data = data_ch)\n",
    "ax.set(xlabel='group', ylabel='kurtosis')\n",
    "plt.show()"
   ]
  }
 ],
 "metadata": {
  "kernelspec": {
   "display_name": "base",
   "language": "python",
   "name": "python3"
  },
  "language_info": {
   "codemirror_mode": {
    "name": "ipython",
    "version": 3
   },
   "file_extension": ".py",
   "mimetype": "text/x-python",
   "name": "python",
   "nbconvert_exporter": "python",
   "pygments_lexer": "ipython3",
   "version": "3.8.8"
  },
  "orig_nbformat": 4
 },
 "nbformat": 4,
 "nbformat_minor": 2
}
