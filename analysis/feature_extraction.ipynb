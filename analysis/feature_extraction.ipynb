{
 "cells": [
  {
   "cell_type": "code",
   "execution_count": 6,
   "metadata": {},
   "outputs": [],
   "source": [
    "#libraries\n",
    "from scipy.signal import butter, filtfilt, spectrogram\n",
    "import scipy.signal as sis\n",
    "import scipy.stats as ss\n",
    "import pandas as pd\n",
    "import numpy as np\n",
    "import sys\n",
    "import os\n",
    "\n",
    "sys.path.append(os.path.abspath(os.path.join(os.getcwd(), os.pardir)))\n",
    "\n",
    "from Participants import Participants\n",
    "from feature_selector import FeatureSelector, FeatureExtractor\n",
    "from data_loader import DataLoader"
   ]
  },
  {
   "cell_type": "code",
   "execution_count": 7,
   "metadata": {},
   "outputs": [],
   "source": [
    "# %matplotlib qt"
   ]
  },
  {
   "attachments": {},
   "cell_type": "markdown",
   "metadata": {},
   "source": [
    "#### Loading dataset"
   ]
  },
  {
   "cell_type": "code",
   "execution_count": 8,
   "metadata": {},
   "outputs": [],
   "source": [
    "participant = Participants(\"C:\\\\Users\\\\DELL\\\\Documents\\\\Onlajn nastava\\\\Treća godina\\\\Šesti semestar\\\\AES\\\\Projekat\\\\EEG-classification\\\\data\\\\participants\")"
   ]
  },
  {
   "cell_type": "code",
   "execution_count": 66,
   "metadata": {},
   "outputs": [
    {
     "data": {
      "text/plain": [
       "(299900,)"
      ]
     },
     "execution_count": 66,
     "metadata": {},
     "output_type": "execute_result"
    }
   ],
   "source": [
    "signal = participant[0][0][10]\n",
    "signal1 = participant[0][0][0]\n",
    "signal.shape"
   ]
  },
  {
   "attachments": {},
   "cell_type": "markdown",
   "metadata": {},
   "source": [
    "#### EEG rhythms:\n",
    "$\\alpha = 8-13 \\text{Hz}, \\ \\ \\beta = 13-30 \\text{Hz},  \\ \\ \\delta = 0.5-4 \\text{Hz},  \\ \\ \\theta = 4-8 \\text{Hz},  \\ \\ \\gamma = 30-60 \\text{Hz}$ "
   ]
  },
  {
   "cell_type": "code",
   "execution_count": 57,
   "metadata": {},
   "outputs": [],
   "source": [
    "def bandpass_filter(signal, low_cutoff, high_cutoff, sample_rate, order=5):\n",
    "    nyquist_freq = 0.5 * sample_rate\n",
    "    low = low_cutoff / nyquist_freq\n",
    "    high = high_cutoff / nyquist_freq\n",
    "    b, a = butter(order, [low, high], btype='band')\n",
    "    filtered_signal = filtfilt(b, a, signal)\n",
    "    return filtered_signal"
   ]
  },
  {
   "cell_type": "code",
   "execution_count": 58,
   "metadata": {},
   "outputs": [],
   "source": [
    "fs = 500\n",
    "N = len(signal) \n",
    "time = np.arange(N) / fs"
   ]
  },
  {
   "cell_type": "code",
   "execution_count": 59,
   "metadata": {},
   "outputs": [],
   "source": [
    "alpha_rhythm = bandpass_filter(signal, 8, 13, fs)\n",
    "beta_rhythm = bandpass_filter(signal, 13, 30, fs)\n",
    "delta_rhythm = bandpass_filter(signal, 0.5, 4, fs)\n",
    "theta_rhythm = bandpass_filter(signal, 4, 8, fs)\n",
    "gamma_rhythm = bandpass_filter(signal, 30, 60, fs)"
   ]
  },
  {
   "cell_type": "code",
   "execution_count": 60,
   "metadata": {},
   "outputs": [
    {
     "data": {
      "text/plain": [
       "<matplotlib.legend.Legend at 0x1e14ce3b9a0>"
      ]
     },
     "execution_count": 60,
     "metadata": {},
     "output_type": "execute_result"
    }
   ],
   "source": [
    "from matplotlib import pyplot as plt\n",
    "\n",
    "plt.figure(1)\n",
    "plt.plot(time, signal)\n",
    "plt.legend()"
   ]
  },
  {
   "cell_type": "code",
   "execution_count": 61,
   "metadata": {},
   "outputs": [],
   "source": [
    "from scipy.io import loadmat\n",
    "data = loadmat(r\"C:\\Users\\DELL\\Documents\\Onlajn nastava\\Treća godina\\Šesti semestar\\AES\\Projekat\\dataset\\sub-001\\eeg\\sub-001_task-eyesclosed_eeg.set\")"
   ]
  },
  {
   "cell_type": "code",
   "execution_count": 67,
   "metadata": {},
   "outputs": [
    {
     "data": {
      "text/plain": [
       "(299900,)"
      ]
     },
     "execution_count": 67,
     "metadata": {},
     "output_type": "execute_result"
    }
   ],
   "source": [
    "signal_raw = data['data'][10]\n",
    "signal_raw1 = data['data'][0]\n",
    "signal_raw.shape"
   ]
  },
  {
   "cell_type": "code",
   "execution_count": 68,
   "metadata": {},
   "outputs": [],
   "source": [
    "%matplotlib qt"
   ]
  },
  {
   "cell_type": "code",
   "execution_count": 74,
   "metadata": {},
   "outputs": [
    {
     "data": {
      "text/plain": [
       "<matplotlib.legend.Legend at 0x1e1606a0250>"
      ]
     },
     "execution_count": 74,
     "metadata": {},
     "output_type": "execute_result"
    }
   ],
   "source": [
    "from matplotlib import pyplot as plt\n",
    "\n",
    "plt.figure(1)\n",
    "plt.plot(time, signal, label='Processed')\n",
    "plt.plot(time, signal_raw, label='Raw')\n",
    "plt.legend()\n",
    "\n",
    "plt.figure(4)\n",
    "plt.plot(time, signal1, label='Processed')\n",
    "plt.plot(time, signal_raw1, label='Raw')\n",
    "plt.legend()"
   ]
  },
  {
   "cell_type": "code",
   "execution_count": 75,
   "metadata": {},
   "outputs": [],
   "source": [
    "def plot_spect(data, N, fs, label):\n",
    "    freq_data = 2 * (np.fft.fft(data) / N)[:N//2+1]\n",
    "    freqs = np.fft.fftfreq(N, 1/fs)[:N//2+1]\n",
    "    plt.plot(freqs, np.abs(freq_data), label=label)\n",
    "    plt.xlabel('Frequency (Hz)')\n",
    "    plt.ylabel('Magnitude')\n",
    "    plt.xlim([0, 70])\n",
    "    plt.title('One-Sided Spectrum')\n",
    "    plt.legend()\n",
    "    plt.show()"
   ]
  },
  {
   "cell_type": "code",
   "execution_count": 76,
   "metadata": {},
   "outputs": [],
   "source": [
    "plt.figure(2)\n",
    "plot_spect(signal_raw, N, fs, 'raw')\n",
    "plot_spect(signal, N, fs, 'processed')\n"
   ]
  },
  {
   "cell_type": "code",
   "execution_count": 77,
   "metadata": {},
   "outputs": [],
   "source": [
    "plt.figure(3)\n",
    "plot_spect(signal_raw1, N, fs, 'raw')\n",
    "plot_spect(signal1, N, fs, 'processed')\n"
   ]
  },
  {
   "attachments": {},
   "cell_type": "markdown",
   "metadata": {},
   "source": [
    "#### Comparing basic features between subjects"
   ]
  },
  {
   "cell_type": "code",
   "execution_count": 78,
   "metadata": {},
   "outputs": [],
   "source": [
    "n_channels = participant[0][0].shape[0]\n",
    "n_participants = len(participant.name)"
   ]
  },
  {
   "cell_type": "code",
   "execution_count": 79,
   "metadata": {},
   "outputs": [
    {
     "name": "stdout",
     "output_type": "stream",
     "text": [
      "MMSE score of first subject is 4 and of second 30\n"
     ]
    }
   ],
   "source": [
    "sub1, sub2 = 19, 41\n",
    "signal0 = participant[sub1][0][0]\n",
    "signal1 = participant[sub2][0][0]\n",
    "print(\"MMSE score of first subject is {} and of second {}\".format(participant[sub1][4], participant[sub2][4]))"
   ]
  },
  {
   "attachments": {},
   "cell_type": "markdown",
   "metadata": {},
   "source": [
    "### Comparing amplitudes of alpha and theta rhythms"
   ]
  },
  {
   "cell_type": "code",
   "execution_count": 51,
   "metadata": {},
   "outputs": [],
   "source": [
    "def get_power_band(band, participant_id = -1, channel = -1):\n",
    "    band_to_freq = {'alpha':[8, 13], 'beta':[13, 30], 'theta':[4, 8]}\n",
    "    freq = band_to_freq[band]\n",
    "\n",
    "    powers = np.empty(n_participants)\n",
    "    if participant_id == -1 and channel == -1:\n",
    "        for i in range(n_participants):\n",
    "            for j in range(n_channels):\n",
    "                signal = participant[i][0][j]\n",
    "                signal = bandpass_filter(signal, freq[0], freq[1], fs)\n",
    "                powers[i] += np.sum(np.square(signal))/len(signal)\n",
    "            powers[i] /= n_channels\n",
    "    return powers"
   ]
  },
  {
   "cell_type": "code",
   "execution_count": 52,
   "metadata": {},
   "outputs": [
    {
     "data": {
      "text/plain": [
       "117.82504690224236"
      ]
     },
     "execution_count": 52,
     "metadata": {},
     "output_type": "execute_result"
    }
   ],
   "source": [
    "band = 'alpha'\n",
    "powers = get_power_band(band)\n",
    "np.max(powers)"
   ]
  },
  {
   "cell_type": "code",
   "execution_count": 53,
   "metadata": {},
   "outputs": [
    {
     "data": {
      "text/plain": [
       "<AxesSubplot:xlabel='power', ylabel='Count'>"
      ]
     },
     "execution_count": 53,
     "metadata": {},
     "output_type": "execute_result"
    }
   ],
   "source": [
    "import seaborn as sns\n",
    "\n",
    "groups = [participant[i][3] for i in range(n_participants)]\n",
    "data = pd.DataFrame({'power':powers, 'group':groups})\n",
    "fig, axs = plt.subplots(1, 3)\n",
    "\n",
    "fig.suptitle(\"Distribution of signal power in {} band, all chanels combined\".format(band))\n",
    "sns.histplot(ax = axs[0], data=data[data['group']=='C'], x = \"power\", hue = \"group\")\n",
    "# axs[0].set_xlim([0, 80])\n",
    "# axs[0].set_ylim([0, 15])\n",
    "sns.histplot(ax = axs[1], data=data[data['group']=='F'], x = \"power\", hue = \"group\")\n",
    "# axs[1].set_xlim([0, 80])\n",
    "# axs[1].set_ylim([0, 15])\n",
    "sns.histplot(ax = axs[2], data=data[data['group']=='A'], x = \"power\", hue = \"group\")\n",
    "# axs[2].set_xlim([0, 80])\n",
    "# axs[2].set_ylim([0, 15])"
   ]
  },
  {
   "cell_type": "code",
   "execution_count": 54,
   "metadata": {},
   "outputs": [],
   "source": [
    "def get_group_power_data(data, group):\n",
    "    return np.array(data[data['group']==group]['power'])"
   ]
  },
  {
   "cell_type": "code",
   "execution_count": 55,
   "metadata": {},
   "outputs": [
    {
     "name": "stdout",
     "output_type": "stream",
     "text": [
      "std of power in alpha band for group C is 25.220679706617528\n",
      "std of power in alpha band for group F is 10.82436333956598\n",
      "std of power in alpha band for group A is 9.870373639076542\n",
      "mean of power in alpha band for group C is 36.4002822154619\n",
      "mean of power in alpha band for group F is 20.612768438375443\n",
      "mean of power in alpha band for group A is 19.90033698658212\n"
     ]
    }
   ],
   "source": [
    "group_names = ['C', 'F', 'A']\n",
    "stds, means = {}, {}\n",
    "for g in group_names:\n",
    "    stds[g] = np.std(get_group_power_data(data, g))\n",
    "    print('std of power in alpha band for group {} is {}'.format(g, np.std(get_group_power_data(data, g))))\n",
    "for g in group_names:\n",
    "    means[g] = np.mean(get_group_power_data(data, g))\n",
    "    print('mean of power in alpha band for group {} is {}'.format(g, np.mean(get_group_power_data(data, g))))"
   ]
  },
  {
   "attachments": {},
   "cell_type": "markdown",
   "metadata": {},
   "source": [
    "#### Wavelet transform and PSD"
   ]
  },
  {
   "cell_type": "code",
   "execution_count": 50,
   "metadata": {},
   "outputs": [
    {
     "name": "stdout",
     "output_type": "stream",
     "text": [
      "Shape of original signal: (434650,)\n",
      "Shape of signal divided into epochs: (346, 2500)\n"
     ]
    }
   ],
   "source": [
    "import pywt\n",
    "\n",
    "# first we divide signal in epochs with overlap\n",
    "\n",
    "epoch_length = 5*fs\n",
    "overlap_length = int(2.5*fs)\n",
    "\n",
    "signal = participant[sub1][0][0]\n",
    "print(\"Shape of original signal: \" + str(signal.shape))\n",
    "signal_epochs = np.array([signal[i:i+epoch_length] for i in range(0, len(signal)-epoch_length+1, overlap_length)])\n",
    "print(\"Shape of signal divided into epochs: \" + str(signal_epochs.shape))"
   ]
  },
  {
   "cell_type": "code",
   "execution_count": 71,
   "metadata": {},
   "outputs": [
    {
     "ename": "AttributeError",
     "evalue": "module 'pywt' has no attribute 'power_spectrum'",
     "output_type": "error",
     "traceback": [
      "\u001b[1;31m---------------------------------------------------------------------------\u001b[0m",
      "\u001b[1;31mAttributeError\u001b[0m                            Traceback (most recent call last)",
      "Cell \u001b[1;32mIn[71], line 9\u001b[0m\n\u001b[0;32m      6\u001b[0m detail_coeffs \u001b[39m=\u001b[39m coeffs[\u001b[39m1\u001b[39m:]\n\u001b[0;32m      8\u001b[0m freqs \u001b[39m=\u001b[39m np\u001b[39m.\u001b[39mlinspace(\u001b[39m0\u001b[39m, \u001b[39m500\u001b[39m, \u001b[39mlen\u001b[39m(signal))\n\u001b[1;32m----> 9\u001b[0m psd_approx, freqs \u001b[39m=\u001b[39m pywt\u001b[39m.\u001b[39;49mpower_spectrum(approx_coeffs, fs\u001b[39m=\u001b[39m\u001b[39m500\u001b[39m)\n\u001b[0;32m     10\u001b[0m psd_detail \u001b[39m=\u001b[39m []\n\u001b[0;32m     11\u001b[0m \u001b[39mfor\u001b[39;00m i \u001b[39min\u001b[39;00m \u001b[39mrange\u001b[39m(level):\n",
      "\u001b[1;31mAttributeError\u001b[0m: module 'pywt' has no attribute 'power_spectrum'"
     ]
    }
   ],
   "source": [
    "wavelet = 'db2'  # Wavelet type\n",
    "level = 6        # Decomposition level\n",
    "\n",
    "coeffs = pywt.wavedec(signal, wavelet, level=level)\n",
    "approx_coeffs = coeffs[0]\n",
    "detail_coeffs = coeffs[1:]\n"
   ]
  },
  {
   "cell_type": "code",
   "execution_count": null,
   "metadata": {},
   "outputs": [],
   "source": []
  }
 ],
 "metadata": {
  "kernelspec": {
   "display_name": "base",
   "language": "python",
   "name": "python3"
  },
  "language_info": {
   "codemirror_mode": {
    "name": "ipython",
    "version": 3
   },
   "file_extension": ".py",
   "mimetype": "text/x-python",
   "name": "python",
   "nbconvert_exporter": "python",
   "pygments_lexer": "ipython3",
   "version": "3.9.13"
  },
  "orig_nbformat": 4
 },
 "nbformat": 4,
 "nbformat_minor": 2
}
