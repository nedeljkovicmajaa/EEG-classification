{
 "cells": [
  {
   "cell_type": "code",
   "execution_count": 2,
   "metadata": {},
   "outputs": [],
   "source": [
    "import sys\n",
    "import os\n",
    "sys.path.append('../')\n",
    "from data_loader import DataLoader\n",
    "import random\n",
    "from feature_selector import BaselineSelector\n",
    "from feature_selector import AnalysisSelector\n",
    "from feature_selector import FeatureExtractor\n",
    "from utils import parse_config_features\n",
    "import numpy as np\n",
    "import pandas as pd\n",
    "import seaborn as sns\n",
    "import matplotlib.pyplot as plt\n",
    "import scipy\n",
    "import configparser\n",
    "import re"
   ]
  },
  {
   "cell_type": "code",
   "execution_count": 3,
   "metadata": {},
   "outputs": [],
   "source": [
    "config = configparser.ConfigParser()\n",
    "config.read('../config.ini')\n",
    "\n",
    "# all features of one epoch\n",
    "X = pd.read_csv(os.path.join('..', config['Data']['features_path']))\n",
    "# labels of one epoch\n",
    "y = np.load(os.path.join('..', config['Data']['labels_path']))\n",
    "# participant ids of one epoch\n",
    "participants = np.load(os.path.join('..', config['Data']['par_ids_path']))\n",
    "\n",
    "# drop ids\n",
    "X = X.drop(X.columns[0], axis=1)\n",
    "# append participants labels to find means per person\n",
    "X['participant'] = participants\n",
    "X['label'] = y"
   ]
  },
  {
   "cell_type": "code",
   "execution_count": 9,
   "metadata": {},
   "outputs": [
    {
     "data": {
      "text/plain": [
       "[10.740362387060749,\n",
       " 40.612154141939286,\n",
       " 55.566059910934364,\n",
       " 9.608498754066899,\n",
       " 14.46826725827449,\n",
       " 59.16221122834282,\n",
       " 11.417556456538353,\n",
       " 16.9625298396394,\n",
       " 40.00891997010101,\n",
       " 21.491272087549305,\n",
       " 52.191677366136936,\n",
       " 27.13224989979088,\n",
       " 27.189827466132854,\n",
       " 12.395116093517183,\n",
       " 49.39368881386835,\n",
       " 10.991646426785955,\n",
       " 18.76116688928985,\n",
       " 34.41011517500534,\n",
       " 20.652000203438718,\n",
       " 14.021588275063234,\n",
       " 14.584848953865896,\n",
       " 21.718191122070696,\n",
       " 29.379528496319004,\n",
       " 15.013844552511713,\n",
       " 133.5467162704842,\n",
       " 18.700050384460315,\n",
       " 19.21206494480486,\n",
       " 12.128335238525246,\n",
       " 17.49450251083573,\n",
       " 26.65340572367607,\n",
       " 54.74385067271486,\n",
       " 41.75233241117244,\n",
       " 15.730964255363597,\n",
       " 13.31886439746389,\n",
       " 10.805557796467689,\n",
       " 43.90889719885137,\n",
       " 91.06513943252514,\n",
       " 50.309515419313485,\n",
       " 154.89023334878894,\n",
       " 97.4588043918474,\n",
       " 53.74869795601934,\n",
       " 79.8818811107758,\n",
       " 18.142510819375723,\n",
       " 132.59259347486798,\n",
       " 22.387950182868433,\n",
       " 111.26858888353968,\n",
       " 70.37533380923574,\n",
       " 86.15318244694971,\n",
       " 140.6563705466411,\n",
       " 48.64542804105161,\n",
       " 35.2493589764274,\n",
       " 69.01339215339625,\n",
       " 77.52263505184638,\n",
       " 117.70619298943457,\n",
       " 99.96681617404964,\n",
       " 131.60146213513175,\n",
       " 103.19968844365582,\n",
       " 47.548813227318924,\n",
       " 12.893545747546257,\n",
       " 14.483309568749583,\n",
       " 56.520247241996785,\n",
       " 137.3815848289473,\n",
       " 39.038689538635765,\n",
       " 352.53042276276153,\n",
       " 26.676977722830056,\n",
       " 24.203771633425617,\n",
       " 21.84354556253897,\n",
       " 24.177993139848805,\n",
       " 40.83520725406723,\n",
       " 11.805009455040702,\n",
       " 32.68585151418803,\n",
       " 12.952924260489812,\n",
       " 32.11288048462682,\n",
       " 34.708319557939625,\n",
       " 106.55035790104071,\n",
       " 15.966383675947263,\n",
       " 13.416681726927903,\n",
       " 11.253864749857293,\n",
       " 58.36876960734613,\n",
       " 198.3169056794465,\n",
       " 16.676975412569043,\n",
       " 42.256704660251245,\n",
       " 10.159111770439436,\n",
       " 14.246125237927561,\n",
       " 11.198070162538023,\n",
       " 59.572907898353215,\n",
       " 23.550349680459792,\n",
       " 53.00326703237081]"
      ]
     },
     "execution_count": 9,
     "metadata": {},
     "output_type": "execute_result"
    }
   ],
   "source": [
    "means = X.groupby(['participant', 'label']).mean()\n",
    "means.head(88)\n",
    "means.to_csv(\"obrisi.csv\")\n",
    "\n",
    "list(means['hjorth_activity_alpha_9'])"
   ]
  },
  {
   "cell_type": "code",
   "execution_count": 5,
   "metadata": {},
   "outputs": [],
   "source": [
    "cols = list(means.columns)"
   ]
  },
  {
   "cell_type": "code",
   "execution_count": 6,
   "metadata": {},
   "outputs": [],
   "source": [
    "C_participants = means.loc[means.index.get_level_values('label') == 0].reset_index()\n",
    "A_participants = means.loc[means.index.get_level_values('label') == 1].reset_index()\n",
    "B_participants = means.loc[means.index.get_level_values('label') == 2].reset_index()"
   ]
  },
  {
   "cell_type": "code",
   "execution_count": 7,
   "metadata": {},
   "outputs": [],
   "source": [
    "def get_outlier_ids(outliers, means, label):\n",
    "    lbl_to_int = {'C':0, 'A':1, 'B':2}\n",
    "    indexes = list(outliers[~outliers[label].isna()].index)\n",
    "\n",
    "    # convert index to par id\n",
    "    new_means = means.reset_index()\n",
    "    start_idx = {}\n",
    "    for index, row in new_means.iterrows():\n",
    "        if row['label'] not in start_idx:\n",
    "            start_idx[row['label']] = index\n",
    "    \n",
    "    ids = []\n",
    "    for idx in indexes:\n",
    "        ids.append(idx + start_idx[lbl_to_int[label]])\n",
    "    \n",
    "    return ids"
   ]
  },
  {
   "cell_type": "code",
   "execution_count": 8,
   "metadata": {},
   "outputs": [],
   "source": [
    "def get_outliers(df):\n",
    "    q1 = df.quantile(0.25)\n",
    "    q3 = df.quantile(0.75)\n",
    "    IQR = q3 - q1\n",
    "    outliers = df[((df<(q1-1.5*IQR)) | (df>(q3+1.5*IQR)))]\n",
    "\n",
    "    return outliers"
   ]
  },
  {
   "cell_type": "code",
   "execution_count": 9,
   "metadata": {},
   "outputs": [],
   "source": [
    "def get_top_features(n_top=None):\n",
    "    top_features = []\n",
    "    with open('mutual_info.txt', 'r') as file:\n",
    "        for line in file:\n",
    "            ft = line.strip().split(' ')[0]\n",
    "            top_features.append((line.strip()).split(' ')[0])\n",
    "\n",
    "    if n_top:\n",
    "        top_features = top_features[:n_top]\n",
    "    return top_features"
   ]
  },
  {
   "cell_type": "code",
   "execution_count": 10,
   "metadata": {},
   "outputs": [
    {
     "data": {
      "text/plain": [
       "['hjorth_activity_alpha_9',\n",
       " 'hjorth_activity_alpha_14',\n",
       " 'hjorth_activity_beta_9',\n",
       " 'hjorth_activity_alpha_8',\n",
       " 'hjorth_complexity_alpha_9']"
      ]
     },
     "execution_count": 10,
     "metadata": {},
     "output_type": "execute_result"
    }
   ],
   "source": [
    "all_outliers = {}\n",
    "top_features = get_top_features(5)\n",
    "top_features"
   ]
  },
  {
   "cell_type": "code",
   "execution_count": 11,
   "metadata": {},
   "outputs": [],
   "source": [
    "for charac in range(24):\n",
    "\n",
    "    col = charac*19\n",
    "    for i in range(4):\n",
    "        for j in range(5):\n",
    "            ### plot last subplot empty\n",
    "            if cols[col] in top_features:\n",
    "                one_ch = {'C': list(C_participants[cols[col]]), 'A': list(A_participants[cols[col]]), 'B': list(B_participants[cols[col]])}\n",
    "                ### make dict same length by adding nan\n",
    "                max_len = max([len(one_ch['C']), len(one_ch['A']), len(one_ch['B'])])\n",
    "                for key in one_ch.keys():\n",
    "                    one_ch[key] += [np.nan]*(max_len-len(one_ch[key]))\n",
    "                one_ch_df = pd.DataFrame(one_ch)\n",
    "\n",
    "                outliers = get_outliers(one_ch_df)\n",
    "                outlier_ids = []\n",
    "                outlier_ids.extend(get_outlier_ids(outliers, means, 'C'))\n",
    "                outlier_ids.extend(get_outlier_ids(outliers, means, 'A'))\n",
    "                outlier_ids.extend(get_outlier_ids(outliers, means, 'B'))\n",
    "                \n",
    "                for oid in outlier_ids:\n",
    "                    if oid in all_outliers:\n",
    "                        all_outliers[oid] += 1\n",
    "                    else:\n",
    "                        all_outliers[oid] = 1\n",
    "\n",
    "            col += 1"
   ]
  },
  {
   "cell_type": "code",
   "execution_count": 14,
   "metadata": {},
   "outputs": [
    {
     "data": {
      "text/plain": [
       "{5: 1,\n",
       " 40: 1,\n",
       " 55: 1,\n",
       " 25: 1,\n",
       " 29: 1,\n",
       " 31: 1,\n",
       " 35: 1,\n",
       " 85: 1,\n",
       " 74: 2,\n",
       " 24: 3,\n",
       " 63: 4,\n",
       " 79: 5}"
      ]
     },
     "execution_count": 14,
     "metadata": {},
     "output_type": "execute_result"
    }
   ],
   "source": [
    "all_outliers = dict(sorted(all_outliers.items(), key=lambda item: item[1]))\n",
    "all_outliers"
   ]
  },
  {
   "cell_type": "code",
   "execution_count": 13,
   "metadata": {},
   "outputs": [
    {
     "data": {
      "image/png": "[encoded data removed]",
      "text/plain": [
       "<Figure size 700x450 with 1 Axes>"
      ]
     },
     "metadata": {},
     "output_type": "display_data"
    }
   ],
   "source": [
    "keys, vals = all_outliers.keys(), all_outliers.values()\n",
    "vals = np.array(list(vals))\n",
    "vals.sort\n",
    "fig, ax = plt.subplots(figsize=(7, 4.5))\n",
    "plt.grid()\n",
    "sns.set(style='darkgrid')\n",
    "plt.grid()\n",
    "plt.scatter(keys, vals)\n",
    "plt.ylabel(\"# of occurrences as an outliers\")\n",
    "plt.xlabel(\"participant\")\n",
    "plt.title(\"Occurrances of outliers for 475 features\")\n",
    "#plt.ylim([0, 2000])\n",
    "plt.savefig(\"outliers_all_features.png\")"
   ]
  },
  {
   "cell_type": "code",
   "execution_count": 113,
   "metadata": {},
   "outputs": [
    {
     "data": {
      "text/plain": [
       "dict_keys([81, 28, 42, 77, 64, 51, 33, 67, 15, 56, 34, 6, 18, 58, 60, 82, 9, 46, 41, 71, 12, 50, 86, 76, 70, 48, 11, 39, 0, 40, 14, 37, 57, 62, 43, 54, 22, 78, 53, 59, 44, 17, 61, 16, 10, 4, 69, 74, 32, 3, 87, 20, 49, 72, 1, 13, 73, 65, 8, 45, 52, 38, 36, 75, 83, 24, 63, 47, 26, 79, 66, 7, 21, 2, 5, 84, 68, 35, 25, 30, 29, 31, 85, 55])"
      ]
     },
     "execution_count": 113,
     "metadata": {},
     "output_type": "execute_result"
    }
   ],
   "source": [
    "keys"
   ]
  },
  {
   "cell_type": "code",
   "execution_count": null,
   "metadata": {},
   "outputs": [],
   "source": []
  }
 ],
 "metadata": {
  "kernelspec": {
   "display_name": "base",
   "language": "python",
   "name": "python3"
  },
  "language_info": {
   "codemirror_mode": {
    "name": "ipython",
    "version": 3
   },
   "file_extension": ".py",
   "mimetype": "text/x-python",
   "name": "python",
   "nbconvert_exporter": "python",
   "pygments_lexer": "ipython3",
   "version": "3.9.13"
  },
  "orig_nbformat": 4
 },
 "nbformat": 4,
 "nbformat_minor": 2
}
