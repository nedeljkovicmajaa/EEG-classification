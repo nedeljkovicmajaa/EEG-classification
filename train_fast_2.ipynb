{
 "cells": [
  {
   "cell_type": "code",
<<<<<<< HEAD
   "execution_count": 299,
=======
   "execution_count": 49,
>>>>>>> ee0bfc807b5ca98590dd9bcf5aa8fd14426c4574
   "metadata": {},
   "outputs": [],
   "source": [
    "import configparser\n",
    "import numpy as np\n",
    "import time\n",
    "import xgboost as xgb\n",
    "import pandas as pd\n",
    "\n",
    "from sklearn.linear_model import LogisticRegression\n",
    "from sklearn.neighbors import KNeighborsClassifier\n",
    "from sklearn.svm import SVC\n",
    "from sklearn.ensemble import RandomForestClassifier\n",
    "from sklearn.naive_bayes import GaussianNB\n",
    "from sklearn.model_selection import train_test_split\n",
    "from sklearn.metrics import accuracy_score, f1_score, precision_score, recall_score, confusion_matrix\n",
    "from sklearn.preprocessing import StandardScaler, MinMaxScaler\n",
    "from sklearn.model_selection import GridSearchCV\n",
    "from pycm import ConfusionMatrix\n",
    "\n",
    "from data_loader import DataLoader\n",
    "from feature_selector import BaselineSelector, AnalysisSelector\n",
    "from utils import balanced_split, parse_config_features, shape_wrapper, plot_confusion_matrix\n",
    "from imblearn.over_sampling import RandomOverSampler, SMOTE\n",
    "from sklearn.decomposition import PCA\n",
    "from matplotlib import pyplot as plt"
   ]
  },
  {
   "cell_type": "code",
<<<<<<< HEAD
   "execution_count": 300,
=======
   "execution_count": 50,
>>>>>>> ee0bfc807b5ca98590dd9bcf5aa8fd14426c4574
   "metadata": {},
   "outputs": [],
   "source": [
    "def get_model(config: configparser.ConfigParser):\n",
    "    \"\"\"\n",
    "    Returns model by name\n",
    "    \"\"\"\n",
    "    hyperparams = config['Model']\n",
    "    name = hyperparams['model_name']\n",
    "    print(name)\n",
    "    random_state = None if hyperparams['random_state'] == 'None' else int(hyperparams['random_state'])\n",
    "\n",
    "    if name == 'logistic_regression':\n",
    "        return LogisticRegression(random_state=random_state)\n",
    "    \n",
    "    elif name == 'knn':\n",
    "        n_neighbors = int(hyperparams['n_neighbors'])\n",
    "        return KNeighborsClassifier(n_neighbors=n_neighbors)\n",
    "    \n",
    "    elif name == 'svm':\n",
    "        return SVC(random_state=random_state)\n",
    "    \n",
    "    elif name == 'random_forest':\n",
    "        n_estimators = int(hyperparams['n_estimators'])\n",
    "        max_depth = int(hyperparams['max_depth'])\n",
    "        return RandomForestClassifier(n_estimators=n_estimators, max_depth=max_depth, random_state=random_state)\n",
    "    \n",
    "    elif name == 'xgboost':\n",
    "        #n_estimators = int(hyperparams['n_estimators'])\n",
    "        #max_depth = int(hyperparams['max_depth'])\n",
    "        #eta = float(hyperparams['eta'])\n",
    "        return xgb.XGBClassifier(learning_rate = 0.1, n_estimators=200, objective='multi:softmax', num_class=2, max_depth = 8, gamma = 0.1,  random_state = random_state)\n",
    "    \n",
    "    elif name == 'naive_bayes':\n",
    "        return GaussianNB()\n",
    "    \n",
    "    else:\n",
    "        raise ValueError(f'Unknown model name: {name}')"
   ]
  },
  {
   "cell_type": "code",
<<<<<<< HEAD
   "execution_count": 301,
=======
   "execution_count": 51,
>>>>>>> ee0bfc807b5ca98590dd9bcf5aa8fd14426c4574
   "metadata": {},
   "outputs": [],
   "source": [
    "def get_metrics(y_true, y_pred):\n",
    "    \"\"\"\n",
    "    Returns metrics for classification\n",
    "    \"\"\"\n",
    "    return {\n",
    "        'accuracy': accuracy_score(y_true, y_pred),\n",
    "        'f1': f1_score(y_true, y_pred, average='macro'),\n",
    "        'precision': precision_score(y_true, y_pred, average='macro'),\n",
    "        'recall': recall_score(y_true, y_pred, average='macro'),\n",
    "        'confusion_matrix': ConfusionMatrix(y_true, y_pred)\n",
    "    }"
   ]
  },
  {
   "cell_type": "code",
<<<<<<< HEAD
   "execution_count": 302,
=======
   "execution_count": 52,
>>>>>>> ee0bfc807b5ca98590dd9bcf5aa8fd14426c4574
   "metadata": {},
   "outputs": [],
   "source": [
    "def train_model(config: configparser.ConfigParser):\n",
    "    \"\"\"\n",
    "    Trains model and returns metrics\n",
    "    \"\"\"\n",
    "    X = pd.read_csv(config['Data']['features_path'])\n",
    "\n",
    "    y = np.loadtxt(config['Data']['labels_path'], dtype=np.int32)"
   ]
  },
  {
   "cell_type": "code",
<<<<<<< HEAD
   "execution_count": 303,
=======
   "execution_count": 53,
>>>>>>> ee0bfc807b5ca98590dd9bcf5aa8fd14426c4574
   "metadata": {},
   "outputs": [
    {
     "data": {
      "text/plain": [
<<<<<<< HEAD
       "'xgboost'"
      ]
     },
     "execution_count": 303,
=======
       "'random_forest'"
      ]
     },
     "execution_count": 53,
>>>>>>> ee0bfc807b5ca98590dd9bcf5aa8fd14426c4574
     "metadata": {},
     "output_type": "execute_result"
    }
   ],
   "source": [
    "config_path = './config.ini'\n",
    "config = configparser.ConfigParser()\n",
    "config.read(config_path)\n",
    "config['Model']['model_name']"
   ]
  },
  {
   "cell_type": "code",
<<<<<<< HEAD
   "execution_count": 304,
=======
   "execution_count": 54,
>>>>>>> ee0bfc807b5ca98590dd9bcf5aa8fd14426c4574
   "metadata": {},
   "outputs": [],
   "source": [
    "X = pd.read_csv(config['Data']['features_path'])\n",
    "\n",
    "y = np.load(config['Data']['labels_path'])\n",
    "par_ids = np.load(config['Data']['par_ids_path'])\n",
    "X['par_ids'] = par_ids\n"
   ]
  },
  {
   "cell_type": "code",
<<<<<<< HEAD
   "execution_count": 305,
=======
   "execution_count": 55,
>>>>>>> ee0bfc807b5ca98590dd9bcf5aa8fd14426c4574
   "metadata": {},
   "outputs": [],
   "source": [
    "X['label'] = y\n",
    "X = X[X['label'] != 2]\n",
    "y = X['label']\n",
    "X = X.drop(['label'], axis=1)"
   ]
  },
  {
   "cell_type": "code",
<<<<<<< HEAD
   "execution_count": 306,
=======
   "execution_count": 56,
>>>>>>> ee0bfc807b5ca98590dd9bcf5aa8fd14426c4574
   "metadata": {},
   "outputs": [],
   "source": [
    "n_folds = int(config['Train']['n_folds'])\n",
    "num_test_part = int(config['Train']['num_test_part'])\n"
   ]
  },
  {
   "cell_type": "code",
<<<<<<< HEAD
   "execution_count": 307,
=======
   "execution_count": 57,
>>>>>>> ee0bfc807b5ca98590dd9bcf5aa8fd14426c4574
   "metadata": {},
   "outputs": [
    {
     "data": {
      "text/plain": [
<<<<<<< HEAD
       "[<matplotlib.lines.Line2D at 0x1ecae644fa0>]"
      ]
     },
     "execution_count": 307,
=======
       "[<matplotlib.lines.Line2D at 0x2af0d318400>]"
      ]
     },
     "execution_count": 57,
>>>>>>> ee0bfc807b5ca98590dd9bcf5aa8fd14426c4574
     "metadata": {},
     "output_type": "execute_result"
    },
    {
     "data": {
      "image/png": "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",
      "text/plain": [
       "<Figure size 432x288 with 1 Axes>"
      ]
     },
     "metadata": {
      "needs_background": "light"
     },
     "output_type": "display_data"
    }
   ],
   "source": [
    "scaler = StandardScaler()\n",
    "X_scaled = scaler.fit_transform(X)\n",
    "pca = PCA()\n",
    "pca.fit(X_scaled)\n",
    "cumulative = np.cumsum(pca.explained_variance_ratio_)\n",
    "plt.plot(cumulative)"
   ]
  },
  {
   "cell_type": "code",
<<<<<<< HEAD
   "execution_count": 308,
=======
   "execution_count": 58,
>>>>>>> ee0bfc807b5ca98590dd9bcf5aa8fd14426c4574
   "metadata": {},
   "outputs": [],
   "source": [
    "y\n",
    "par_ids = X['par_ids']"
   ]
  },
  {
   "cell_type": "code",
<<<<<<< HEAD
   "execution_count": 309,
=======
   "execution_count": 59,
>>>>>>> ee0bfc807b5ca98590dd9bcf5aa8fd14426c4574
   "metadata": {},
   "outputs": [
    {
     "name": "stdout",
     "output_type": "stream",
     "text": [
<<<<<<< HEAD
      "xgboost\n",
=======
      "random_forest\n",
      "starting training\n",
      "finished training\n",
      "{'accuracy': 0.6870243531202436, 'f1': 0.6850609385512735, 'precision': 0.6960235842588784, 'recall': 0.6895290476632048, 'confusion_matrix': pycm.ConfusionMatrix(classes: [0, 1])}\n",
      "random_forest\n",
      "starting training\n",
      "finished training\n",
      "{'accuracy': 0.7708491281273692, 'f1': 0.7706355443342754, 'precision': 0.7708441634327485, 'recall': 0.7705495202201905, 'confusion_matrix': pycm.ConfusionMatrix(classes: [0, 1])}\n",
      "random_forest\n",
      "starting training\n",
      "finished training\n",
      "{'accuracy': 0.7244546498277842, 'f1': 0.7131830513099813, 'precision': 0.7537751677852349, 'recall': 0.719477928717585, 'confusion_matrix': pycm.ConfusionMatrix(classes: [0, 1])}\n",
      "random_forest\n",
      "starting training\n",
      "finished training\n",
      "{'accuracy': 0.720705150362945, 'f1': 0.720030637353977, 'precision': 0.7198722399334527, 'recall': 0.7206216318225376, 'confusion_matrix': pycm.ConfusionMatrix(classes: [0, 1])}\n",
      "random_forest\n",
>>>>>>> ee0bfc807b5ca98590dd9bcf5aa8fd14426c4574
      "starting training\n"
     ]
    },
    {
<<<<<<< HEAD
     "name": "stderr",
     "output_type": "stream",
     "text": [
      "c:\\Users\\Zephyrus\\anaconda3\\lib\\site-packages\\xgboost\\sklearn.py:1224: UserWarning: The use of label encoder in XGBClassifier is deprecated and will be removed in a future release. To remove this warning, do the following: 1) Pass option use_label_encoder=False when constructing XGBClassifier object; and 2) Encode your labels (y) as integers starting with 0, i.e. 0, 1, 2, ..., [num_class - 1].\n",
      "  warnings.warn(label_encoder_deprecation_msg, UserWarning)\n"
     ]
    },
    {
     "name": "stdout",
     "output_type": "stream",
     "text": [
      "[19:01:10] WARNING: C:/Users/Administrator/workspace/xgboost-win64_release_1.5.1/src/learner.cc:1115: Starting in XGBoost 1.3.0, the default evaluation metric used with the objective 'multi:softmax' was changed from 'merror' to 'mlogloss'. Explicitly set eval_metric if you'd like to restore the old behavior.\n",
      "finished training\n",
      "{'accuracy': 0.7378546443839875, 'f1': 0.734278326808972, 'precision': 0.7590021202805614, 'recall': 0.7416817771946043, 'confusion_matrix': pycm.ConfusionMatrix(classes: [0, 1])}\n",
      "xgboost\n",
      "starting training\n"
     ]
    },
    {
     "name": "stderr",
     "output_type": "stream",
     "text": [
      "c:\\Users\\Zephyrus\\anaconda3\\lib\\site-packages\\xgboost\\sklearn.py:1224: UserWarning: The use of label encoder in XGBClassifier is deprecated and will be removed in a future release. To remove this warning, do the following: 1) Pass option use_label_encoder=False when constructing XGBClassifier object; and 2) Encode your labels (y) as integers starting with 0, i.e. 0, 1, 2, ..., [num_class - 1].\n",
      "  warnings.warn(label_encoder_deprecation_msg, UserWarning)\n"
     ]
    },
    {
     "name": "stdout",
     "output_type": "stream",
     "text": [
      "[19:02:27] WARNING: C:/Users/Administrator/workspace/xgboost-win64_release_1.5.1/src/learner.cc:1115: Starting in XGBoost 1.3.0, the default evaluation metric used with the objective 'multi:softmax' was changed from 'merror' to 'mlogloss'. Explicitly set eval_metric if you'd like to restore the old behavior.\n",
      "finished training\n",
      "{'accuracy': 0.8739609510922095, 'f1': 0.8735327714294112, 'precision': 0.8770429352422375, 'recall': 0.8732760133855191, 'confusion_matrix': pycm.ConfusionMatrix(classes: [0, 1])}\n",
      "xgboost\n",
      "starting training\n"
     ]
    },
    {
     "name": "stderr",
     "output_type": "stream",
     "text": [
      "c:\\Users\\Zephyrus\\anaconda3\\lib\\site-packages\\xgboost\\sklearn.py:1224: UserWarning: The use of label encoder in XGBClassifier is deprecated and will be removed in a future release. To remove this warning, do the following: 1) Pass option use_label_encoder=False when constructing XGBClassifier object; and 2) Encode your labels (y) as integers starting with 0, i.e. 0, 1, 2, ..., [num_class - 1].\n",
      "  warnings.warn(label_encoder_deprecation_msg, UserWarning)\n"
     ]
    },
    {
     "name": "stdout",
     "output_type": "stream",
     "text": [
      "[19:03:50] WARNING: C:/Users/Administrator/workspace/xgboost-win64_release_1.5.1/src/learner.cc:1115: Starting in XGBoost 1.3.0, the default evaluation metric used with the objective 'multi:softmax' was changed from 'merror' to 'mlogloss'. Explicitly set eval_metric if you'd like to restore the old behavior.\n",
      "finished training\n",
      "{'accuracy': 0.7011173184357542, 'f1': 0.7009052225064079, 'precision': 0.7012386374626622, 'recall': 0.7009072842858778, 'confusion_matrix': pycm.ConfusionMatrix(classes: [0, 1])}\n",
      "xgboost\n",
      "starting training\n"
     ]
    },
    {
     "name": "stderr",
     "output_type": "stream",
     "text": [
      "c:\\Users\\Zephyrus\\anaconda3\\lib\\site-packages\\xgboost\\sklearn.py:1224: UserWarning: The use of label encoder in XGBClassifier is deprecated and will be removed in a future release. To remove this warning, do the following: 1) Pass option use_label_encoder=False when constructing XGBClassifier object; and 2) Encode your labels (y) as integers starting with 0, i.e. 0, 1, 2, ..., [num_class - 1].\n",
      "  warnings.warn(label_encoder_deprecation_msg, UserWarning)\n"
     ]
    },
    {
     "name": "stdout",
     "output_type": "stream",
     "text": [
      "[19:05:15] WARNING: C:/Users/Administrator/workspace/xgboost-win64_release_1.5.1/src/learner.cc:1115: Starting in XGBoost 1.3.0, the default evaluation metric used with the objective 'multi:softmax' was changed from 'merror' to 'mlogloss'. Explicitly set eval_metric if you'd like to restore the old behavior.\n",
      "finished training\n",
      "{'accuracy': 0.8380080137378363, 'f1': 0.8371609544114175, 'precision': 0.8374574836410178, 'recall': 0.836916392284435, 'confusion_matrix': pycm.ConfusionMatrix(classes: [0, 1])}\n",
      "xgboost\n",
      "starting training\n"
     ]
    },
    {
     "name": "stderr",
     "output_type": "stream",
     "text": [
      "c:\\Users\\Zephyrus\\anaconda3\\lib\\site-packages\\xgboost\\sklearn.py:1224: UserWarning: The use of label encoder in XGBClassifier is deprecated and will be removed in a future release. To remove this warning, do the following: 1) Pass option use_label_encoder=False when constructing XGBClassifier object; and 2) Encode your labels (y) as integers starting with 0, i.e. 0, 1, 2, ..., [num_class - 1].\n",
      "  warnings.warn(label_encoder_deprecation_msg, UserWarning)\n"
     ]
    },
    {
     "name": "stdout",
     "output_type": "stream",
     "text": [
      "[19:06:45] WARNING: C:/Users/Administrator/workspace/xgboost-win64_release_1.5.1/src/learner.cc:1115: Starting in XGBoost 1.3.0, the default evaluation metric used with the objective 'multi:softmax' was changed from 'merror' to 'mlogloss'. Explicitly set eval_metric if you'd like to restore the old behavior.\n",
      "finished training\n",
      "{'accuracy': 0.7412182361733931, 'f1': 0.7409412601750398, 'precision': 0.7413942690285233, 'recall': 0.7408809002324334, 'confusion_matrix': pycm.ConfusionMatrix(classes: [0, 1])}\n",
      "xgboost\n",
      "starting training\n"
     ]
    },
    {
     "name": "stderr",
     "output_type": "stream",
     "text": [
      "c:\\Users\\Zephyrus\\anaconda3\\lib\\site-packages\\xgboost\\sklearn.py:1224: UserWarning: The use of label encoder in XGBClassifier is deprecated and will be removed in a future release. To remove this warning, do the following: 1) Pass option use_label_encoder=False when constructing XGBClassifier object; and 2) Encode your labels (y) as integers starting with 0, i.e. 0, 1, 2, ..., [num_class - 1].\n",
      "  warnings.warn(label_encoder_deprecation_msg, UserWarning)\n"
     ]
    },
    {
     "name": "stdout",
     "output_type": "stream",
     "text": [
      "[19:08:14] WARNING: C:/Users/Administrator/workspace/xgboost-win64_release_1.5.1/src/learner.cc:1115: Starting in XGBoost 1.3.0, the default evaluation metric used with the objective 'multi:softmax' was changed from 'merror' to 'mlogloss'. Explicitly set eval_metric if you'd like to restore the old behavior.\n",
      "finished training\n",
      "{'accuracy': 0.6207291467837374, 'f1': 0.6145751265408036, 'precision': 0.6292406475262857, 'recall': 0.6208990889811489, 'confusion_matrix': pycm.ConfusionMatrix(classes: [0, 1])}\n",
      "xgboost\n",
      "starting training\n"
     ]
    },
    {
     "name": "stderr",
     "output_type": "stream",
     "text": [
      "c:\\Users\\Zephyrus\\anaconda3\\lib\\site-packages\\xgboost\\sklearn.py:1224: UserWarning: The use of label encoder in XGBClassifier is deprecated and will be removed in a future release. To remove this warning, do the following: 1) Pass option use_label_encoder=False when constructing XGBClassifier object; and 2) Encode your labels (y) as integers starting with 0, i.e. 0, 1, 2, ..., [num_class - 1].\n",
      "  warnings.warn(label_encoder_deprecation_msg, UserWarning)\n"
     ]
    },
    {
     "name": "stdout",
     "output_type": "stream",
     "text": [
      "[19:09:38] WARNING: C:/Users/Administrator/workspace/xgboost-win64_release_1.5.1/src/learner.cc:1115: Starting in XGBoost 1.3.0, the default evaluation metric used with the objective 'multi:softmax' was changed from 'merror' to 'mlogloss'. Explicitly set eval_metric if you'd like to restore the old behavior.\n",
      "finished training\n",
      "{'accuracy': 0.8183839881393625, 'f1': 0.8180359187808317, 'precision': 0.82122346886304, 'recall': 0.8185573389252303, 'confusion_matrix': pycm.ConfusionMatrix(classes: [0, 1])}\n",
      "xgboost\n",
      "starting training\n"
     ]
    },
    {
     "name": "stderr",
     "output_type": "stream",
     "text": [
      "c:\\Users\\Zephyrus\\anaconda3\\lib\\site-packages\\xgboost\\sklearn.py:1224: UserWarning: The use of label encoder in XGBClassifier is deprecated and will be removed in a future release. To remove this warning, do the following: 1) Pass option use_label_encoder=False when constructing XGBClassifier object; and 2) Encode your labels (y) as integers starting with 0, i.e. 0, 1, 2, ..., [num_class - 1].\n",
      "  warnings.warn(label_encoder_deprecation_msg, UserWarning)\n"
     ]
    },
    {
     "name": "stdout",
     "output_type": "stream",
     "text": [
      "[19:11:09] WARNING: C:/Users/Administrator/workspace/xgboost-win64_release_1.5.1/src/learner.cc:1115: Starting in XGBoost 1.3.0, the default evaluation metric used with the objective 'multi:softmax' was changed from 'merror' to 'mlogloss'. Explicitly set eval_metric if you'd like to restore the old behavior.\n",
      "finished training\n",
      "{'accuracy': 0.7292785878741366, 'f1': 0.7245201749389105, 'precision': 0.7426051034256483, 'recall': 0.7276018639339965, 'confusion_matrix': pycm.ConfusionMatrix(classes: [0, 1])}\n",
      "xgboost\n",
      "starting training\n"
     ]
    },
    {
     "name": "stderr",
     "output_type": "stream",
     "text": [
      "c:\\Users\\Zephyrus\\anaconda3\\lib\\site-packages\\xgboost\\sklearn.py:1224: UserWarning: The use of label encoder in XGBClassifier is deprecated and will be removed in a future release. To remove this warning, do the following: 1) Pass option use_label_encoder=False when constructing XGBClassifier object; and 2) Encode your labels (y) as integers starting with 0, i.e. 0, 1, 2, ..., [num_class - 1].\n",
      "  warnings.warn(label_encoder_deprecation_msg, UserWarning)\n"
     ]
    },
    {
     "name": "stdout",
     "output_type": "stream",
     "text": [
      "[19:12:36] WARNING: C:/Users/Administrator/workspace/xgboost-win64_release_1.5.1/src/learner.cc:1115: Starting in XGBoost 1.3.0, the default evaluation metric used with the objective 'multi:softmax' was changed from 'merror' to 'mlogloss'. Explicitly set eval_metric if you'd like to restore the old behavior.\n",
      "finished training\n",
      "{'accuracy': 0.8215709728867624, 'f1': 0.8188657283888909, 'precision': 0.8283693360476971, 'recall': 0.8173609845533343, 'confusion_matrix': pycm.ConfusionMatrix(classes: [0, 1])}\n",
      "xgboost\n",
      "starting training\n"
     ]
    },
    {
     "name": "stderr",
     "output_type": "stream",
     "text": [
      "c:\\Users\\Zephyrus\\anaconda3\\lib\\site-packages\\xgboost\\sklearn.py:1224: UserWarning: The use of label encoder in XGBClassifier is deprecated and will be removed in a future release. To remove this warning, do the following: 1) Pass option use_label_encoder=False when constructing XGBClassifier object; and 2) Encode your labels (y) as integers starting with 0, i.e. 0, 1, 2, ..., [num_class - 1].\n",
      "  warnings.warn(label_encoder_deprecation_msg, UserWarning)\n"
     ]
    },
    {
     "name": "stdout",
     "output_type": "stream",
     "text": [
      "[19:14:10] WARNING: C:/Users/Administrator/workspace/xgboost-win64_release_1.5.1/src/learner.cc:1115: Starting in XGBoost 1.3.0, the default evaluation metric used with the objective 'multi:softmax' was changed from 'merror' to 'mlogloss'. Explicitly set eval_metric if you'd like to restore the old behavior.\n",
      "finished training\n",
      "{'accuracy': 0.7851449275362319, 'f1': 0.7806985280078079, 'precision': 0.8014543805769258, 'recall': 0.7817808993583669, 'confusion_matrix': pycm.ConfusionMatrix(classes: [0, 1])}\n",
      "xgboost\n",
      "starting training\n"
     ]
    },
    {
     "name": "stderr",
     "output_type": "stream",
     "text": [
      "c:\\Users\\Zephyrus\\anaconda3\\lib\\site-packages\\xgboost\\sklearn.py:1224: UserWarning: The use of label encoder in XGBClassifier is deprecated and will be removed in a future release. To remove this warning, do the following: 1) Pass option use_label_encoder=False when constructing XGBClassifier object; and 2) Encode your labels (y) as integers starting with 0, i.e. 0, 1, 2, ..., [num_class - 1].\n",
      "  warnings.warn(label_encoder_deprecation_msg, UserWarning)\n"
     ]
    },
    {
     "name": "stdout",
     "output_type": "stream",
     "text": [
      "[19:15:36] WARNING: C:/Users/Administrator/workspace/xgboost-win64_release_1.5.1/src/learner.cc:1115: Starting in XGBoost 1.3.0, the default evaluation metric used with the objective 'multi:softmax' was changed from 'merror' to 'mlogloss'. Explicitly set eval_metric if you'd like to restore the old behavior.\n",
      "finished training\n",
      "{'accuracy': 0.7615519594462858, 'f1': 0.7614382041718337, 'precision': 0.7642553742664643, 'recall': 0.7630165549013717, 'confusion_matrix': pycm.ConfusionMatrix(classes: [0, 1])}\n",
      "xgboost\n",
      "starting training\n"
     ]
    },
    {
     "name": "stderr",
     "output_type": "stream",
     "text": [
      "c:\\Users\\Zephyrus\\anaconda3\\lib\\site-packages\\xgboost\\sklearn.py:1224: UserWarning: The use of label encoder in XGBClassifier is deprecated and will be removed in a future release. To remove this warning, do the following: 1) Pass option use_label_encoder=False when constructing XGBClassifier object; and 2) Encode your labels (y) as integers starting with 0, i.e. 0, 1, 2, ..., [num_class - 1].\n",
      "  warnings.warn(label_encoder_deprecation_msg, UserWarning)\n"
     ]
    },
    {
     "name": "stdout",
     "output_type": "stream",
     "text": [
      "[19:17:07] WARNING: C:/Users/Administrator/workspace/xgboost-win64_release_1.5.1/src/learner.cc:1115: Starting in XGBoost 1.3.0, the default evaluation metric used with the objective 'multi:softmax' was changed from 'merror' to 'mlogloss'. Explicitly set eval_metric if you'd like to restore the old behavior.\n",
      "finished training\n",
      "{'accuracy': 0.7536231884057971, 'f1': 0.7536228290374761, 'precision': 0.7560930086156663, 'recall': 0.7561644771293914, 'confusion_matrix': pycm.ConfusionMatrix(classes: [0, 1])}\n",
      "xgboost\n",
      "starting training\n"
     ]
    },
    {
     "name": "stderr",
     "output_type": "stream",
     "text": [
      "c:\\Users\\Zephyrus\\anaconda3\\lib\\site-packages\\xgboost\\sklearn.py:1224: UserWarning: The use of label encoder in XGBClassifier is deprecated and will be removed in a future release. To remove this warning, do the following: 1) Pass option use_label_encoder=False when constructing XGBClassifier object; and 2) Encode your labels (y) as integers starting with 0, i.e. 0, 1, 2, ..., [num_class - 1].\n",
      "  warnings.warn(label_encoder_deprecation_msg, UserWarning)\n"
     ]
    },
    {
     "name": "stdout",
     "output_type": "stream",
     "text": [
      "[19:18:39] WARNING: C:/Users/Administrator/workspace/xgboost-win64_release_1.5.1/src/learner.cc:1115: Starting in XGBoost 1.3.0, the default evaluation metric used with the objective 'multi:softmax' was changed from 'merror' to 'mlogloss'. Explicitly set eval_metric if you'd like to restore the old behavior.\n",
      "finished training\n",
      "{'accuracy': 0.7928134556574924, 'f1': 0.7909345274044994, 'precision': 0.8073741813037721, 'recall': 0.7944944111725393, 'confusion_matrix': pycm.ConfusionMatrix(classes: [0, 1])}\n",
      "xgboost\n",
      "starting training\n"
     ]
    },
    {
     "name": "stderr",
     "output_type": "stream",
     "text": [
      "c:\\Users\\Zephyrus\\anaconda3\\lib\\site-packages\\xgboost\\sklearn.py:1224: UserWarning: The use of label encoder in XGBClassifier is deprecated and will be removed in a future release. To remove this warning, do the following: 1) Pass option use_label_encoder=False when constructing XGBClassifier object; and 2) Encode your labels (y) as integers starting with 0, i.e. 0, 1, 2, ..., [num_class - 1].\n",
      "  warnings.warn(label_encoder_deprecation_msg, UserWarning)\n"
     ]
    },
    {
     "name": "stdout",
     "output_type": "stream",
     "text": [
      "[19:20:08] WARNING: C:/Users/Administrator/workspace/xgboost-win64_release_1.5.1/src/learner.cc:1115: Starting in XGBoost 1.3.0, the default evaluation metric used with the objective 'multi:softmax' was changed from 'merror' to 'mlogloss'. Explicitly set eval_metric if you'd like to restore the old behavior.\n",
      "finished training\n",
      "{'accuracy': 0.7548214626694673, 'f1': 0.7547788939211291, 'precision': 0.7570445552818789, 'recall': 0.756360708487585, 'confusion_matrix': pycm.ConfusionMatrix(classes: [0, 1])}\n",
      "xgboost\n",
      "starting training\n"
     ]
    },
    {
     "name": "stderr",
     "output_type": "stream",
     "text": [
      "c:\\Users\\Zephyrus\\anaconda3\\lib\\site-packages\\xgboost\\sklearn.py:1224: UserWarning: The use of label encoder in XGBClassifier is deprecated and will be removed in a future release. To remove this warning, do the following: 1) Pass option use_label_encoder=False when constructing XGBClassifier object; and 2) Encode your labels (y) as integers starting with 0, i.e. 0, 1, 2, ..., [num_class - 1].\n",
      "  warnings.warn(label_encoder_deprecation_msg, UserWarning)\n"
     ]
    },
    {
     "name": "stdout",
     "output_type": "stream",
     "text": [
      "[19:21:36] WARNING: C:/Users/Administrator/workspace/xgboost-win64_release_1.5.1/src/learner.cc:1115: Starting in XGBoost 1.3.0, the default evaluation metric used with the objective 'multi:softmax' was changed from 'merror' to 'mlogloss'. Explicitly set eval_metric if you'd like to restore the old behavior.\n",
      "finished training\n",
      "{'accuracy': 0.672713529856387, 'f1': 0.6680988856849361, 'precision': 0.6752337103954544, 'recall': 0.6689442473488678, 'confusion_matrix': pycm.ConfusionMatrix(classes: [0, 1])}\n",
      "xgboost\n",
      "starting training\n"
     ]
    },
    {
     "name": "stderr",
     "output_type": "stream",
     "text": [
      "c:\\Users\\Zephyrus\\anaconda3\\lib\\site-packages\\xgboost\\sklearn.py:1224: UserWarning: The use of label encoder in XGBClassifier is deprecated and will be removed in a future release. To remove this warning, do the following: 1) Pass option use_label_encoder=False when constructing XGBClassifier object; and 2) Encode your labels (y) as integers starting with 0, i.e. 0, 1, 2, ..., [num_class - 1].\n",
      "  warnings.warn(label_encoder_deprecation_msg, UserWarning)\n"
     ]
    },
    {
     "name": "stdout",
     "output_type": "stream",
     "text": [
      "[19:23:02] WARNING: C:/Users/Administrator/workspace/xgboost-win64_release_1.5.1/src/learner.cc:1115: Starting in XGBoost 1.3.0, the default evaluation metric used with the objective 'multi:softmax' was changed from 'merror' to 'mlogloss'. Explicitly set eval_metric if you'd like to restore the old behavior.\n",
      "finished training\n",
      "{'accuracy': 0.7136011795060818, 'f1': 0.7070733416857226, 'precision': 0.7271659026947175, 'recall': 0.7103057542098048, 'confusion_matrix': pycm.ConfusionMatrix(classes: [0, 1])}\n",
      "xgboost\n",
      "starting training\n"
     ]
    },
    {
     "name": "stderr",
     "output_type": "stream",
     "text": [
      "c:\\Users\\Zephyrus\\anaconda3\\lib\\site-packages\\xgboost\\sklearn.py:1224: UserWarning: The use of label encoder in XGBClassifier is deprecated and will be removed in a future release. To remove this warning, do the following: 1) Pass option use_label_encoder=False when constructing XGBClassifier object; and 2) Encode your labels (y) as integers starting with 0, i.e. 0, 1, 2, ..., [num_class - 1].\n",
      "  warnings.warn(label_encoder_deprecation_msg, UserWarning)\n"
     ]
    },
    {
     "name": "stdout",
     "output_type": "stream",
     "text": [
      "[19:24:27] WARNING: C:/Users/Administrator/workspace/xgboost-win64_release_1.5.1/src/learner.cc:1115: Starting in XGBoost 1.3.0, the default evaluation metric used with the objective 'multi:softmax' was changed from 'merror' to 'mlogloss'. Explicitly set eval_metric if you'd like to restore the old behavior.\n",
      "finished training\n",
      "{'accuracy': 0.8045501551189245, 'f1': 0.8044489383215369, 'precision': 0.8049653145715765, 'recall': 0.8059501772320891, 'confusion_matrix': pycm.ConfusionMatrix(classes: [0, 1])}\n",
      "xgboost\n",
      "starting training\n"
     ]
    },
    {
     "name": "stderr",
     "output_type": "stream",
     "text": [
      "c:\\Users\\Zephyrus\\anaconda3\\lib\\site-packages\\xgboost\\sklearn.py:1224: UserWarning: The use of label encoder in XGBClassifier is deprecated and will be removed in a future release. To remove this warning, do the following: 1) Pass option use_label_encoder=False when constructing XGBClassifier object; and 2) Encode your labels (y) as integers starting with 0, i.e. 0, 1, 2, ..., [num_class - 1].\n",
      "  warnings.warn(label_encoder_deprecation_msg, UserWarning)\n"
     ]
    },
    {
     "name": "stdout",
     "output_type": "stream",
     "text": [
      "[19:25:59] WARNING: C:/Users/Administrator/workspace/xgboost-win64_release_1.5.1/src/learner.cc:1115: Starting in XGBoost 1.3.0, the default evaluation metric used with the objective 'multi:softmax' was changed from 'merror' to 'mlogloss'. Explicitly set eval_metric if you'd like to restore the old behavior.\n",
      "finished training\n",
      "{'accuracy': 0.7156467570538659, 'f1': 0.7155793892214235, 'precision': 0.7162375152528585, 'recall': 0.7158911449520586, 'confusion_matrix': pycm.ConfusionMatrix(classes: [0, 1])}\n",
      "xgboost\n",
      "starting training\n"
     ]
    },
    {
     "name": "stderr",
     "output_type": "stream",
     "text": [
      "c:\\Users\\Zephyrus\\anaconda3\\lib\\site-packages\\xgboost\\sklearn.py:1224: UserWarning: The use of label encoder in XGBClassifier is deprecated and will be removed in a future release. To remove this warning, do the following: 1) Pass option use_label_encoder=False when constructing XGBClassifier object; and 2) Encode your labels (y) as integers starting with 0, i.e. 0, 1, 2, ..., [num_class - 1].\n",
      "  warnings.warn(label_encoder_deprecation_msg, UserWarning)\n"
     ]
    },
    {
     "name": "stdout",
     "output_type": "stream",
     "text": [
      "[19:27:25] WARNING: C:/Users/Administrator/workspace/xgboost-win64_release_1.5.1/src/learner.cc:1115: Starting in XGBoost 1.3.0, the default evaluation metric used with the objective 'multi:softmax' was changed from 'merror' to 'mlogloss'. Explicitly set eval_metric if you'd like to restore the old behavior.\n",
      "finished training\n",
      "{'accuracy': 0.8142516944495329, 'f1': 0.8137368636549747, 'precision': 0.8143160172284796, 'recall': 0.813442867179289, 'confusion_matrix': pycm.ConfusionMatrix(classes: [0, 1])}\n",
      "xgboost\n",
      "starting training\n"
     ]
    },
    {
     "name": "stderr",
     "output_type": "stream",
     "text": [
      "c:\\Users\\Zephyrus\\anaconda3\\lib\\site-packages\\xgboost\\sklearn.py:1224: UserWarning: The use of label encoder in XGBClassifier is deprecated and will be removed in a future release. To remove this warning, do the following: 1) Pass option use_label_encoder=False when constructing XGBClassifier object; and 2) Encode your labels (y) as integers starting with 0, i.e. 0, 1, 2, ..., [num_class - 1].\n",
      "  warnings.warn(label_encoder_deprecation_msg, UserWarning)\n"
     ]
    },
    {
     "name": "stdout",
     "output_type": "stream",
     "text": [
      "[19:28:50] WARNING: C:/Users/Administrator/workspace/xgboost-win64_release_1.5.1/src/learner.cc:1115: Starting in XGBoost 1.3.0, the default evaluation metric used with the objective 'multi:softmax' was changed from 'merror' to 'mlogloss'. Explicitly set eval_metric if you'd like to restore the old behavior.\n",
      "finished training\n",
      "{'accuracy': 0.7484372040159121, 'f1': 0.7437361404641568, 'precision': 0.7737647794500083, 'recall': 0.7510563838319504, 'confusion_matrix': pycm.ConfusionMatrix(classes: [0, 1])}\n"
=======
     "ename": "KeyboardInterrupt",
     "evalue": "",
     "output_type": "error",
     "traceback": [
      "\u001b[1;31m---------------------------------------------------------------------------\u001b[0m",
      "\u001b[1;31mKeyboardInterrupt\u001b[0m                         Traceback (most recent call last)",
      "\u001b[1;32m<ipython-input-59-1cbf8ebf6777>\u001b[0m in \u001b[0;36m<module>\u001b[1;34m\u001b[0m\n\u001b[0;32m     37\u001b[0m         \u001b[0mprint\u001b[0m\u001b[1;33m(\u001b[0m\u001b[1;34m'starting training'\u001b[0m\u001b[1;33m)\u001b[0m\u001b[1;33m\u001b[0m\u001b[1;33m\u001b[0m\u001b[0m\n\u001b[0;32m     38\u001b[0m         \u001b[1;31m# train and evaluate model\u001b[0m\u001b[1;33m\u001b[0m\u001b[1;33m\u001b[0m\u001b[1;33m\u001b[0m\u001b[0m\n\u001b[1;32m---> 39\u001b[1;33m         \u001b[0mmodel\u001b[0m\u001b[1;33m.\u001b[0m\u001b[0mfit\u001b[0m\u001b[1;33m(\u001b[0m\u001b[0mX_train\u001b[0m\u001b[1;33m,\u001b[0m \u001b[0my_train\u001b[0m\u001b[1;33m)\u001b[0m\u001b[1;33m\u001b[0m\u001b[1;33m\u001b[0m\u001b[0m\n\u001b[0m\u001b[0;32m     40\u001b[0m         \u001b[0my_pred\u001b[0m \u001b[1;33m=\u001b[0m \u001b[0mmodel\u001b[0m\u001b[1;33m.\u001b[0m\u001b[0mpredict\u001b[0m\u001b[1;33m(\u001b[0m\u001b[0mX_test\u001b[0m\u001b[1;33m)\u001b[0m\u001b[1;33m\u001b[0m\u001b[1;33m\u001b[0m\u001b[0m\n\u001b[0;32m     41\u001b[0m         \u001b[0mprint\u001b[0m\u001b[1;33m(\u001b[0m\u001b[1;34m'finished training'\u001b[0m\u001b[1;33m)\u001b[0m\u001b[1;33m\u001b[0m\u001b[1;33m\u001b[0m\u001b[0m\n",
      "\u001b[1;32mc:\\Users\\Zephyrus\\anaconda3\\lib\\site-packages\\sklearn\\ensemble\\_forest.py\u001b[0m in \u001b[0;36mfit\u001b[1;34m(self, X, y, sample_weight)\u001b[0m\n\u001b[0;32m    474\u001b[0m             \u001b[1;31m# parallel_backend contexts set at a higher level,\u001b[0m\u001b[1;33m\u001b[0m\u001b[1;33m\u001b[0m\u001b[1;33m\u001b[0m\u001b[0m\n\u001b[0;32m    475\u001b[0m             \u001b[1;31m# since correctness does not rely on using threads.\u001b[0m\u001b[1;33m\u001b[0m\u001b[1;33m\u001b[0m\u001b[1;33m\u001b[0m\u001b[0m\n\u001b[1;32m--> 476\u001b[1;33m             trees = Parallel(\n\u001b[0m\u001b[0;32m    477\u001b[0m                 \u001b[0mn_jobs\u001b[0m\u001b[1;33m=\u001b[0m\u001b[0mself\u001b[0m\u001b[1;33m.\u001b[0m\u001b[0mn_jobs\u001b[0m\u001b[1;33m,\u001b[0m\u001b[1;33m\u001b[0m\u001b[1;33m\u001b[0m\u001b[0m\n\u001b[0;32m    478\u001b[0m                 \u001b[0mverbose\u001b[0m\u001b[1;33m=\u001b[0m\u001b[0mself\u001b[0m\u001b[1;33m.\u001b[0m\u001b[0mverbose\u001b[0m\u001b[1;33m,\u001b[0m\u001b[1;33m\u001b[0m\u001b[1;33m\u001b[0m\u001b[0m\n",
      "\u001b[1;32mc:\\Users\\Zephyrus\\anaconda3\\lib\\site-packages\\joblib\\parallel.py\u001b[0m in \u001b[0;36m__call__\u001b[1;34m(self, iterable)\u001b[0m\n\u001b[0;32m   1086\u001b[0m                 \u001b[0mself\u001b[0m\u001b[1;33m.\u001b[0m\u001b[0m_iterating\u001b[0m \u001b[1;33m=\u001b[0m \u001b[0mself\u001b[0m\u001b[1;33m.\u001b[0m\u001b[0m_original_iterator\u001b[0m \u001b[1;32mis\u001b[0m \u001b[1;32mnot\u001b[0m \u001b[1;32mNone\u001b[0m\u001b[1;33m\u001b[0m\u001b[1;33m\u001b[0m\u001b[0m\n\u001b[0;32m   1087\u001b[0m \u001b[1;33m\u001b[0m\u001b[0m\n\u001b[1;32m-> 1088\u001b[1;33m             \u001b[1;32mwhile\u001b[0m \u001b[0mself\u001b[0m\u001b[1;33m.\u001b[0m\u001b[0mdispatch_one_batch\u001b[0m\u001b[1;33m(\u001b[0m\u001b[0miterator\u001b[0m\u001b[1;33m)\u001b[0m\u001b[1;33m:\u001b[0m\u001b[1;33m\u001b[0m\u001b[1;33m\u001b[0m\u001b[0m\n\u001b[0m\u001b[0;32m   1089\u001b[0m                 \u001b[1;32mpass\u001b[0m\u001b[1;33m\u001b[0m\u001b[1;33m\u001b[0m\u001b[0m\n\u001b[0;32m   1090\u001b[0m \u001b[1;33m\u001b[0m\u001b[0m\n",
      "\u001b[1;32mc:\\Users\\Zephyrus\\anaconda3\\lib\\site-packages\\joblib\\parallel.py\u001b[0m in \u001b[0;36mdispatch_one_batch\u001b[1;34m(self, iterator)\u001b[0m\n\u001b[0;32m    899\u001b[0m                 \u001b[1;32mreturn\u001b[0m \u001b[1;32mFalse\u001b[0m\u001b[1;33m\u001b[0m\u001b[1;33m\u001b[0m\u001b[0m\n\u001b[0;32m    900\u001b[0m             \u001b[1;32melse\u001b[0m\u001b[1;33m:\u001b[0m\u001b[1;33m\u001b[0m\u001b[1;33m\u001b[0m\u001b[0m\n\u001b[1;32m--> 901\u001b[1;33m                 \u001b[0mself\u001b[0m\u001b[1;33m.\u001b[0m\u001b[0m_dispatch\u001b[0m\u001b[1;33m(\u001b[0m\u001b[0mtasks\u001b[0m\u001b[1;33m)\u001b[0m\u001b[1;33m\u001b[0m\u001b[1;33m\u001b[0m\u001b[0m\n\u001b[0m\u001b[0;32m    902\u001b[0m                 \u001b[1;32mreturn\u001b[0m \u001b[1;32mTrue\u001b[0m\u001b[1;33m\u001b[0m\u001b[1;33m\u001b[0m\u001b[0m\n\u001b[0;32m    903\u001b[0m \u001b[1;33m\u001b[0m\u001b[0m\n",
      "\u001b[1;32mc:\\Users\\Zephyrus\\anaconda3\\lib\\site-packages\\joblib\\parallel.py\u001b[0m in \u001b[0;36m_dispatch\u001b[1;34m(self, batch)\u001b[0m\n\u001b[0;32m    817\u001b[0m         \u001b[1;32mwith\u001b[0m \u001b[0mself\u001b[0m\u001b[1;33m.\u001b[0m\u001b[0m_lock\u001b[0m\u001b[1;33m:\u001b[0m\u001b[1;33m\u001b[0m\u001b[1;33m\u001b[0m\u001b[0m\n\u001b[0;32m    818\u001b[0m             \u001b[0mjob_idx\u001b[0m \u001b[1;33m=\u001b[0m \u001b[0mlen\u001b[0m\u001b[1;33m(\u001b[0m\u001b[0mself\u001b[0m\u001b[1;33m.\u001b[0m\u001b[0m_jobs\u001b[0m\u001b[1;33m)\u001b[0m\u001b[1;33m\u001b[0m\u001b[1;33m\u001b[0m\u001b[0m\n\u001b[1;32m--> 819\u001b[1;33m             \u001b[0mjob\u001b[0m \u001b[1;33m=\u001b[0m \u001b[0mself\u001b[0m\u001b[1;33m.\u001b[0m\u001b[0m_backend\u001b[0m\u001b[1;33m.\u001b[0m\u001b[0mapply_async\u001b[0m\u001b[1;33m(\u001b[0m\u001b[0mbatch\u001b[0m\u001b[1;33m,\u001b[0m \u001b[0mcallback\u001b[0m\u001b[1;33m=\u001b[0m\u001b[0mcb\u001b[0m\u001b[1;33m)\u001b[0m\u001b[1;33m\u001b[0m\u001b[1;33m\u001b[0m\u001b[0m\n\u001b[0m\u001b[0;32m    820\u001b[0m             \u001b[1;31m# A job can complete so quickly than its callback is\u001b[0m\u001b[1;33m\u001b[0m\u001b[1;33m\u001b[0m\u001b[1;33m\u001b[0m\u001b[0m\n\u001b[0;32m    821\u001b[0m             \u001b[1;31m# called before we get here, causing self._jobs to\u001b[0m\u001b[1;33m\u001b[0m\u001b[1;33m\u001b[0m\u001b[1;33m\u001b[0m\u001b[0m\n",
      "\u001b[1;32mc:\\Users\\Zephyrus\\anaconda3\\lib\\site-packages\\joblib\\_parallel_backends.py\u001b[0m in \u001b[0;36mapply_async\u001b[1;34m(self, func, callback)\u001b[0m\n\u001b[0;32m    206\u001b[0m     \u001b[1;32mdef\u001b[0m \u001b[0mapply_async\u001b[0m\u001b[1;33m(\u001b[0m\u001b[0mself\u001b[0m\u001b[1;33m,\u001b[0m \u001b[0mfunc\u001b[0m\u001b[1;33m,\u001b[0m \u001b[0mcallback\u001b[0m\u001b[1;33m=\u001b[0m\u001b[1;32mNone\u001b[0m\u001b[1;33m)\u001b[0m\u001b[1;33m:\u001b[0m\u001b[1;33m\u001b[0m\u001b[1;33m\u001b[0m\u001b[0m\n\u001b[0;32m    207\u001b[0m         \u001b[1;34m\"\"\"Schedule a func to be run\"\"\"\u001b[0m\u001b[1;33m\u001b[0m\u001b[1;33m\u001b[0m\u001b[0m\n\u001b[1;32m--> 208\u001b[1;33m         \u001b[0mresult\u001b[0m \u001b[1;33m=\u001b[0m \u001b[0mImmediateResult\u001b[0m\u001b[1;33m(\u001b[0m\u001b[0mfunc\u001b[0m\u001b[1;33m)\u001b[0m\u001b[1;33m\u001b[0m\u001b[1;33m\u001b[0m\u001b[0m\n\u001b[0m\u001b[0;32m    209\u001b[0m         \u001b[1;32mif\u001b[0m \u001b[0mcallback\u001b[0m\u001b[1;33m:\u001b[0m\u001b[1;33m\u001b[0m\u001b[1;33m\u001b[0m\u001b[0m\n\u001b[0;32m    210\u001b[0m             \u001b[0mcallback\u001b[0m\u001b[1;33m(\u001b[0m\u001b[0mresult\u001b[0m\u001b[1;33m)\u001b[0m\u001b[1;33m\u001b[0m\u001b[1;33m\u001b[0m\u001b[0m\n",
      "\u001b[1;32mc:\\Users\\Zephyrus\\anaconda3\\lib\\site-packages\\joblib\\_parallel_backends.py\u001b[0m in \u001b[0;36m__init__\u001b[1;34m(self, batch)\u001b[0m\n\u001b[0;32m    595\u001b[0m         \u001b[1;31m# Don't delay the application, to avoid keeping the input\u001b[0m\u001b[1;33m\u001b[0m\u001b[1;33m\u001b[0m\u001b[1;33m\u001b[0m\u001b[0m\n\u001b[0;32m    596\u001b[0m         \u001b[1;31m# arguments in memory\u001b[0m\u001b[1;33m\u001b[0m\u001b[1;33m\u001b[0m\u001b[1;33m\u001b[0m\u001b[0m\n\u001b[1;32m--> 597\u001b[1;33m         \u001b[0mself\u001b[0m\u001b[1;33m.\u001b[0m\u001b[0mresults\u001b[0m \u001b[1;33m=\u001b[0m \u001b[0mbatch\u001b[0m\u001b[1;33m(\u001b[0m\u001b[1;33m)\u001b[0m\u001b[1;33m\u001b[0m\u001b[1;33m\u001b[0m\u001b[0m\n\u001b[0m\u001b[0;32m    598\u001b[0m \u001b[1;33m\u001b[0m\u001b[0m\n\u001b[0;32m    599\u001b[0m     \u001b[1;32mdef\u001b[0m \u001b[0mget\u001b[0m\u001b[1;33m(\u001b[0m\u001b[0mself\u001b[0m\u001b[1;33m)\u001b[0m\u001b[1;33m:\u001b[0m\u001b[1;33m\u001b[0m\u001b[1;33m\u001b[0m\u001b[0m\n",
      "\u001b[1;32mc:\\Users\\Zephyrus\\anaconda3\\lib\\site-packages\\joblib\\parallel.py\u001b[0m in \u001b[0;36m__call__\u001b[1;34m(self)\u001b[0m\n\u001b[0;32m    286\u001b[0m         \u001b[1;31m# change the default number of processes to -1\u001b[0m\u001b[1;33m\u001b[0m\u001b[1;33m\u001b[0m\u001b[1;33m\u001b[0m\u001b[0m\n\u001b[0;32m    287\u001b[0m         \u001b[1;32mwith\u001b[0m \u001b[0mparallel_backend\u001b[0m\u001b[1;33m(\u001b[0m\u001b[0mself\u001b[0m\u001b[1;33m.\u001b[0m\u001b[0m_backend\u001b[0m\u001b[1;33m,\u001b[0m \u001b[0mn_jobs\u001b[0m\u001b[1;33m=\u001b[0m\u001b[0mself\u001b[0m\u001b[1;33m.\u001b[0m\u001b[0m_n_jobs\u001b[0m\u001b[1;33m)\u001b[0m\u001b[1;33m:\u001b[0m\u001b[1;33m\u001b[0m\u001b[1;33m\u001b[0m\u001b[0m\n\u001b[1;32m--> 288\u001b[1;33m             return [func(*args, **kwargs)\n\u001b[0m\u001b[0;32m    289\u001b[0m                     for func, args, kwargs in self.items]\n\u001b[0;32m    290\u001b[0m \u001b[1;33m\u001b[0m\u001b[0m\n",
      "\u001b[1;32mc:\\Users\\Zephyrus\\anaconda3\\lib\\site-packages\\joblib\\parallel.py\u001b[0m in \u001b[0;36m<listcomp>\u001b[1;34m(.0)\u001b[0m\n\u001b[0;32m    286\u001b[0m         \u001b[1;31m# change the default number of processes to -1\u001b[0m\u001b[1;33m\u001b[0m\u001b[1;33m\u001b[0m\u001b[1;33m\u001b[0m\u001b[0m\n\u001b[0;32m    287\u001b[0m         \u001b[1;32mwith\u001b[0m \u001b[0mparallel_backend\u001b[0m\u001b[1;33m(\u001b[0m\u001b[0mself\u001b[0m\u001b[1;33m.\u001b[0m\u001b[0m_backend\u001b[0m\u001b[1;33m,\u001b[0m \u001b[0mn_jobs\u001b[0m\u001b[1;33m=\u001b[0m\u001b[0mself\u001b[0m\u001b[1;33m.\u001b[0m\u001b[0m_n_jobs\u001b[0m\u001b[1;33m)\u001b[0m\u001b[1;33m:\u001b[0m\u001b[1;33m\u001b[0m\u001b[1;33m\u001b[0m\u001b[0m\n\u001b[1;32m--> 288\u001b[1;33m             return [func(*args, **kwargs)\n\u001b[0m\u001b[0;32m    289\u001b[0m                     for func, args, kwargs in self.items]\n\u001b[0;32m    290\u001b[0m \u001b[1;33m\u001b[0m\u001b[0m\n",
      "\u001b[1;32mc:\\Users\\Zephyrus\\anaconda3\\lib\\site-packages\\sklearn\\utils\\fixes.py\u001b[0m in \u001b[0;36m__call__\u001b[1;34m(self, *args, **kwargs)\u001b[0m\n\u001b[0;32m    115\u001b[0m     \u001b[1;32mdef\u001b[0m \u001b[0m__call__\u001b[0m\u001b[1;33m(\u001b[0m\u001b[0mself\u001b[0m\u001b[1;33m,\u001b[0m \u001b[1;33m*\u001b[0m\u001b[0margs\u001b[0m\u001b[1;33m,\u001b[0m \u001b[1;33m**\u001b[0m\u001b[0mkwargs\u001b[0m\u001b[1;33m)\u001b[0m\u001b[1;33m:\u001b[0m\u001b[1;33m\u001b[0m\u001b[1;33m\u001b[0m\u001b[0m\n\u001b[0;32m    116\u001b[0m         \u001b[1;32mwith\u001b[0m \u001b[0mconfig_context\u001b[0m\u001b[1;33m(\u001b[0m\u001b[1;33m**\u001b[0m\u001b[0mself\u001b[0m\u001b[1;33m.\u001b[0m\u001b[0mconfig\u001b[0m\u001b[1;33m)\u001b[0m\u001b[1;33m:\u001b[0m\u001b[1;33m\u001b[0m\u001b[1;33m\u001b[0m\u001b[0m\n\u001b[1;32m--> 117\u001b[1;33m             \u001b[1;32mreturn\u001b[0m \u001b[0mself\u001b[0m\u001b[1;33m.\u001b[0m\u001b[0mfunction\u001b[0m\u001b[1;33m(\u001b[0m\u001b[1;33m*\u001b[0m\u001b[0margs\u001b[0m\u001b[1;33m,\u001b[0m \u001b[1;33m**\u001b[0m\u001b[0mkwargs\u001b[0m\u001b[1;33m)\u001b[0m\u001b[1;33m\u001b[0m\u001b[1;33m\u001b[0m\u001b[0m\n\u001b[0m\u001b[0;32m    118\u001b[0m \u001b[1;33m\u001b[0m\u001b[0m\n\u001b[0;32m    119\u001b[0m \u001b[1;33m\u001b[0m\u001b[0m\n",
      "\u001b[1;32mc:\\Users\\Zephyrus\\anaconda3\\lib\\site-packages\\sklearn\\ensemble\\_forest.py\u001b[0m in \u001b[0;36m_parallel_build_trees\u001b[1;34m(tree, bootstrap, X, y, sample_weight, tree_idx, n_trees, verbose, class_weight, n_samples_bootstrap)\u001b[0m\n\u001b[0;32m    187\u001b[0m             \u001b[0mcurr_sample_weight\u001b[0m \u001b[1;33m*=\u001b[0m \u001b[0mcompute_sample_weight\u001b[0m\u001b[1;33m(\u001b[0m\u001b[1;34m\"balanced\"\u001b[0m\u001b[1;33m,\u001b[0m \u001b[0my\u001b[0m\u001b[1;33m,\u001b[0m \u001b[0mindices\u001b[0m\u001b[1;33m=\u001b[0m\u001b[0mindices\u001b[0m\u001b[1;33m)\u001b[0m\u001b[1;33m\u001b[0m\u001b[1;33m\u001b[0m\u001b[0m\n\u001b[0;32m    188\u001b[0m \u001b[1;33m\u001b[0m\u001b[0m\n\u001b[1;32m--> 189\u001b[1;33m         \u001b[0mtree\u001b[0m\u001b[1;33m.\u001b[0m\u001b[0mfit\u001b[0m\u001b[1;33m(\u001b[0m\u001b[0mX\u001b[0m\u001b[1;33m,\u001b[0m \u001b[0my\u001b[0m\u001b[1;33m,\u001b[0m \u001b[0msample_weight\u001b[0m\u001b[1;33m=\u001b[0m\u001b[0mcurr_sample_weight\u001b[0m\u001b[1;33m,\u001b[0m \u001b[0mcheck_input\u001b[0m\u001b[1;33m=\u001b[0m\u001b[1;32mFalse\u001b[0m\u001b[1;33m)\u001b[0m\u001b[1;33m\u001b[0m\u001b[1;33m\u001b[0m\u001b[0m\n\u001b[0m\u001b[0;32m    190\u001b[0m     \u001b[1;32melse\u001b[0m\u001b[1;33m:\u001b[0m\u001b[1;33m\u001b[0m\u001b[1;33m\u001b[0m\u001b[0m\n\u001b[0;32m    191\u001b[0m         \u001b[0mtree\u001b[0m\u001b[1;33m.\u001b[0m\u001b[0mfit\u001b[0m\u001b[1;33m(\u001b[0m\u001b[0mX\u001b[0m\u001b[1;33m,\u001b[0m \u001b[0my\u001b[0m\u001b[1;33m,\u001b[0m \u001b[0msample_weight\u001b[0m\u001b[1;33m=\u001b[0m\u001b[0msample_weight\u001b[0m\u001b[1;33m,\u001b[0m \u001b[0mcheck_input\u001b[0m\u001b[1;33m=\u001b[0m\u001b[1;32mFalse\u001b[0m\u001b[1;33m)\u001b[0m\u001b[1;33m\u001b[0m\u001b[1;33m\u001b[0m\u001b[0m\n",
      "\u001b[1;32mc:\\Users\\Zephyrus\\anaconda3\\lib\\site-packages\\sklearn\\tree\\_classes.py\u001b[0m in \u001b[0;36mfit\u001b[1;34m(self, X, y, sample_weight, check_input)\u001b[0m\n\u001b[0;32m    967\u001b[0m         \"\"\"\n\u001b[0;32m    968\u001b[0m \u001b[1;33m\u001b[0m\u001b[0m\n\u001b[1;32m--> 969\u001b[1;33m         super().fit(\n\u001b[0m\u001b[0;32m    970\u001b[0m             \u001b[0mX\u001b[0m\u001b[1;33m,\u001b[0m\u001b[1;33m\u001b[0m\u001b[1;33m\u001b[0m\u001b[0m\n\u001b[0;32m    971\u001b[0m             \u001b[0my\u001b[0m\u001b[1;33m,\u001b[0m\u001b[1;33m\u001b[0m\u001b[1;33m\u001b[0m\u001b[0m\n",
      "\u001b[1;32mc:\\Users\\Zephyrus\\anaconda3\\lib\\site-packages\\sklearn\\tree\\_classes.py\u001b[0m in \u001b[0;36mfit\u001b[1;34m(self, X, y, sample_weight, check_input)\u001b[0m\n\u001b[0;32m    456\u001b[0m             )\n\u001b[0;32m    457\u001b[0m \u001b[1;33m\u001b[0m\u001b[0m\n\u001b[1;32m--> 458\u001b[1;33m         \u001b[0mbuilder\u001b[0m\u001b[1;33m.\u001b[0m\u001b[0mbuild\u001b[0m\u001b[1;33m(\u001b[0m\u001b[0mself\u001b[0m\u001b[1;33m.\u001b[0m\u001b[0mtree_\u001b[0m\u001b[1;33m,\u001b[0m \u001b[0mX\u001b[0m\u001b[1;33m,\u001b[0m \u001b[0my\u001b[0m\u001b[1;33m,\u001b[0m \u001b[0msample_weight\u001b[0m\u001b[1;33m)\u001b[0m\u001b[1;33m\u001b[0m\u001b[1;33m\u001b[0m\u001b[0m\n\u001b[0m\u001b[0;32m    459\u001b[0m \u001b[1;33m\u001b[0m\u001b[0m\n\u001b[0;32m    460\u001b[0m         \u001b[1;32mif\u001b[0m \u001b[0mself\u001b[0m\u001b[1;33m.\u001b[0m\u001b[0mn_outputs_\u001b[0m \u001b[1;33m==\u001b[0m \u001b[1;36m1\u001b[0m \u001b[1;32mand\u001b[0m \u001b[0mis_classifier\u001b[0m\u001b[1;33m(\u001b[0m\u001b[0mself\u001b[0m\u001b[1;33m)\u001b[0m\u001b[1;33m:\u001b[0m\u001b[1;33m\u001b[0m\u001b[1;33m\u001b[0m\u001b[0m\n",
      "\u001b[1;31mKeyboardInterrupt\u001b[0m: "
>>>>>>> ee0bfc807b5ca98590dd9bcf5aa8fd14426c4574
     ]
    }
   ],
   "source": [
    "dataset_path = config['Data']['dataset_path']\n",
    "y_test_all = []\n",
    "y_pred_all = []\n",
    "for k in range(n_folds):\n",
<<<<<<< HEAD
    "    model_names = ['xgboost']\n",
=======
    "    model_names = ['random_forest']\n",
>>>>>>> ee0bfc807b5ca98590dd9bcf5aa8fd14426c4574
    "    for model_name in model_names:\n",
    "        \n",
    "        config.set('Model', 'model_name', model_name)\n",
    "\n",
    "        train_ids, test_ids = balanced_split(dataset_path, num_test_part)\n",
    "\n",
    "        X_train = X[X['par_ids'].isin(train_ids)]\n",
    "        X_test = X[X['par_ids'].isin(test_ids)]\n",
    "\n",
    "        y_train = y[np.isin(par_ids, train_ids)]\n",
    "        y_test = list(y[np.isin(par_ids, test_ids)])\n",
    "\n",
    "        #X_train, X_test, y_train, y_test = train_test_split(X, y, test_size=0.1, random_state=seed)\n",
    "\n",
    "        X_train = X_train.drop(['par_ids'], axis=1)\n",
    "        X_test = X_test.drop(['par_ids'], axis=1)\n",
    "\n",
    "        scaler = StandardScaler()\n",
    "        X_train = scaler.fit_transform(X_train)\n",
    "        X_test = scaler.transform(X_test)\n",
    "\n",
    "        #pca = PCA(n_components=180)\n",
    "        #X_train = pca.fit_transform(X_train)\n",
    "        #X_test = pca.transform(X_test)\n",
    "        \n",
    "        # oversample\n",
    "        oversample = SMOTE()\n",
    "        X_train, y_train = oversample.fit_resample(X_train, y_train)\n",
    "\n",
    "        model = get_model(config)\n",
    "\n",
    "        print('starting training')\n",
    "        # train and evaluate model\n",
    "        model.fit(X_train, y_train)\n",
    "        y_pred = model.predict(X_test)\n",
    "        print('finished training')\n",
    "        metrics = get_metrics(y_test, y_pred)\n",
    "        print(metrics)\n",
    "        y_test_all.append(y_test)\n",
    "        y_pred_all.append(y_pred)"
   ]
  },
  {
   "cell_type": "code",
<<<<<<< HEAD
   "execution_count": 310,
=======
   "execution_count": null,
>>>>>>> ee0bfc807b5ca98590dd9bcf5aa8fd14426c4574
   "metadata": {},
   "outputs": [],
   "source": [
    "#make list od lists just one list with all values\n",
    "y_test_all = [item for sublist in y_test_all for item in sublist]\n",
    "y_pred_all = [item for sublist in y_pred_all for item in sublist]\n",
    "metrics = get_metrics(y_test_all, y_pred_all)"
   ]
  },
  {
   "cell_type": "code",
<<<<<<< HEAD
   "execution_count": 311,
=======
   "execution_count": 60,
>>>>>>> ee0bfc807b5ca98590dd9bcf5aa8fd14426c4574
   "metadata": {},
   "outputs": [
    {
     "name": "stdout",
     "output_type": "stream",
     "text": [
<<<<<<< HEAD
      "{'accuracy': 0.7595827776719375, 'f1': 0.7591879138424678, 'precision': 0.7623729879388059, 'recall': 0.7601571327327366, 'confusion_matrix': pycm.ConfusionMatrix(classes: ['0', '1'])}\n"
=======
      "{'accuracy': 0.720705150362945, 'f1': 0.720030637353977, 'precision': 0.7198722399334527, 'recall': 0.7206216318225376, 'confusion_matrix': pycm.ConfusionMatrix(classes: [0, 1])}\n"
>>>>>>> ee0bfc807b5ca98590dd9bcf5aa8fd14426c4574
     ]
    },
    {
     "data": {
<<<<<<< HEAD
      "image/png": "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",
=======
      "image/png": "iVBORw0KGgoAAAANSUhEUgAAAXUAAAEWCAYAAACZnQc8AAAAOXRFWHRTb2Z0d2FyZQBNYXRwbG90bGliIHZlcnNpb24zLjMuNCwgaHR0cHM6Ly9tYXRwbG90bGliLm9yZy8QVMy6AAAACXBIWXMAAAsTAAALEwEAmpwYAAAn6ElEQVR4nO3deZxWZd3H8c93ZmQTkE2IzcTEDMklFEnLVFJITXg0FbIktUhDzaVUstye6FEzS3NJXBI3CPctckvDHRAXNlkSlwkUl1SUdeD3/HHO4M04c88946yH75vXec25f+ec61wH8Xdfc53rXEcRgZmZZUNRY1fAzMzqjpO6mVmGOKmbmWWIk7qZWYY4qZuZZYiTuplZhjip2+cmqbWk+yR9KOm2z1HOkZIeqsu6NQZJUySNaux62KbJSX0TIun7kmZI+ljS0jT5fKMOiv4e0A3oHBGH1baQiLglIvavg/psRNLekkLSnRXiO6Xxxwss51xJN1e3X0R8JyIm1LK6Zp+Lk/omQtKpwJ+A35Ek4K2AK4FhdVD8F4EFEVFWB2XVl3eAPSR1zomNAhbU1QmU8P9T1qj8D3ATIGkL4HxgTETcGRGfRMTaiLgvIn6Z7tNS0p8kLUmXP0lqmW7bW1KppNMkLUtb+Uen284DzgaOSH8DOLZii1bS1mmLuCT9/CNJr0paLmmxpCNz4k/mHLeHpOlpt850SXvkbHtc0v9Keiot5yFJXfL8NawB7gZGpMcXA4cDt1T4u7pU0puSPpL0vKRvpvGhwK9yrvOlnHqMk/QUsALYJo39ON1+laTbc8q/UNKjklTofz+zmnBS3zR8HWgF3JVnn7OAQcDOwE7AQODXOdu/AGwB9ASOBa6Q1DEiziFp/f8tItpGxHX5KiJpc+Ay4DsR0Q7YA3ixkv06AQ+k+3YGLgEeqNDS/j5wNNAVaAH8It+5gRuBo9L1IcAcYEmFfaaT/B10Am4FbpPUKiL+UeE6d8o55ofAaKAd8HqF8k4Ddky/sL5J8nc3Kjw/h9UTJ/VNQ2fg3Wq6R44Ezo+IZRHxDnAeSbIqtzbdvjYi/g58DHy5lvVZD/SX1DoilkbEnEr2ORBYGBE3RURZREwEXgG+m7PPXyNiQUSsBCaTJOMqRcTTQCdJXyZJ7jdWss/NEfFees4/AC2p/jpviIg56TFrK5S3AvgByZfSzcCJEVFaTXlmteakvml4D+hS3v1RhR5s3Mp8PY1tKKPCl8IKoG1NKxIRnwBHAMcBSyU9IGn7AupTXqeeOZ/fqkV9bgJOAPahkt9c0i6meWmXzwckv53k69YBeDPfxoiYBrwKiOTLx6zeOKlvGp4BVgHD8+yzhOSGZ7mt+GzXRKE+AdrkfP5C7saIeDAi9gO6k7S+rymgPuV1+k8t61TuJuBnwN/TVvQGaffIGSR97R0jogPwIUkyBqiqyyRvV4qkMSQt/iXA6bWuuVkBnNQ3ARHxIcnNzCskDZfURtJmkr4j6aJ0t4nAryVtmd5wPJuku6A2XgT2krRVepN2bPkGSd0kHZz2ra8m6cZZV0kZfwe2S4dhlkg6AugH3F/LOgEQEYuBb5HcQ6ioHVBGMlKmRNLZQPuc7W8DW9dkhIuk7YDfknTB/BA4XdLOtau9WfWc1DcREXEJcCrJzc93SLoMTiAZEQJJ4pkBvAzMAmamsdqc62Hgb2lZz7NxIi4iuXm4BHifJMH+rJIy3gMOSvd9j6SFe1BEvFubOlUo+8mIqOy3kAeBKSTDHF8n+e0mt2ul/MGq9yTNrO48aXfXzcCFEfFSRCwkGUFzU/nIIrO6Jt+ENzPLDrfUzcwyxEndzCxDnNTNzDLESd3MLEPyPYzSqLoeO9l3cO0z3rj68MaugjVBrUr43HPptN7lhIJzzsoXLm+yc/e4pW5mVock9Zb0WPpk8hxJP0/jv5f0iqSXJd0lqUPOMWMlLZI0X9KQnPgASbPSbZcVMhGck7qZGYCKCl/yKwNOi4ivkEySN0ZSP+BhoH9E7EjyLMRYgHTbCGAHYChwZTqLKMBVJJPF9U2XodWd3EndzAygqLjwJY90krqZ6fpyYB7QMyIeypk/6VmgV7o+DJgUEavTJ54XAQMldQfaR8Qz6ayeN5J/qo/kMmpx6WZm2SMVvEgareQtYuXL6MqL1NbALsBzFTYdQ/L0MiST1OU+uVyaxnqm6xXjeTXZG6VmZg2qBi+tiojxwPi8xUltgTuAkyPio5z4WSRdNOUvaKmsnzzyxPNyUjczg6QVXmdFaTOShH5LRNyZEx9FMqfR4JwXpZQCvXMO70UyN1Ipn3bR5MbzcveLmRnU2Y3SdITKdcC8dCK98vhQkqmdD64w7fO9wAglr5TsQ3JDdFpELAWWSxqUlnkUcE91l+GWupkZ1GVLfU+SaZZnSXoxjf2K5NWMLYGH05GJz0bEcRExR9JkYC5Jt8yYiCifjvp44AagNUkffHk/fJWc1M3MoNpRLYWKiCepvD/873mOGQeMqyQ+A+hfk/M7qZuZQY1ulDZlTupmZlCnN0obk5O6mRm4pW5mlilO6mZmGVJcNzdKG5uTupkZuE/dzCxT3P1iZpYhbqmbmWWIW+pmZhnilrqZWYbU0TQBjc1J3cwM3P1iZpYp7n4xM8sQt9TNzDLESd3MLEN8o9TMLEPcp25mliHufjEzyxC31M3MskNO6mZm2ZGVpJ6NTiQzs89JRSp4yVuO1FvSY5LmSZoj6edpvJOkhyUtTH92zDlmrKRFkuZLGpITHyBpVrrtMhXwzeOkbmZG0lIvdKlGGXBaRHwFGASMkdQPOBN4NCL6Ao+mn0m3jQB2AIYCV0oqH195FTAa6JsuQ6s7uZO6mRl1l9QjYmlEzEzXlwPzgJ7AMGBCutsEYHi6PgyYFBGrI2IxsAgYKKk70D4inomIAG7MOaZKTupmZtQsqUsaLWlGzjK6ijK3BnYBngO6RcRSSBI/0DXdrSfwZs5hpWmsZ7peMZ6Xb5SamQHU4D5pRIwHxuctTmoL3AGcHBEf5WnhV7Yh8sTzclI3M6NuR79I2owkod8SEXem4bcldY+IpWnXyrI0Xgr0zjm8F7AkjfeqJJ6Xu1/MzICioqKCl3zSESrXAfMi4pKcTfcCo9L1UcA9OfERklpK6kNyQ3Ra2kWzXNKgtMyjco6pklvqZmbUaUt9T+CHwCxJL6axXwEXAJMlHQu8ARwGEBFzJE0G5pKMnBkTEevS444HbgBaA1PSJS8ndTMzqFGfej4R8WSe0gZXccw4YFwl8RlA/5qc30ndzIzsPFHqpG5mhpO6mVmmVPf4f3PhpG5mhlvqZmaZ4qRuZpYhTupmZhnipG5mliXZyOlO6mZmQLWP/zcXTupmZrj7xcwsW7KR053UG8vvj9qNwV/tznvLV7Pf+Q8C8JVeW/C7IwewecsSSt9bwUnXPcvHq8o2HNOjYxsePXcIf7x/LuMfng/AjSd9k67tW1NSLKYtfJdfT5zJ+qh2ymVr4ha+9jbH/Or6DZ9fX/IeY0cfyIcfr+DGu5+mc4e2APxmzMHsv+cOrC1bx0m/vYWXXnmTdevWc8QBAzn16CFVFW+VcEvdPpfbnlnMhMcW8sejd98Qu+iHu/Hb21/iuYXvcPgeffjp/tvzh3tnb9h+9uE78/ictzYq52fjn9mQ+P/y0z04cEAv7pvxJta89d26G0/cOhaAdevW0++Aszhwn5249b5nOH7kPpz4w29vtP/dj8xk9Zoynp50FitWrWHQ4b/le0N2ZasenRuj+s1SVpJ6vd0ZkLS9pDPSN2Bfmq5/pb7O19xMW/guH6xYs1Fsm27teG7hOwA8Me8tDtjl0zdX7b9TD95492MWLPloo2PKE3pJkWhRko0bPbaxf02fz9a9tmSr7p2q3EcSK1auoaxsHatWraHFZsW027xVA9ay+avDF083qnrJApLOACaR9FJNA6an6xMlnVkf58yC+Us+ZL+degBw4IDedO/UBoDWLYo5fuj2/On+uZUed9NJe/HCxcP4eNVaHni+tNJ9rPm686HnOXTIgA2fr7ltKnuO/B0nnH8zH3y0AoBhg3ehTesWbP+ds/jqd8/mhCMH03GLzRurys2SilTw0pTVV9PuWGC3iLggIm5OlwuAgem2SuW+zHXlK4/UU9Warl9OmM6ovbflgV99m7atSlhbth6AU7/bn+seWcCK1WWVHvfDy6ay6+n30qKkmD2371rpPtY8rVlbxpSpsxg+eBcAjjn0m7xw17k8ccuZdOvSnl//KXlT2vNzXqO4qIh5U8bx4j3nccUt/+S10ncbs+rNTlZa6vXVp74e6AG8XiHePd1WqdyXuXY9dvImd7fv328v5weXTgWgT9e27Nu/OwC79OnEAV/rxdhDdqJ9m82ICFavXceExxdtOHZ12Xoeeek/7LdTD56Y93aj1N/q3iNPz2Wn7XvTtXN7gA0/AUYN35MjTvkLALf/YwaD9+jHZiXFbNmpHbvvtA0vzHuDrXt1aZR6N0dNPVkXqr6S+snAo5IWAuV37bYCtgVOqKdzNnud27XkveWrkeCkA/px89RXAfjexY9t2OeUg3bgk9VlTHh8EW1altC2ZQnLPlpFcZHY56vdmbbQrbMsuf3BGRy6/6ddL2+9+yFf6LIFAPc//hJf+VLyxd/rC514Yvp8jvjObqxYtYYZs1/juJH7NEqdm6uM5PT6SeoR8Q9J25F0t/Qk6U8vBabnvHtvk/bnYwfx9S9vSce2LXnugoO45L45bN6yhKP23haAf7xQyuSnF+cto02LYq4b8w1alBRRXCSemr+Mm6f+uyGqbw1gxao1PD7tFf74q5EbYudcdjezFpQiia26d9qw7ceH7cUJ59/MHkeMI4Dvf3cQ/fv2rKJkq0xWWuqKJjqmeVPsfrHqvXH14Y1dBWuCWpV8/keHvnzGgwXnnPkXDmmy3wAeA2dmRtL9UuhSfVm6XtIySbNzYjtLelbSi+mAkIE528ZKWiRpvqQhOfEBkmal2y5TAb9OOKmbmQFFRSp4KcANwNAKsYuA8yJiZ+Ds9DOS+gEjgB3SY66UVJwecxUwGuibLhXL/Ox1FFI7M7Osq8uWekRMBd6vGAbKhy9tASxJ14cBkyJidUQsBhYBAyV1B9pHxDOR9JPfCAyv7tyeJsDMjAa5UXoy8KCki0ka1Huk8Z7Aszn7laaxtel6xXhebqmbmVGzlnrug5LpMrqAUxwPnBIRvYFTgOvKT13JvpEnnpdb6mZm1OwlGbkPStbAKODn6fptwLXpeinQO2e/XiRdM6XpesV4Xm6pm5lRt33qVVgCfCtd3xdYmK7fC4yQ1FJSH5IbotMiYimwXNKgdNTLUcA91Z3ELXUzM+q2T13SRGBvoIukUuAc4CfApZJKgFUko1qIiDmSJgNzgTJgTM5DmseTjKRpDUxJl7yc1M3MqNtpAiJiZBWbBlQWjIhxwLhK4jOA/jU5t5O6mRnZmSbASd3MDE/oZWaWKQU+KdrkOambmeHuFzOzTMlITndSNzOD7LTUq334SNLPJbVX4jpJMyXt3xCVMzNrKA3w8FGDKOSJ0mMi4iNgf2BL4GjggnqtlZlZA6vjqXcbTSHdL+VXcADw14h4qZCJ2s3MmpOspLVCkvrzkh4C+gBjJbUD1tdvtczMGtamlNSPBXYGXo2IFZI6k3TBmJllRkZyekF96gH0A05KP28OtKq3GpmZNQJJBS9NWSFJ/Urg60D5BDXLgSvqrUZmZo0gK6NfCul+2T0ivibpBYCI+K+kFvVcLzOzBtXUR7UUqpCkvjZ9s3UASNoS3yg1s4wpaupN8AIV0v1yGXAX0FXSOOBJ4Hf1Wiszswa2yXS/RMQtkp4HBpOMWR8eEfPqvWZmZg2oqd8ALVQh0wR8CVgcEVcAs4H9JHWo74qZmTWkIhW+NGWFdL/cAayTtC3J26/7ALfWa63MzBpYVqYJKCSpr4+IMuAQ4NKIOAXoXr/VMjNrWKrBn6as0NEvI4GjgO+msc3qr0pmZg2viTfAC1ZIS/1okoePxkXEYkl9gJvrt1pmZg2rLp8olXS9pGWSZleInyhpvqQ5ki7KiY+VtCjdNiQnPkDSrHTbZYVMpljI6Je5pFMESOoItIsIT71rZplSx4NfbgAuB278tHztAwwDdoyI1ZK6pvF+wAhgB6AH8Iik7SJiHXAVMBp4Fvg7MBSYku/EhYx+eTx9SUYn4CXgr5IuqfElmpk1YUVSwUt1ImIq8H6F8PHABRGxOt1nWRofBkyKiNURsRhYBAyU1B1oHxHPRESQfEEMr/Y6CrjWLdKXZBxCMp/6AODbBRxnZtZs1GT0i6TRkmbkLKMLOMV2wDclPSfpX5J2S+M9gTdz9itNYz3T9YrxvAq5UVqSfmMcDpxVwP5mZs1OTbpfImI8ML6GpygBOgKDgN2AyZK2gUqH00SeeLUnqc75wIPAkxExPa3EwgKOMzNrNhpg7pdS4M60K2WapPVAlzTeO2e/XsCSNN6rknhe1Xa/RMRtEbFjRPws/fxqRBxa8GWYmTUDqsFSS3cD+wJI2g5oAbwL3AuMkNQyHV3YF5gWEUuB5ZIGpaNejgLuqe4k1bbUJbUiefvRDuS8HCMijqnpFZmZNVV1OfeLpInA3kAXSaXAOcD1wPXpMMc1wKi01T5H0mRgLlAGjElHvkByc/UGoDXJqJe8I1+gsO6Xm4BXgCEkXTFHAp7Qy8wypS4fPoqIkVVs+kEV+48DxlUSnwH0r8m5Cxn9sm1E/Ab4JCImAAcCX63JSczMmrqszP1S0DQB6c8PJPUH3gK2rrcamZk1gqxMvVtIUh+fPkn6G5IO/bbA2fVaKzOzBtbEG+AFK2SagGvT1X8B29RvdczMGkfmW+qSTs13YER4qgAzy4xspPT8LfV2DVYLM7NGVpyR/pcqk3pEnNeQFTEza0xZ6X6pckijpIskHVdJ/BRJF9ZvtczMGpZU+NKU5et+OYjKB71fCrwMnFEvNTIzawQNMPdLg8iX1CMi1lcSXF/I2zfMzJqTrGS1fEl9haS+EbHRjIyS+gIr67daMOdPh9T3KawZ6rjbCY1dBWuCVr5w+ecuIytt1XxJ/WxgiqTfAs+nsV2BscDJ9VwvM7MGVZz1pB4RUyQNB34JnJiGZwOHRsSsBqibmVmDyciIxvxPlEbEbGBUA9XFzKzRbBJJ3cxsU7Ep9KmbmW0y3FI3M8uQjDTU807o9WfyvLk6Ik6qlxqZmTWCkoxk9Xwt9RkNVgszs0aWkZyed0jjhIasiJlZY9oUpgkAQNKWJPO89ANalccjYt96rJeZWYPKSE4v6MXTtwDzgD7AecBrwPR6rJOZWYMrUuFLdSRdL2mZpNmVbPuFpJDUJSc2VtIiSfMlDcmJD5A0K912WSHzbhWS1DtHxHXA2oj4V0QcAwwq4Dgzs2ajuEgFLwW4ARhaMSipN7Af8EZOrB8wAtghPeZKScXp5quA0UDfdPlMmRUVktTXpj+XSjpQ0i5ArwKOMzNrNuqypR4RU4H3K9n0R+B0Nh5ZOAyYFBGrI2IxsAgYKKk70D4inomIAG4Ehld37kLGqf9W0hbAacCfgfbAKQUcZ2bWbKgGbymVNJqkBV1ufESMr+aYg4H/RMRLFXpRegLP5nwuTWNr0/WK8byqTeoRcX+6+iGwT3X7m5k1RzV5ojRN4HmTeC5JbYCzgP0r21zZKfLE8ypk9MtfKyso7Vs3M8uEep4m4Eskg03KW+m9gJmSBpK0wHvn7NsLWJLGe1USz6uQ7pf7c9ZbAf9TSMFmZs1JfU7olU5X3jXnXK8Bu0bEu5LuBW6VdAnQg+SG6LSIWCdpuaRBwHPAUSRd4HkV0v1yR+5nSROBR2pwPWZmTV5xIcNGCpTmyb2BLpJKgXPSUYSfERFzJE0G5gJlwJiIWJduPp5kJE1rYEq65FWbCb36AlvV4jgzsyarLp8ojYiR1WzfusLnccC4SvabAfSvybkL6VNfzsZ96m+RPGFqZpYZm8zUuxHRriEqYmbWmDaZaQIkPVpIzMysOStCBS9NWb751FsBbUg6+jvy6ZjJ9iR3aM3MMiMrLfV83S8/BU4mSeDP82lS/wi4on6rZWbWsEoy0qmebz71S4FLJZ0YEdWOjTQza86y0lIvZGTmekkdyj9I6ijpZ/VXJTOzhlckFbw0ZYUk9Z9ExAflHyLiv8BP6q1GZmaNQCp8acoKefioSJLSqR9J5/ltUb/VMjNrWHX4QGmjKiSpPwhMlvQXkoeQjgP+Ua+1MjNrYE29W6VQhST1M0jmDT6eZATMQ8A19VkpM7OGlpWkXu1vHBGxPiL+EhHfi4hDgTkUMFOYmVlzohosTVlBE3pJ2hkYCRwBLAburMc6mZk1uIw01PM+UbodyctQRwLvAX8DFBF++5GZZU59zqfekPK11F8BngC+GxGLACT53aRmlklZGf2S7zoOJZlm9zFJ10gaTNPvTjIzq5XMP3wUEXdFxBHA9sDjwClAN0lXSars5almZs2WpIKXpqyQ0S+fRMQtEXEQyYtPXwTOrO+KmZk1pKIaLE1ZjeoXEe9HxNURsW99VcjMrDFkpaVem3eUmpllTtNO1YVr6r9JmJk1iGKp4KU6kq6XtEzS7JzY7yW9IullSXdVmP12rKRFkuZLGpITHyBpVrrtMhXwa4KTupkZdT5L4w3A0Aqxh4H+EbEjsAAYm5xX/UieCdohPebKdOJEgKtIpmnpmy4Vy/wMJ3UzM0A1+FOdiJgKvF8h9lBElKUfnyUZeAIwDJgUEasjYjGwCBgoqTvQPiKeSWfJvREYXt25ndTNzKhZS13SaEkzcpbRNTzdMcCUdL0n8GbOttI01jNdrxjPyzdKzcyAohrcKo2I8cD42pxH0llAGXBLeaiyU+SJ5+WkbmZGw0zoJWkUcBAwuPzFQyQt8N45u/UClqTxXpXE83L3i5kZ9T9NgKShJO+nODgiVuRsuhcYIamlpD4kN0SnRcRSYLmkQemol6OAe6o7j1vqZmZAUR221CVNBPYGukgqBc4hGe3SEng4HZn4bEQcFxFzJE0G5pJ0y4yJiHVpUceTjKRpTdIHP4VqOKmbmUFBo1oKFREjKwlfl2f/ccC4SuIzgP41ObeTupkZm8BLMqzhXDv5cSbe/ywSbL9Ndy4+8/tcecsjTLz/WTp32ByA039yEPt+vR9ry9Zx+oWTmL2glHXr1nHI0N044Qf7NfIVWF3o2a0DV517FF07t2d9BBPueoqrJz3O+ScNZ8g3+7N27ToWl77LmPNv5qOPV7L3wO0554SDabFZCWvWlnH2ZXfzxIwFtG3Tkr9f8+mrD3p07cDkKdP51SV3NOLVNX112VJvTE7qjeytdz7gr7dP5dGbzqRVyxYcf84N3PfPmQD8+LBv8dORG8+d9sBjL7JmbRkPTziDlavWMPio/2PY4K/Ru3vnxqi+1aGysvX8+k938vL8Utq2acljN57B48+9wmPPvcJ5V9zLunXrOfeEYZz6o/059/J7eO+Djxl56tW89e6HfOVL3bn9sjHscOCv+XjFavY68oIN5T524+nc/9iLjXdhzURd9qk3Jo9+aQLK1q1n1eq1lJWtY+WqNXTrvEWV+0qwYtUaysrWsWr1WjYrKaHd5q0asLZWX95+7yNenp88a/LxitUseO0tum/Zgceee4V169YDMH32Ynp06wDArAWlvPXuhwDM+/dSWrXYjBabbdxO26b3lmzZqR1Pv/DvhruQZirzL8mwhvGFLTswesQ+DDrsPHb9n7Npv3lr9hq4PQAT7nqC/X90Ib+44FY+WJ6MgDpg751p06oFu/7P2Qw67DxGj9iHDu03b8xLsHrQu3sndvxyL56f89pG8R8c/HUeeXruZ/Y/eN+deXnBm6xZW7ZR/NAhA7jz4Zn1WdXMUA2WpqzBk7qko/Ns2/Do7Y1/vaYhq9VoPli+goefnM1Tfzub6Xedz4pVq7nzoRn8cPg3eGLib/jH9b+ka+ct+O0VdwPw4rzXKS4qYvpd5/PU337DNX97jNeXvNu4F2F1avPWLbjxwh8z9pI7WP7Jqg3x044eQlnZeiZPmb7R/ttv8wXOPXEYp/xu0mfKOmS/Adzx4Ix6r3MWuKVee+dVtSEixkfErhGx61FH/6Qh69RonpyxgN7dO9G5Q1s2Kylm6F478vzsxWzZqR3FxUUUFRUx8qBBvDjvDQDueXgm39p9ezYrKaZLx3bs+tU+vPzKm9WcxZqLkuIiJlz4E277xwzuf+ylDfERB+7O/t/oz+jf3LDR/j26duCmi0Zz/Dk38dp/Nv5y79+3JyXFxbzkfx8FcUs9j3S+4MqWWUC3+jhnc9WzWwdmzn2dlavWEBE89fxCtv1iN95O+0oBHnxiFl/u0x2AHt068PTMhUQEK1auZuac19n2i/4rzYo//+ZIFrz2Flfe+s8NscFf/wo/P+rbfP+0q1m5eu2GePu2rfnbH4/j/Cvu5bmXX/1MWYcOGcAdD7mVXrCMZHV9Ov1AHRYqvQ0MAf5bcRPwdET0qK6Md5aX1X3Fmqg/XD+F+//5AsXFRezQtxcXnT6C0y+axNyF/0GCXl/oxP/94nC6ddmCT1as5rQLbmXha28TERx+wO4cN3LTebvgVnud3NhVqDeDdtqGKdeeypyF/2F9+v/l/15xLxf84jBatijh/Q8/AWDGrNc49YJJnHbMEE750f68+uY7G8o45ITLefe/HwPwwt3ncvjPr2Lh6283/MU0sJUvXP65U+20Vz8sOOcM3GaLJpva6yupXwf8NSKerGTbrRHx/erK2JSSuhUuy0ndaq8ukvr0GiT13ZpwUq+XceoRcWyebdUmdDOzBtdk03TN+OEjMzP8RKmZWaY08ZGKBXNSNzMjM70vTupmZgDKSFPdSd3MDHe/mJllSkZyupO6mRmQmazupG5mhoc0mpllivvUzcwyJCtJ3S/JMDMj6X4p9E+1ZUnXS1omaXZOrJOkhyUtTH92zNk2VtIiSfMlDcmJD5A0K912mQoYd+mkbmZG0lIvdCnADcDQCrEzgUcjoi/waPoZSf2AEcAO6TFXSipOj7kKGA30TZeKZX6Gk7qZGXU7nXpETAXerxAeBkxI1ycAw3PikyJidUQsBhYBAyV1B9pHxDORTKd7Y84xVXJSNzODGmX13FdvpsvoAs7QLSKWAqQ/u6bxnkDu66lK01jPdL1iPC/fKDUzgxq9ezQixgPj6+jUlZ048sTzckvdzIwGeZvd22mXCunPZWm8FOids18vYEka71VJPC8ndTMzaIisfi8wKl0fBdyTEx8hqaWkPiQ3RKelXTTLJQ1KR70clXNMldz9YmZG3T5RKmkisDfQRVIpcA5wATBZ0rHAG8BhABExR9JkYC5QBoyJiHVpUceTjKRpDUxJl7yc1M3MqNuHjyJiZBWbBlex/zhgXCXxGUD/mpzbSd3MjMzM5+WkbmYGfkmGmVmmZCSnO6mbmYG7X8zMsiUjWd1J3cwMvyTDzCxT3KduZpYhRU7qZmZZko2s7qRuZoa7X8zMMiUjOd1J3cwM3FI3M8sUTxNgZpYh2UjpTupmZoC7X8zMMsVPlJqZZUk2crqTupkZZCanO6mbmQEUZaRT3UndzIzs3CgtauwKmJlljaRTJM2RNFvSREmtJHWS9LCkhenPjjn7j5W0SNJ8SUM+z7md1M3MSFrqhS75y1FP4CRg14joDxQDI4AzgUcjoi/waPoZSf3S7TsAQ4ErJRXX9jqc1M3MSIY0FvqnACVAa0klQBtgCTAMmJBunwAMT9eHAZMiYnVELAYWAQNrex1O6mZm1F1LPSL+A1wMvAEsBT6MiIeAbhGxNN1nKdA1PaQn8GZOEaVprFac1M3MqFlSlzRa0oycZfSn5agjSeu7D9AD2FzSD/KdupJY1PY6PPrFzIyaPVEaEeOB8VVs/jawOCLeAZB0J7AH8Lak7hGxVFJ3YFm6fynQO+f4XiTdNbXilrqZGXXX/ULS7TJIUhslUz8OBuYB9wKj0n1GAfek6/cCIyS1lNQH6AtMq+11uKVuZkbdPVEaEc9Juh2YCZQBL5C06tsCkyUdS5L4D0v3nyNpMjA33X9MRKyr7fkVUeuum3r1zvKyplkxa1Rb7XVyY1fBmqCVL1z+uXPyirWFJ8M2mzXdR5XcUjczIzvTBDTZlrp9StLo9MaM2Qb+d2GV8Y3S5mF09bvYJsj/LuwznNTNzDLESd3MLEOc1JsH95taZfzvwj7DN0rNzDLELXUzswxxUjczyxAn9SZO0tD0bSiLJJ3Z2PWxxifpeknLJM1u7LpY0+Ok3oSlbz+5AvgO0A8Ymb4lxTZtN5C8IcfsM5zUm7aBwKKIeDUi1gCTSOZptk1YREwF3m/seljT5KTetNXpG1HMLPuc1Ju2On0jiplln5N601anb0Qxs+xzUm/apgN9JfWR1AIYQfKWFDOzSjmpN2ERUQacADxI8jqsyRExp3FrZY1N0kTgGeDLkkrTN+mYAZ4mwMwsU9xSNzPLECd1M7MMcVI3M8sQJ3UzswxxUjczyxAndUPSOkkvSpot6TZJbT5HWTdI+l66fm2+Ccgk7S1pj1qc4zVJXSqJt5V0taR/S5ojaaqk3dNtH9f0PGbNkZO6AayMiJ0joj+wBjgud2M6W2SNRcSPI2Junl32Bmqc1PO4lmSiq74RsQPwI+Azyd8sy5zUraIngG3TVvRjkm4FZkkqlvR7SdMlvSzppwBKXC5prqQHgK7lBUl6XNKu6fpQSTMlvSTpUUlbk3x5nJL+lvBNSVtKuiM9x3RJe6bHdpb0kKQXJF1NJXPiSPoSsDvw64hYD5DObvlAhf3apuefKWmWpGFpfHNJD6T1my3piDR+QXptL0u6OI1VVc9vpdfyYlrXdnX438WsMBHhZRNfgI/TnyXAPcDxJK3oT4A+6bbRJAkToCUwA+gDHAI8DBQDPYAPgO+l+z0O7ApsSTLbZHlZndKf5wK/yKnHrcA30vWtgHnp+mXA2en6gSSTmnWpcA0HA3cVeI3t0/UuwCKSL4lDgWty9t8C6ATM59OH9DpUU8/7gD3T9bZASWP/t/Wy6S0lNfwOsGxqLenFdP0J4DqSbpFpEbE4je8P7FjeX06S9PoCewETI2IdsETSPyspfxAwtbysiKhqLvBvA/2kDQ3x9mlrdy+SLw8i4gFJ/63dZQJJAv+dpL2A9SRTGXcDZgEXS7oQuD8inpBUAqwCrk1/C7m/mno+BVwi6Rbgzogo/Rz1NKsVJ3WDtE89N5AmrE9yQ8CJEfFghf0OoPrpgFXAPpB0B349IlZWUpfqjp8D7CSpKNLulyocSfKbw4CIWCvpNaBVRCyQNAA4APg/SQ9FxPmSBgKDSSZTOwHYt6p6Ahekyf8A4FlJ346IVwq4brM64z51K9SDwPGSNgOQtJ2kzYGpwIi0z707sE8lxz4DfEtSn/TYTml8OZDb7/wQSeIk3W/ndHUqSTJG0neAjhVPEBH/JukSOk/pt4CkvuV95jm2AJalCX0f4Ivpvj2AFRFxM3Ax8DVJbYEtIuLvwMlAeX0qraekL0XErIi4MK3L9pX8XZjVK7fUrVDXAlsDM9Ok+Q4wHLiLpPU6C1gA/KvigRHxjqTRwJ2SioBlwH4kfdC3p4n3ROAk4ApJL5P825xKcjP1PGCipJlp+W9UUccfA38AFklaAbwH/LLCPrcA90maAbwIlLekvwr8XtJ6YC3JfYV2wD2SWpH8tnFKum9V9Tw5/aJYB8wFplRRT7N641kazcwyxN0vZmYZ4qRuZpYhTupmZhnipG5mliFO6mZmGeKkbmaWIU7qZmYZ8v9A50+GddDyXgAAAABJRU5ErkJggg==",
>>>>>>> ee0bfc807b5ca98590dd9bcf5aa8fd14426c4574
      "text/plain": [
       "<Figure size 432x288 with 2 Axes>"
      ]
     },
     "metadata": {
      "needs_background": "light"
     },
     "output_type": "display_data"
    }
   ],
   "source": [
    "print(metrics)\n",
    "plot_confusion_matrix(metrics['confusion_matrix'])"
   ]
  },
  {
   "cell_type": "code",
<<<<<<< HEAD
   "execution_count": 312,
   "metadata": {},
   "outputs": [
    {
     "ename": "pycmVectorError",
     "evalue": "The type of input vectors is assumed to be a list or a NumPy array",
     "output_type": "error",
     "traceback": [
      "\u001b[1;31m---------------------------------------------------------------------------\u001b[0m",
      "\u001b[1;31mpycmVectorError\u001b[0m                           Traceback (most recent call last)",
      "\u001b[1;32m<ipython-input-312-dbb81d897013>\u001b[0m in \u001b[0;36m<module>\u001b[1;34m\u001b[0m\n\u001b[0;32m      1\u001b[0m \u001b[1;31m# metrike za treniranje\u001b[0m\u001b[1;33m\u001b[0m\u001b[1;33m\u001b[0m\u001b[1;33m\u001b[0m\u001b[0m\n\u001b[0;32m      2\u001b[0m \u001b[0my_pred_train\u001b[0m \u001b[1;33m=\u001b[0m \u001b[0mmodel\u001b[0m\u001b[1;33m.\u001b[0m\u001b[0mpredict\u001b[0m\u001b[1;33m(\u001b[0m\u001b[0mX_train\u001b[0m\u001b[1;33m)\u001b[0m\u001b[1;33m\u001b[0m\u001b[1;33m\u001b[0m\u001b[0m\n\u001b[1;32m----> 3\u001b[1;33m \u001b[0mmetrics_train\u001b[0m \u001b[1;33m=\u001b[0m \u001b[0mget_metrics\u001b[0m\u001b[1;33m(\u001b[0m\u001b[0my_train\u001b[0m\u001b[1;33m,\u001b[0m \u001b[0my_pred_train\u001b[0m\u001b[1;33m)\u001b[0m\u001b[1;33m\u001b[0m\u001b[1;33m\u001b[0m\u001b[0m\n\u001b[0m\u001b[0;32m      4\u001b[0m \u001b[0mplot_confusion_matrix\u001b[0m\u001b[1;33m(\u001b[0m\u001b[0mmetrics_train\u001b[0m\u001b[1;33m[\u001b[0m\u001b[1;34m'confusion_matrix'\u001b[0m\u001b[1;33m]\u001b[0m\u001b[1;33m)\u001b[0m\u001b[1;33m\u001b[0m\u001b[1;33m\u001b[0m\u001b[0m\n\u001b[0;32m      5\u001b[0m \u001b[0mprint\u001b[0m\u001b[1;33m(\u001b[0m\u001b[0mmetrics_train\u001b[0m\u001b[1;33m)\u001b[0m\u001b[1;33m\u001b[0m\u001b[1;33m\u001b[0m\u001b[0m\n",
      "\u001b[1;32m<ipython-input-301-3a91bde4ffed>\u001b[0m in \u001b[0;36mget_metrics\u001b[1;34m(y_true, y_pred)\u001b[0m\n\u001b[0;32m      8\u001b[0m         \u001b[1;34m'precision'\u001b[0m\u001b[1;33m:\u001b[0m \u001b[0mprecision_score\u001b[0m\u001b[1;33m(\u001b[0m\u001b[0my_true\u001b[0m\u001b[1;33m,\u001b[0m \u001b[0my_pred\u001b[0m\u001b[1;33m,\u001b[0m \u001b[0maverage\u001b[0m\u001b[1;33m=\u001b[0m\u001b[1;34m'macro'\u001b[0m\u001b[1;33m)\u001b[0m\u001b[1;33m,\u001b[0m\u001b[1;33m\u001b[0m\u001b[1;33m\u001b[0m\u001b[0m\n\u001b[0;32m      9\u001b[0m         \u001b[1;34m'recall'\u001b[0m\u001b[1;33m:\u001b[0m \u001b[0mrecall_score\u001b[0m\u001b[1;33m(\u001b[0m\u001b[0my_true\u001b[0m\u001b[1;33m,\u001b[0m \u001b[0my_pred\u001b[0m\u001b[1;33m,\u001b[0m \u001b[0maverage\u001b[0m\u001b[1;33m=\u001b[0m\u001b[1;34m'macro'\u001b[0m\u001b[1;33m)\u001b[0m\u001b[1;33m,\u001b[0m\u001b[1;33m\u001b[0m\u001b[1;33m\u001b[0m\u001b[0m\n\u001b[1;32m---> 10\u001b[1;33m         \u001b[1;34m'confusion_matrix'\u001b[0m\u001b[1;33m:\u001b[0m \u001b[0mConfusionMatrix\u001b[0m\u001b[1;33m(\u001b[0m\u001b[0my_true\u001b[0m\u001b[1;33m,\u001b[0m \u001b[0my_pred\u001b[0m\u001b[1;33m)\u001b[0m\u001b[1;33m\u001b[0m\u001b[1;33m\u001b[0m\u001b[0m\n\u001b[0m\u001b[0;32m     11\u001b[0m     }\n",
      "\u001b[1;32mc:\\Users\\Zephyrus\\anaconda3\\lib\\site-packages\\pycm\\pycm_obj.py\u001b[0m in \u001b[0;36m__init__\u001b[1;34m(self, actual_vector, predict_vector, matrix, digit, threshold, file, sample_weight, transpose, classes, is_imbalanced, metrics_off)\u001b[0m\n\u001b[0;32m     95\u001b[0m                 matrix, classes, self.transpose)\n\u001b[0;32m     96\u001b[0m         \u001b[1;32melse\u001b[0m\u001b[1;33m:\u001b[0m\u001b[1;33m\u001b[0m\u001b[1;33m\u001b[0m\u001b[0m\n\u001b[1;32m---> 97\u001b[1;33m             matrix_param = __obj_vector_handler__(\n\u001b[0m\u001b[0;32m     98\u001b[0m                 self, actual_vector, predict_vector, threshold, sample_weight, classes)\n\u001b[0;32m     99\u001b[0m         \u001b[0m__obj_assign_handler__\u001b[0m\u001b[1;33m(\u001b[0m\u001b[0mself\u001b[0m\u001b[1;33m,\u001b[0m \u001b[0mmatrix_param\u001b[0m\u001b[1;33m)\u001b[0m\u001b[1;33m\u001b[0m\u001b[1;33m\u001b[0m\u001b[0m\n",
      "\u001b[1;32mc:\\Users\\Zephyrus\\anaconda3\\lib\\site-packages\\pycm\\pycm_handler.py\u001b[0m in \u001b[0;36m__obj_vector_handler__\u001b[1;34m(cm, actual_vector, predict_vector, threshold, sample_weight, classes)\u001b[0m\n\u001b[0;32m    224\u001b[0m     \u001b[1;32mif\u001b[0m \u001b[1;32mnot\u001b[0m \u001b[0misinstance\u001b[0m\u001b[1;33m(\u001b[0m\u001b[0mactual_vector\u001b[0m\u001b[1;33m,\u001b[0m \u001b[1;33m(\u001b[0m\u001b[0mlist\u001b[0m\u001b[1;33m,\u001b[0m \u001b[0mnumpy\u001b[0m\u001b[1;33m.\u001b[0m\u001b[0mndarray\u001b[0m\u001b[1;33m)\u001b[0m\u001b[1;33m)\u001b[0m \u001b[1;32mor\u001b[0m \u001b[1;32mnot\u001b[0m\u001b[0;31m \u001b[0m\u001b[0;31m\\\u001b[0m\u001b[1;33m\u001b[0m\u001b[1;33m\u001b[0m\u001b[0m\n\u001b[0;32m    225\u001b[0m             \u001b[0misinstance\u001b[0m\u001b[1;33m(\u001b[0m\u001b[0mpredict_vector\u001b[0m\u001b[1;33m,\u001b[0m \u001b[1;33m(\u001b[0m\u001b[0mlist\u001b[0m\u001b[1;33m,\u001b[0m \u001b[0mnumpy\u001b[0m\u001b[1;33m.\u001b[0m\u001b[0mndarray\u001b[0m\u001b[1;33m)\u001b[0m\u001b[1;33m)\u001b[0m\u001b[1;33m:\u001b[0m\u001b[1;33m\u001b[0m\u001b[1;33m\u001b[0m\u001b[0m\n\u001b[1;32m--> 226\u001b[1;33m         \u001b[1;32mraise\u001b[0m \u001b[0mpycmVectorError\u001b[0m\u001b[1;33m(\u001b[0m\u001b[0mVECTOR_TYPE_ERROR\u001b[0m\u001b[1;33m)\u001b[0m\u001b[1;33m\u001b[0m\u001b[1;33m\u001b[0m\u001b[0m\n\u001b[0m\u001b[0;32m    227\u001b[0m     \u001b[1;32mif\u001b[0m \u001b[0mlen\u001b[0m\u001b[1;33m(\u001b[0m\u001b[0mactual_vector\u001b[0m\u001b[1;33m)\u001b[0m \u001b[1;33m!=\u001b[0m \u001b[0mlen\u001b[0m\u001b[1;33m(\u001b[0m\u001b[0mpredict_vector\u001b[0m\u001b[1;33m)\u001b[0m\u001b[1;33m:\u001b[0m\u001b[1;33m\u001b[0m\u001b[1;33m\u001b[0m\u001b[0m\n\u001b[0;32m    228\u001b[0m         \u001b[1;32mraise\u001b[0m \u001b[0mpycmVectorError\u001b[0m\u001b[1;33m(\u001b[0m\u001b[0mVECTOR_SIZE_ERROR\u001b[0m\u001b[1;33m)\u001b[0m\u001b[1;33m\u001b[0m\u001b[1;33m\u001b[0m\u001b[0m\n",
      "\u001b[1;31mpycmVectorError\u001b[0m: The type of input vectors is assumed to be a list or a NumPy array"
=======
   "execution_count": 61,
   "metadata": {},
   "outputs": [],
   "source": [
    "y_train = list(y_train)"
   ]
  },
  {
   "cell_type": "code",
   "execution_count": 62,
   "metadata": {},
   "outputs": [
    {
     "name": "stderr",
     "output_type": "stream",
     "text": [
      "c:\\Users\\Zephyrus\\anaconda3\\lib\\site-packages\\sklearn\\ensemble\\_forest.py:891: RuntimeWarning: invalid value encountered in true_divide\n",
      "  proba /= len(self.estimators_)\n"
     ]
    },
    {
     "ename": "AttributeError",
     "evalue": "'list' object has no attribute 'take'",
     "output_type": "error",
     "traceback": [
      "\u001b[1;31m---------------------------------------------------------------------------\u001b[0m",
      "\u001b[1;31mAttributeError\u001b[0m                            Traceback (most recent call last)",
      "\u001b[1;32m<ipython-input-62-dbb81d897013>\u001b[0m in \u001b[0;36m<module>\u001b[1;34m\u001b[0m\n\u001b[0;32m      1\u001b[0m \u001b[1;31m# metrike za treniranje\u001b[0m\u001b[1;33m\u001b[0m\u001b[1;33m\u001b[0m\u001b[1;33m\u001b[0m\u001b[0m\n\u001b[1;32m----> 2\u001b[1;33m \u001b[0my_pred_train\u001b[0m \u001b[1;33m=\u001b[0m \u001b[0mmodel\u001b[0m\u001b[1;33m.\u001b[0m\u001b[0mpredict\u001b[0m\u001b[1;33m(\u001b[0m\u001b[0mX_train\u001b[0m\u001b[1;33m)\u001b[0m\u001b[1;33m\u001b[0m\u001b[1;33m\u001b[0m\u001b[0m\n\u001b[0m\u001b[0;32m      3\u001b[0m \u001b[0mmetrics_train\u001b[0m \u001b[1;33m=\u001b[0m \u001b[0mget_metrics\u001b[0m\u001b[1;33m(\u001b[0m\u001b[0my_train\u001b[0m\u001b[1;33m,\u001b[0m \u001b[0my_pred_train\u001b[0m\u001b[1;33m)\u001b[0m\u001b[1;33m\u001b[0m\u001b[1;33m\u001b[0m\u001b[0m\n\u001b[0;32m      4\u001b[0m \u001b[0mplot_confusion_matrix\u001b[0m\u001b[1;33m(\u001b[0m\u001b[0mmetrics_train\u001b[0m\u001b[1;33m[\u001b[0m\u001b[1;34m'confusion_matrix'\u001b[0m\u001b[1;33m]\u001b[0m\u001b[1;33m)\u001b[0m\u001b[1;33m\u001b[0m\u001b[1;33m\u001b[0m\u001b[0m\n\u001b[0;32m      5\u001b[0m \u001b[0mprint\u001b[0m\u001b[1;33m(\u001b[0m\u001b[0mmetrics_train\u001b[0m\u001b[1;33m)\u001b[0m\u001b[1;33m\u001b[0m\u001b[1;33m\u001b[0m\u001b[0m\n",
      "\u001b[1;32mc:\\Users\\Zephyrus\\anaconda3\\lib\\site-packages\\sklearn\\ensemble\\_forest.py\u001b[0m in \u001b[0;36mpredict\u001b[1;34m(self, X)\u001b[0m\n\u001b[0;32m    833\u001b[0m \u001b[1;33m\u001b[0m\u001b[0m\n\u001b[0;32m    834\u001b[0m         \u001b[1;32mif\u001b[0m \u001b[0mself\u001b[0m\u001b[1;33m.\u001b[0m\u001b[0mn_outputs_\u001b[0m \u001b[1;33m==\u001b[0m \u001b[1;36m1\u001b[0m\u001b[1;33m:\u001b[0m\u001b[1;33m\u001b[0m\u001b[1;33m\u001b[0m\u001b[0m\n\u001b[1;32m--> 835\u001b[1;33m             \u001b[1;32mreturn\u001b[0m \u001b[0mself\u001b[0m\u001b[1;33m.\u001b[0m\u001b[0mclasses_\u001b[0m\u001b[1;33m.\u001b[0m\u001b[0mtake\u001b[0m\u001b[1;33m(\u001b[0m\u001b[0mnp\u001b[0m\u001b[1;33m.\u001b[0m\u001b[0margmax\u001b[0m\u001b[1;33m(\u001b[0m\u001b[0mproba\u001b[0m\u001b[1;33m,\u001b[0m \u001b[0maxis\u001b[0m\u001b[1;33m=\u001b[0m\u001b[1;36m1\u001b[0m\u001b[1;33m)\u001b[0m\u001b[1;33m,\u001b[0m \u001b[0maxis\u001b[0m\u001b[1;33m=\u001b[0m\u001b[1;36m0\u001b[0m\u001b[1;33m)\u001b[0m\u001b[1;33m\u001b[0m\u001b[1;33m\u001b[0m\u001b[0m\n\u001b[0m\u001b[0;32m    836\u001b[0m \u001b[1;33m\u001b[0m\u001b[0m\n\u001b[0;32m    837\u001b[0m         \u001b[1;32melse\u001b[0m\u001b[1;33m:\u001b[0m\u001b[1;33m\u001b[0m\u001b[1;33m\u001b[0m\u001b[0m\n",
      "\u001b[1;31mAttributeError\u001b[0m: 'list' object has no attribute 'take'"
>>>>>>> ee0bfc807b5ca98590dd9bcf5aa8fd14426c4574
     ]
    }
   ],
   "source": [
    "# metrike za treniranje\n",
    "y_pred_train = model.predict(X_train)\n",
    "metrics_train = get_metrics(y_train, y_pred_train)\n",
    "plot_confusion_matrix(metrics_train['confusion_matrix'])\n",
    "print(metrics_train)"
   ]
<<<<<<< HEAD
=======
  },
  {
   "cell_type": "code",
   "execution_count": null,
   "metadata": {},
   "outputs": [],
   "source": []
>>>>>>> ee0bfc807b5ca98590dd9bcf5aa8fd14426c4574
  }
 ],
 "metadata": {
  "kernelspec": {
   "display_name": "myenv",
   "language": "python",
   "name": "python3"
  },
  "language_info": {
   "codemirror_mode": {
    "name": "ipython",
    "version": 3
   },
   "file_extension": ".py",
   "mimetype": "text/x-python",
   "name": "python",
   "nbconvert_exporter": "python",
   "pygments_lexer": "ipython3",
   "version": "3.8.8"
  },
  "orig_nbformat": 4
 },
 "nbformat": 4,
 "nbformat_minor": 2
}
