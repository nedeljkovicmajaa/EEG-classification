{
 "cells": [
  {
   "cell_type": "code",
   "execution_count": 1,
   "metadata": {},
   "outputs": [],
   "source": [
    "import configparser\n",
    "import numpy as np\n",
    "import time\n",
    "import xgboost as xgb\n",
    "import pandas as pd\n",
    "\n",
    "from sklearn.linear_model import LogisticRegression\n",
    "from sklearn.neighbors import KNeighborsClassifier\n",
    "from sklearn.svm import SVC\n",
    "from sklearn.ensemble import RandomForestClassifier\n",
    "from sklearn.naive_bayes import GaussianNB\n",
    "from sklearn.model_selection import train_test_split\n",
    "from sklearn.metrics import accuracy_score, f1_score, precision_score, recall_score, confusion_matrix\n",
    "from sklearn.preprocessing import StandardScaler, MinMaxScaler\n",
    "from sklearn.model_selection import GridSearchCV\n",
    "from pycm import ConfusionMatrix\n",
    "\n",
    "from data_loader import DataLoader\n",
    "from feature_selector import BaselineSelector, AnalysisSelector\n",
    "from utils import balanced_split, parse_config_features, shape_wrapper, plot_confusion_matrix\n",
    "from imblearn.over_sampling import RandomOverSampler, SMOTE\n",
    "from sklearn.decomposition import PCA\n",
    "from matplotlib import pyplot as plt"
   ]
  },
  {
   "cell_type": "code",
   "execution_count": 2,
   "metadata": {},
   "outputs": [],
   "source": [
    "seed = 100\n",
    "\n",
    "def get_model(config: configparser.ConfigParser):\n",
    "    \"\"\"\n",
    "    Returns model by name\n",
    "    \"\"\"\n",
    "    hyperparams = config['Model']\n",
    "    name = hyperparams['model_name']\n",
    "    print(name)\n",
    "    random_state = None if hyperparams['random_state'] == 'None' else int(hyperparams['random_state'])\n",
    "\n",
    "    if name == 'logistic_regression':\n",
    "        return LogisticRegression(random_state=random_state)\n",
    "    \n",
    "    elif name == 'knn':\n",
    "        n_neighbors = int(hyperparams['n_neighbors'])\n",
    "        return KNeighborsClassifier(n_neighbors=n_neighbors)\n",
    "    \n",
    "    elif name == 'svm':\n",
    "        return SVC(random_state=random_state)\n",
    "    \n",
    "    elif name == 'random_forest':\n",
    "        n_estimators = int(hyperparams['n_estimators'])\n",
    "        max_depth = int(hyperparams['max_depth'])\n",
    "        return RandomForestClassifier(n_estimators=n_estimators, max_depth=max_depth, random_state=random_state)\n",
    "    \n",
    "    elif name == 'xgboost':\n",
    "        #n_estimators = int(hyperparams['n_estimators'])\n",
    "        #max_depth = int(hyperparams['max_depth'])\n",
    "        #eta = float(hyperparams['eta'])\n",
    "        return xgb.XGBClassifier(learning_rate = 0.1, n_estimators=100, objective='multi:softmax', num_class=3, max_depth=8, gamma = 0.1,  random_state=random_state)\n",
    "    \n",
    "    elif name == 'naive_bayes':\n",
    "        return GaussianNB()\n",
    "    \n",
    "    else:\n",
    "        raise ValueError(f'Unknown model name: {name}')"
   ]
  },
  {
   "cell_type": "code",
   "execution_count": 3,
   "metadata": {},
   "outputs": [],
   "source": [
    "def get_metrics(y_true, y_pred):\n",
    "    \"\"\"\n",
    "    Returns metrics for classification\n",
    "    \"\"\"\n",
    "    return {\n",
    "        'accuracy': accuracy_score(y_true, y_pred),\n",
    "        'f1': f1_score(y_true, y_pred, average='macro'),\n",
    "        'precision': precision_score(y_true, y_pred, average='macro'),\n",
    "        'recall': recall_score(y_true, y_pred, average='macro'),\n",
    "        'confusion_matrix': ConfusionMatrix(y_true, y_pred)\n",
    "    }"
   ]
  },
  {
   "cell_type": "code",
   "execution_count": 4,
   "metadata": {},
   "outputs": [],
   "source": [
    "def train_model(config: configparser.ConfigParser):\n",
    "    \"\"\"\n",
    "    Trains model and returns metrics\n",
    "    \"\"\"\n",
    "    X = pd.read_csv(config['Data']['features_path'])\n",
    "\n",
    "    y = np.loadtxt(config['Data']['labels_path'], dtype=np.int32)"
   ]
  },
  {
   "cell_type": "code",
   "execution_count": 6,
   "metadata": {},
   "outputs": [
    {
     "data": {
      "text/plain": [
       "'knn'"
      ]
     },
     "execution_count": 6,
     "metadata": {},
     "output_type": "execute_result"
    }
   ],
   "source": [
    "config_path = './config.ini'\n",
    "config = configparser.ConfigParser()\n",
    "config.read(config_path)\n",
    "config['Model']['model_name']"
   ]
  },
  {
   "cell_type": "code",
   "execution_count": 7,
   "metadata": {},
   "outputs": [],
   "source": [
    "X = pd.read_csv(config['Data']['features_path'])\n",
    "\n",
    "y = np.load(config['Data']['labels_path'])\n",
    "par_ids = np.load(config['Data']['par_ids_path'])\n",
    "X['par_ids'] = par_ids"
   ]
  },
  {
   "cell_type": "code",
   "execution_count": 8,
   "metadata": {},
   "outputs": [],
   "source": [
    "n_folds = int(config['Train']['n_folds'])\n",
    "num_test_part = int(config['Train']['num_test_part'])\n"
   ]
  },
  {
   "cell_type": "code",
   "execution_count": 9,
   "metadata": {},
   "outputs": [
    {
     "data": {
      "text/plain": [
       "[<matplotlib.lines.Line2D at 0x200ce18f9a0>]"
      ]
     },
     "execution_count": 9,
     "metadata": {},
     "output_type": "execute_result"
    },
    {
     "data": {
      "image/png": "[encoded data removed]",
      "text/plain": [
       "<Figure size 432x288 with 1 Axes>"
      ]
     },
     "metadata": {
      "needs_background": "light"
     },
     "output_type": "display_data"
    }
   ],
   "source": [
    "scaler = StandardScaler()\n",
    "X_scaled = scaler.fit_transform(X)\n",
    "pca = PCA()\n",
    "pca.fit(X_scaled)\n",
    "cumulative = np.cumsum(pca.explained_variance_ratio_)\n",
    "plt.plot(cumulative)"
   ]
  },
  {
   "cell_type": "code",
   "execution_count": 10,
   "metadata": {},
   "outputs": [
    {
     "name": "stdout",
     "output_type": "stream",
     "text": [
      "knn\n",
      "starting training\n",
      "finished training\n",
      "{'accuracy': 0.3225892737729036, 'f1': 0.2859451344656387, 'precision': 0.4149138268006554, 'recall': 0.3511746016647617, 'confusion_matrix': pycm.ConfusionMatrix(classes: [0, 1, 2])}\n"
     ]
    }
   ],
   "source": [
    "dataset_path = config['Data']['dataset_path']\n",
    "for k in range(n_folds):\n",
    "    model_names = ['knn']\n",
    "    for model_name in model_names:\n",
    "        \n",
    "        config.set('Model', 'model_name', model_name)\n",
    "\n",
    "        train_ids, test_ids = balanced_split(dataset_path, num_test_part, seed = seed)\n",
    "\n",
    "        X_train = X[X['par_ids'].isin(train_ids)]\n",
    "        X_test = X[X['par_ids'].isin(test_ids)]\n",
    "\n",
    "        y_train = y[np.isin(par_ids, train_ids)]\n",
    "        y_test = y[np.isin(par_ids, test_ids)]\n",
    "\n",
    "        #X_train, X_test, y_train, y_test = train_test_split(X, y, test_size=0.1, random_state=seed)\n",
    "\n",
    "        X_train = X_train.drop(['par_ids'], axis=1)\n",
    "        X_test = X_test.drop(['par_ids'], axis=1)\n",
    "\n",
    "        scaler = StandardScaler()\n",
    "        X_train = scaler.fit_transform(X_train)\n",
    "        X_test = scaler.transform(X_test)\n",
    "\n",
    "        #pca = PCA(n_components=100)\n",
    "        #X_train = pca.fit_transform(X_train)\n",
    "        #X_test = pca.transform(X_test)\n",
    "        \n",
    "        # oversample\n",
    "        oversample = SMOTE()\n",
    "        X_train, y_train = oversample.fit_resample(X_train, y_train)\n",
    "\n",
    "        model = get_model(config)\n",
    "\n",
    "        print('starting training')\n",
    "        # train and evaluate model\n",
    "        model.fit(X_train, y_train)\n",
    "        y_pred = model.predict(X_test)\n",
    "        print('finished training')\n",
    "        metrics = get_metrics(y_test, y_pred)\n",
    "        print(metrics)"
   ]
  },
  {
   "cell_type": "code",
   "execution_count": 11,
   "metadata": {},
   "outputs": [
    {
     "data": {
      "image/png": "[encoded data removed]",
      "text/plain": [
       "<Figure size 432x288 with 2 Axes>"
      ]
     },
     "metadata": {
      "needs_background": "light"
     },
     "output_type": "display_data"
    },
    {
     "name": "stdout",
     "output_type": "stream",
     "text": [
      "{'accuracy': 0.3225892737729036, 'f1': 0.2859451344656387, 'precision': 0.4149138268006554, 'recall': 0.3511746016647617, 'confusion_matrix': pycm.ConfusionMatrix(classes: [0, 1, 2])}\n"
     ]
    }
   ],
   "source": [
    "plot_confusion_matrix(metrics['confusion_matrix'])\n",
    "y_pred_train = model.predict(X_train)\n",
    "metrics_train = get_metrics(y_test, y_pred)\n",
    "print(metrics_train)"
   ]
  },
  {
   "cell_type": "code",
   "execution_count": null,
   "metadata": {},
   "outputs": [],
   "source": []
  }
 ],
 "metadata": {
  "kernelspec": {
   "display_name": "myenv",
   "language": "python",
   "name": "python3"
  },
  "language_info": {
   "codemirror_mode": {
    "name": "ipython",
    "version": 3
   },
   "file_extension": ".py",
   "mimetype": "text/x-python",
   "name": "python",
   "nbconvert_exporter": "python",
   "pygments_lexer": "ipython3",
   "version": "3.8.8"
  },
  "orig_nbformat": 4
 },
 "nbformat": 4,
 "nbformat_minor": 2
}
