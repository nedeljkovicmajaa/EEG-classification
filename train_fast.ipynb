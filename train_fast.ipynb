{
 "cells": [
  {
   "cell_type": "code",
   "execution_count": 348,
   "metadata": {},
   "outputs": [],
   "source": [
    "import configparser\n",
    "import numpy as np\n",
    "import time\n",
    "import xgboost as xgb\n",
    "import pandas as pd\n",
    "\n",
    "from sklearn.linear_model import LogisticRegression\n",
    "from sklearn.neighbors import KNeighborsClassifier\n",
    "from sklearn.svm import SVC\n",
    "from sklearn.ensemble import RandomForestClassifier\n",
    "from sklearn.naive_bayes import GaussianNB\n",
    "from sklearn.model_selection import train_test_split\n",
    "from sklearn.metrics import accuracy_score, f1_score, precision_score, recall_score, confusion_matrix\n",
    "from sklearn.preprocessing import StandardScaler, MinMaxScaler\n",
    "from sklearn.model_selection import GridSearchCV\n",
    "from pycm import ConfusionMatrix\n",
    "\n",
    "from data_loader import DataLoader\n",
    "from feature_selector import BaselineSelector, AnalysisSelector\n",
    "from utils import balanced_split, parse_config_features, shape_wrapper, plot_confusion_matrix\n",
    "from imblearn.over_sampling import RandomOverSampler, SMOTE\n",
    "from sklearn.decomposition import PCA\n",
    "from matplotlib import pyplot as plt"
   ]
  },
  {
   "cell_type": "code",
   "execution_count": 349,
   "metadata": {},
   "outputs": [],
   "source": [
    "seed = 150\n",
    "\n",
    "def get_model(config: configparser.ConfigParser):\n",
    "    \"\"\"\n",
    "    Returns model by name\n",
    "    \"\"\"\n",
    "    hyperparams = config['Model']\n",
    "    name = hyperparams['model_name']\n",
    "    print(name)\n",
    "    random_state = None if hyperparams['random_state'] == 'None' else int(hyperparams['random_state'])\n",
    "\n",
    "    if name == 'logistic_regression':\n",
    "        return LogisticRegression(random_state=random_state)\n",
    "    \n",
    "    elif name == 'knn':\n",
    "        n_neighbors = int(hyperparams['n_neighbors'])\n",
    "        return KNeighborsClassifier(n_neighbors=n_neighbors)\n",
    "    \n",
    "    elif name == 'svm':\n",
    "        return SVC(random_state=random_state)\n",
    "    \n",
    "    elif name == 'random_forest':\n",
    "        n_estimators = int(hyperparams['n_estimators'])\n",
    "        max_depth = int(hyperparams['max_depth'])\n",
    "        return RandomForestClassifier(max_depth=4)\n",
    "    \n",
    "    elif name == 'xgboost':\n",
    "        return xgb.XGBClassifier(learning_rate = 0.1, n_estimators=100, objective='multi:softmax', num_class=3, max_depth=7, min_child_weight=3, random_state=random_state)\n",
    "    \n",
    "    elif name == 'naive_bayes':\n",
    "        return GaussianNB()\n",
    "    \n",
    "    else:\n",
    "        raise ValueError(f'Unknown model name: {name}')"
   ]
  },
  {
   "cell_type": "code",
   "execution_count": 350,
   "metadata": {},
   "outputs": [],
   "source": [
    "def get_metrics(y_true, y_pred):\n",
    "    \"\"\"\n",
    "    Returns metrics for classification\n",
    "    \"\"\"\n",
    "    return {\n",
    "        'accuracy': accuracy_score(y_true, y_pred),\n",
    "        'f1': f1_score(y_true, y_pred, average='macro'),\n",
    "        'precision': precision_score(y_true, y_pred, average='macro'),\n",
    "        'recall': recall_score(y_true, y_pred, average='macro'),\n",
    "        'confusion_matrix': ConfusionMatrix(y_true, y_pred)\n",
    "    }"
   ]
  },
  {
   "cell_type": "code",
   "execution_count": 351,
   "metadata": {},
   "outputs": [],
   "source": [
    "def train_model(config: configparser.ConfigParser):\n",
    "    \"\"\"\n",
    "    Trains model and returns metrics\n",
    "    \"\"\"\n",
    "    X = pd.read_csv(config['Data']['features_path'])\n",
    "\n",
    "    y = np.loadtxt(config['Data']['labels_path'], dtype=np.int32)"
   ]
  },
  {
   "cell_type": "code",
   "execution_count": 352,
   "metadata": {},
   "outputs": [
    {
     "data": {
      "text/plain": [
       "'random_forest'"
      ]
     },
     "execution_count": 352,
     "metadata": {},
     "output_type": "execute_result"
    }
   ],
   "source": [
    "config_path = './config.ini'\n",
    "config = configparser.ConfigParser()\n",
    "config.read(config_path)\n",
    "config['Model']['model_name']"
   ]
  },
  {
   "cell_type": "code",
   "execution_count": 353,
   "metadata": {},
   "outputs": [],
   "source": [
    "X = pd.read_csv(config['Data']['features_path'])\n",
    "\n",
    "y = np.load(config['Data']['labels_path'])\n",
    "par_ids = np.load(config['Data']['par_ids_path'])\n",
    "X['par_ids'] = par_ids\n",
    "X.drop('Unnamed: 0', axis=1, inplace=True)"
   ]
  },
  {
   "cell_type": "code",
   "execution_count": 354,
   "metadata": {},
   "outputs": [
    {
     "name": "stdout",
     "output_type": "stream",
     "text": [
      "5\n"
     ]
    }
   ],
   "source": [
    "n_folds = int(config['Train']['n_folds'])\n",
    "num_test_part = int(config['Train']['num_test_part'])\n",
    "model_name = config['Model']['model_name']\n",
    "print(num_test_part)"
   ]
  },
  {
   "cell_type": "code",
   "execution_count": 355,
   "metadata": {},
   "outputs": [
    {
     "data": {
      "text/plain": [
       "[<matplotlib.lines.Line2D at 0x143415a30>]"
      ]
     },
     "execution_count": 355,
     "metadata": {},
     "output_type": "execute_result"
    },
    {
     "data": {
      "image/png": "[encoded data removed]",
      "text/plain": [
       "<Figure size 640x480 with 1 Axes>"
      ]
     },
     "metadata": {},
     "output_type": "display_data"
    }
   ],
   "source": [
    "scaler = StandardScaler()\n",
    "X_scaled = scaler.fit_transform(X)\n",
    "pca = PCA()\n",
    "pca.fit(X_scaled)\n",
    "cumulative = np.cumsum(pca.explained_variance_ratio_)\n",
    "plt.plot(cumulative)"
   ]
  },
  {
   "cell_type": "code",
   "execution_count": 356,
   "metadata": {},
   "outputs": [],
   "source": [
    "X.drop('Unnamed: 0', axis = 1, inplace = True)"
   ]
  },
  {
   "cell_type": "code",
   "execution_count": 357,
   "metadata": {},
   "outputs": [
    {
     "data": {
      "text/plain": [
       "\"dataset_path = config['Data']['dataset_path']\\nmodel_name = config['Model']['model_name']\\n\\nfor k in range(n_folds):\\n    config.set('Model', 'model_name', model_name)\\n\\n    if n_folds > 1: seed = None\\n    train_ids, test_ids = balanced_split(dataset_path, num_test_part = num_test_part, seed = seed)\\n\\n    X_train = X[X['par_ids'].isin(train_ids)]\\n    X_test = X[X['par_ids'].isin(test_ids)]\\n\\n    y_train = y[np.isin(par_ids, train_ids)]\\n    y_test = y[np.isin(par_ids, test_ids)]\\n\\n    #X_train, X_test, y_train, y_test = train_test_split(X, y, test_size=0.1, random_state=seed)\\n\\n    X_train = X_train.drop(['par_ids'], axis=1)\\n    X_test = X_test.drop(['par_ids'], axis=1)\\n\\n    scaler = StandardScaler()\\n    X_train = scaler.fit_transform(X_train)\\n    X_test = scaler.transform(X_test)\\n\\n    #pca = PCA(n_components=100)\\n    #X_train = pca.fit_transform(X_train)\\n    #X_test = pca.transform(X_test)\\n    \\n    # oversample\\n    #oversample = SMOTE()\\n    #X_train, y_train = oversample.fit_resample(X_train, y_train)\\n\\n    model = get_model(config)\\n\\n    print('starting training')\\n    # train and evaluate model\\n    model.fit(X_train, y_train)\\n    y_pred = model.predict(X_test)\\n    print('finished training')\\n    metrics = get_metrics(y_test, y_pred)\\n    print(metrics)\""
      ]
     },
     "execution_count": 357,
     "metadata": {},
     "output_type": "execute_result"
    }
   ],
   "source": [
    "'''dataset_path = config['Data']['dataset_path']\n",
    "model_name = config['Model']['model_name']\n",
    "\n",
    "for k in range(n_folds):\n",
    "    config.set('Model', 'model_name', model_name)\n",
    "\n",
    "    if n_folds > 1: seed = None\n",
    "    train_ids, test_ids = balanced_split(dataset_path, num_test_part = num_test_part, seed = seed)\n",
    "\n",
    "    X_train = X[X['par_ids'].isin(train_ids)]\n",
    "    X_test = X[X['par_ids'].isin(test_ids)]\n",
    "\n",
    "    y_train = y[np.isin(par_ids, train_ids)]\n",
    "    y_test = y[np.isin(par_ids, test_ids)]\n",
    "\n",
    "    #X_train, X_test, y_train, y_test = train_test_split(X, y, test_size=0.1, random_state=seed)\n",
    "\n",
    "    X_train = X_train.drop(['par_ids'], axis=1)\n",
    "    X_test = X_test.drop(['par_ids'], axis=1)\n",
    "\n",
    "    scaler = StandardScaler()\n",
    "    X_train = scaler.fit_transform(X_train)\n",
    "    X_test = scaler.transform(X_test)\n",
    "\n",
    "    #pca = PCA(n_components=100)\n",
    "    #X_train = pca.fit_transform(X_train)\n",
    "    #X_test = pca.transform(X_test)\n",
    "    \n",
    "    # oversample\n",
    "    #oversample = SMOTE()\n",
    "    #X_train, y_train = oversample.fit_resample(X_train, y_train)\n",
    "\n",
    "    model = get_model(config)\n",
    "\n",
    "    print('starting training')\n",
    "    # train and evaluate model\n",
    "    model.fit(X_train, y_train)\n",
    "    y_pred = model.predict(X_test)\n",
    "    print('finished training')\n",
    "    metrics = get_metrics(y_test, y_pred)\n",
    "    print(metrics)'''"
   ]
  },
  {
   "attachments": {},
   "cell_type": "markdown",
   "metadata": {},
   "source": [
    "### Variranje PCA komponenti da vidimo optimalan broj"
   ]
  },
  {
   "cell_type": "code",
   "execution_count": 358,
   "metadata": {},
   "outputs": [
    {
     "name": "stdout",
     "output_type": "stream",
     "text": [
      "Model Name\n",
      "random_forest\n",
      "--------------------\n",
      "PCA components: 50\n",
      "Fold: 1 {'accuracy': 0.5319291956083352, 'f1': 0.484348030338549, 'precision': 0.5954304067668122, 'recall': 0.5126319885478826, 'confusion_matrix': pycm.ConfusionMatrix(classes: [0, 1, 2])}\n",
      "Fold: 2 {'accuracy': 0.4734863474475663, 'f1': 0.38854428171762034, 'precision': 0.33784969871288273, 'recall': 0.482058852252738, 'confusion_matrix': pycm.ConfusionMatrix(classes: [0, 1, 2])}\n",
      "Fold: 3 {'accuracy': 0.4526140387419288, 'f1': 0.38078255417761264, 'precision': 0.4498301940588663, 'recall': 0.44258677894713877, 'confusion_matrix': pycm.ConfusionMatrix(classes: [0, 1, 2])}\n",
      "Fold: 4 {'accuracy': 0.5272842639593909, 'f1': 0.4775752974982464, 'precision': 0.6348260638791445, 'recall': 0.516203415416113, 'confusion_matrix': pycm.ConfusionMatrix(classes: [0, 1, 2])}\n",
      "Fold: 5 {'accuracy': 0.45089845382365235, 'f1': 0.3558890123639716, 'precision': 0.34734163998329387, 'recall': 0.4361160212733283, 'confusion_matrix': pycm.ConfusionMatrix(classes: [0, 1, 2])}\n",
      "Fold: 6 {'accuracy': 0.4506984387838948, 'f1': 0.4002447304099084, 'precision': 0.48621282152981976, 'recall': 0.43346915695143373, 'confusion_matrix': pycm.ConfusionMatrix(classes: [0, 1, 2])}\n",
      "Fold: 7 {'accuracy': 0.4377762270295418, 'f1': 0.38081021847752233, 'precision': 0.4628707350354195, 'recall': 0.43828465160057295, 'confusion_matrix': pycm.ConfusionMatrix(classes: [0, 1, 2])}\n",
      "Fold: 8 {'accuracy': 0.45359092818143637, 'f1': 0.36178928161149365, 'precision': 0.37398867103804706, 'recall': 0.42057944462707386, 'confusion_matrix': pycm.ConfusionMatrix(classes: [0, 1, 2])}\n",
      "Fold: 9 {'accuracy': 0.3928138877674606, 'f1': 0.3115197376652203, 'precision': 0.2926754044079663, 'recall': 0.3876776448964258, 'confusion_matrix': pycm.ConfusionMatrix(classes: [0, 1, 2])}\n",
      "Fold: 10 {'accuracy': 0.4328325713041585, 'f1': 0.3494151115451736, 'precision': 0.4173060278468566, 'recall': 0.42550499845446277, 'confusion_matrix': pycm.ConfusionMatrix(classes: [0, 1, 2])}\n",
      "Fold: 11 {'accuracy': 0.39683647359851126, 'f1': 0.3152590444730146, 'precision': 0.32617934892528333, 'recall': 0.37954502577861166, 'confusion_matrix': pycm.ConfusionMatrix(classes: [0, 1, 2])}\n",
      "Fold: 12 {'accuracy': 0.4668817204301075, 'f1': 0.3979237351209264, 'precision': 0.5722879839789589, 'recall': 0.44069161485014, 'confusion_matrix': pycm.ConfusionMatrix(classes: [0, 1, 2])}\n",
      "Fold: 13 {'accuracy': 0.5745716099005712, 'f1': 0.46993206708791174, 'precision': 0.6410748279648736, 'recall': 0.5555614192527417, 'confusion_matrix': pycm.ConfusionMatrix(classes: [0, 1, 2])}\n",
      "Fold: 14 {'accuracy': 0.4333038869257951, 'f1': 0.38874506460878483, 'precision': 0.5268539547469725, 'recall': 0.429279455445565, 'confusion_matrix': pycm.ConfusionMatrix(classes: [0, 1, 2])}\n",
      "Fold: 15 {'accuracy': 0.549028172089976, 'f1': 0.4930145782505713, 'precision': 0.6103261759999282, 'recall': 0.5136760080406805, 'confusion_matrix': pycm.ConfusionMatrix(classes: [0, 1, 2])}\n",
      "Fold: 16 {'accuracy': 0.3817334953422438, 'f1': 0.3319490852376637, 'precision': 0.35258749938287687, 'recall': 0.3632516277518743, 'confusion_matrix': pycm.ConfusionMatrix(classes: [0, 1, 2])}\n",
      "Fold: 17 {'accuracy': 0.5607929515418503, 'f1': 0.5012206053908025, 'precision': 0.6381958474582725, 'recall': 0.5297024229335119, 'confusion_matrix': pycm.ConfusionMatrix(classes: [0, 1, 2])}\n",
      "Fold: 18 {'accuracy': 0.4547583563977007, 'f1': 0.3752544285437817, 'precision': 0.5554656544578194, 'recall': 0.4408666288988097, 'confusion_matrix': pycm.ConfusionMatrix(classes: [0, 1, 2])}\n",
      "Fold: 19 {'accuracy': 0.4579995892380366, 'f1': 0.3735225488343355, 'precision': 0.43457566627876704, 'recall': 0.43651804425520596, 'confusion_matrix': pycm.ConfusionMatrix(classes: [0, 1, 2])}\n",
      "Fold: 20 {'accuracy': 0.5610888373074489, 'f1': 0.45308263995032944, 'precision': 0.4465229659268115, 'recall': 0.5254125965473436, 'confusion_matrix': pycm.ConfusionMatrix(classes: [0, 1, 2])}\n",
      "Fold: 21 {'accuracy': 0.42953687139733654, 'f1': 0.3687758795221126, 'precision': 0.5533822325391285, 'recall': 0.4233801724359049, 'confusion_matrix': pycm.ConfusionMatrix(classes: [0, 1, 2])}\n",
      "Fold: 22 {'accuracy': 0.44778578784757983, 'f1': 0.41995770735897126, 'precision': 0.5258131459816276, 'recall': 0.43353288884078567, 'confusion_matrix': pycm.ConfusionMatrix(classes: [0, 1, 2])}\n",
      "Fold: 23 {'accuracy': 0.49222379317309634, 'f1': 0.42143208160129864, 'precision': 0.511079571095374, 'recall': 0.4709051571381882, 'confusion_matrix': pycm.ConfusionMatrix(classes: [0, 1, 2])}\n",
      "Fold: 24 {'accuracy': 0.4819177516015706, 'f1': 0.39372911970497665, 'precision': 0.36923941606936944, 'recall': 0.4770884791039467, 'confusion_matrix': pycm.ConfusionMatrix(classes: [0, 1, 2])}\n",
      "Fold: 25 {'accuracy': 0.4210191082802548, 'f1': 0.3321845237795094, 'precision': 0.3345167397541446, 'recall': 0.4057782330336703, 'confusion_matrix': pycm.ConfusionMatrix(classes: [0, 1, 2])}\n",
      "Fold: 26 {'accuracy': 0.3905912818299525, 'f1': 0.3469929717062661, 'precision': 0.5298236238944503, 'recall': 0.3879805925151018, 'confusion_matrix': pycm.ConfusionMatrix(classes: [0, 1, 2])}\n",
      "Fold: 27 {'accuracy': 0.4734155678434709, 'f1': 0.402807106824384, 'precision': 0.512874395223149, 'recall': 0.4597768440917001, 'confusion_matrix': pycm.ConfusionMatrix(classes: [0, 1, 2])}\n",
      "Fold: 28 {'accuracy': 0.5113682501015022, 'f1': 0.4109480795626026, 'precision': 0.4110549493679265, 'recall': 0.49837958737777704, 'confusion_matrix': pycm.ConfusionMatrix(classes: [0, 1, 2])}\n",
      "Fold: 29 {'accuracy': 0.5099020674646355, 'f1': 0.4692302081992883, 'precision': 0.5659123941754016, 'recall': 0.4908778423616918, 'confusion_matrix': pycm.ConfusionMatrix(classes: [0, 1, 2])}\n",
      "Fold: 30 {'accuracy': 0.569362261669954, 'f1': 0.5061024512179735, 'precision': 0.6865854146798647, 'recall': 0.560472548566695, 'confusion_matrix': pycm.ConfusionMatrix(classes: [0, 1, 2])}\n",
      "Fold: 31 {'accuracy': 0.5947426067907996, 'f1': 0.5006745610981387, 'precision': 0.637824617682656, 'recall': 0.5569267226440302, 'confusion_matrix': pycm.ConfusionMatrix(classes: [0, 1, 2])}\n",
      "Fold: 32 {'accuracy': 0.48533218291630714, 'f1': 0.3894144211724116, 'precision': 0.45074183045616145, 'recall': 0.4640640571159424, 'confusion_matrix': pycm.ConfusionMatrix(classes: [0, 1, 2])}\n",
      "Fold: 33 {'accuracy': 0.5555798687089716, 'f1': 0.47517139875822584, 'precision': 0.6357124911370794, 'recall': 0.5277602908002567, 'confusion_matrix': pycm.ConfusionMatrix(classes: [0, 1, 2])}\n",
      "Fold: 34 {'accuracy': 0.46804909013965296, 'f1': 0.3634346879347479, 'precision': 0.40712999367533825, 'recall': 0.4292629343247289, 'confusion_matrix': pycm.ConfusionMatrix(classes: [0, 1, 2])}\n",
      "Fold: 35 {'accuracy': 0.49653344208809136, 'f1': 0.3949702080792943, 'precision': 0.3661563310501104, 'recall': 0.4572737383866779, 'confusion_matrix': pycm.ConfusionMatrix(classes: [0, 1, 2])}\n",
      "Fold: 36 {'accuracy': 0.4136411332633788, 'f1': 0.33144831877274245, 'precision': 0.4748185114388596, 'recall': 0.4000174812670338, 'confusion_matrix': pycm.ConfusionMatrix(classes: [0, 1, 2])}\n",
      "Fold: 37 {'accuracy': 0.3888888888888889, 'f1': 0.31484609399949565, 'precision': 0.4006083876809224, 'recall': 0.39350786733123866, 'confusion_matrix': pycm.ConfusionMatrix(classes: [0, 1, 2])}\n",
      "Fold: 38 {'accuracy': 0.40783968288923145, 'f1': 0.3179899783743377, 'precision': 0.4133641335198182, 'recall': 0.3977199855540466, 'confusion_matrix': pycm.ConfusionMatrix(classes: [0, 1, 2])}\n",
      "Fold: 39 {'accuracy': 0.5312564050010248, 'f1': 0.47391401037536635, 'precision': 0.6370243038984106, 'recall': 0.5162305511843127, 'confusion_matrix': pycm.ConfusionMatrix(classes: [0, 1, 2])}\n",
      "Fold: 40 {'accuracy': 0.5787368421052631, 'f1': 0.5581383452876522, 'precision': 0.6531665498011682, 'recall': 0.5708206863498343, 'confusion_matrix': pycm.ConfusionMatrix(classes: [0, 1, 2])}\n",
      "Fold: 41 {'accuracy': 0.4828513786146604, 'f1': 0.4635160486498307, 'precision': 0.5446490244241342, 'recall': 0.46964958972578086, 'confusion_matrix': pycm.ConfusionMatrix(classes: [0, 1, 2])}\n",
      "Fold: 42 {'accuracy': 0.5274183610597659, 'f1': 0.4319562540857636, 'precision': 0.5169864783873467, 'recall': 0.5095549870699355, 'confusion_matrix': pycm.ConfusionMatrix(classes: [0, 1, 2])}\n",
      "Fold: 43 {'accuracy': 0.4954631778856299, 'f1': 0.4018840013773423, 'precision': 0.4272604840209196, 'recall': 0.48353085425707937, 'confusion_matrix': pycm.ConfusionMatrix(classes: [0, 1, 2])}\n",
      "Fold: 44 {'accuracy': 0.41327268968368824, 'f1': 0.3347492782085051, 'precision': 0.30070653875347597, 'recall': 0.3994809197393558, 'confusion_matrix': pycm.ConfusionMatrix(classes: [0, 1, 2])}\n",
      "Fold: 45 {'accuracy': 0.5245149175881494, 'f1': 0.42210920303535776, 'precision': 0.4505861992424501, 'recall': 0.48621566080327105, 'confusion_matrix': pycm.ConfusionMatrix(classes: [0, 1, 2])}\n",
      "Fold: 46 {'accuracy': 0.4626547161758429, 'f1': 0.3661905968276247, 'precision': 0.5351297306654352, 'recall': 0.441544140013518, 'confusion_matrix': pycm.ConfusionMatrix(classes: [0, 1, 2])}\n",
      "Fold: 47 {'accuracy': 0.4980769230769231, 'f1': 0.39538871901904127, 'precision': 0.3836716002839231, 'recall': 0.45181940771719314, 'confusion_matrix': pycm.ConfusionMatrix(classes: [0, 1, 2])}\n",
      "Fold: 48 {'accuracy': 0.5598599766627771, 'f1': 0.5391036572630915, 'precision': 0.6693613479263476, 'recall': 0.5458706840100129, 'confusion_matrix': pycm.ConfusionMatrix(classes: [0, 1, 2])}\n",
      "Fold: 49 {'accuracy': 0.5286026200873363, 'f1': 0.4422680667931779, 'precision': 0.5999424736276143, 'recall': 0.5227709062048109, 'confusion_matrix': pycm.ConfusionMatrix(classes: [0, 1, 2])}\n",
      "Fold: 50 {'accuracy': 0.4090325342465753, 'f1': 0.3312728472887769, 'precision': 0.33341531511350797, 'recall': 0.3961738600521329, 'confusion_matrix': pycm.ConfusionMatrix(classes: [0, 1, 2])}\n",
      "Mean and std for 50 pca components {'accuracy': [0.4798077924900383, 0.05738543957642774], 'f1': [0.40622845758363496, 0.06235595852137247], 'precision': [0.48681879627891583, 0.11054971581880207], 'recall': [0.46275970933476623, 0.05365071219248279]}\n",
      "--------------------\n",
      "PCA components: 100\n",
      "Fold: 1 {'accuracy': 0.5149415331312256, 'f1': 0.41118570911728886, 'precision': 0.4044470376710703, 'recall': 0.4835097273927531, 'confusion_matrix': pycm.ConfusionMatrix(classes: [0, 1, 2])}\n",
      "Fold: 2 {'accuracy': 0.5752920813500649, 'f1': 0.4597934904446377, 'precision': 0.48679075056394366, 'recall': 0.5361352082608802, 'confusion_matrix': pycm.ConfusionMatrix(classes: [0, 1, 2])}\n",
      "Fold: 3 {'accuracy': 0.48593238822246454, 'f1': 0.3895884017941416, 'precision': 0.36844797054064476, 'recall': 0.472321863551866, 'confusion_matrix': pycm.ConfusionMatrix(classes: [0, 1, 2])}\n",
      "Fold: 4 {'accuracy': 0.44063381810288693, 'f1': 0.35033034174600425, 'precision': 0.4633207480754528, 'recall': 0.42077683358596896, 'confusion_matrix': pycm.ConfusionMatrix(classes: [0, 1, 2])}\n",
      "Fold: 5 {'accuracy': 0.4544863459037711, 'f1': 0.38883452199462165, 'precision': 0.4672726939429854, 'recall': 0.4291138526159841, 'confusion_matrix': pycm.ConfusionMatrix(classes: [0, 1, 2])}\n",
      "Fold: 6 {'accuracy': 0.4647825126959594, 'f1': 0.41450391466240627, 'precision': 0.5231306524360303, 'recall': 0.4663630575436652, 'confusion_matrix': pycm.ConfusionMatrix(classes: [0, 1, 2])}\n",
      "Fold: 7 {'accuracy': 0.5257166090668836, 'f1': 0.4427929124823257, 'precision': 0.5658513099886672, 'recall': 0.5042550089777346, 'confusion_matrix': pycm.ConfusionMatrix(classes: [0, 1, 2])}\n",
      "Fold: 8 {'accuracy': 0.4565792149684767, 'f1': 0.3729427022583509, 'precision': 0.47931826665074145, 'recall': 0.46356437475475315, 'confusion_matrix': pycm.ConfusionMatrix(classes: [0, 1, 2])}\n",
      "Fold: 9 {'accuracy': 0.400676246830093, 'f1': 0.3251857902517361, 'precision': 0.38470281859094557, 'recall': 0.3801866598289522, 'confusion_matrix': pycm.ConfusionMatrix(classes: [0, 1, 2])}\n",
      "Fold: 10 {'accuracy': 0.46010362694300516, 'f1': 0.3683407584744875, 'precision': 0.3663766675072701, 'recall': 0.4390413148220524, 'confusion_matrix': pycm.ConfusionMatrix(classes: [0, 1, 2])}\n",
      "Fold: 11 {'accuracy': 0.43989877688738926, 'f1': 0.3623481065535317, 'precision': 0.5384896348016835, 'recall': 0.43861822249132226, 'confusion_matrix': pycm.ConfusionMatrix(classes: [0, 1, 2])}\n",
      "Fold: 12 {'accuracy': 0.3457640859343332, 'f1': 0.2793692557692734, 'precision': 0.28142460424405075, 'recall': 0.3435040273190841, 'confusion_matrix': pycm.ConfusionMatrix(classes: [0, 1, 2])}\n",
      "Fold: 13 {'accuracy': 0.4868891537544696, 'f1': 0.39587395406332254, 'precision': 0.4007576749213692, 'recall': 0.46324726081809803, 'confusion_matrix': pycm.ConfusionMatrix(classes: [0, 1, 2])}\n",
      "Fold: 14 {'accuracy': 0.5056784219964137, 'f1': 0.46287812926469263, 'precision': 0.652098087633755, 'recall': 0.4939171018175415, 'confusion_matrix': pycm.ConfusionMatrix(classes: [0, 1, 2])}\n",
      "Fold: 15 {'accuracy': 0.4939297124600639, 'f1': 0.39556499515260746, 'precision': 0.5465816199095305, 'recall': 0.45669046541646724, 'confusion_matrix': pycm.ConfusionMatrix(classes: [0, 1, 2])}\n",
      "Fold: 16 {'accuracy': 0.41191015866474345, 'f1': 0.32268084906042144, 'precision': 0.32404125614670815, 'recall': 0.397245593515984, 'confusion_matrix': pycm.ConfusionMatrix(classes: [0, 1, 2])}\n",
      "Fold: 17 {'accuracy': 0.453437771975631, 'f1': 0.3953540760536578, 'precision': 0.5789486959474539, 'recall': 0.4430064722248995, 'confusion_matrix': pycm.ConfusionMatrix(classes: [0, 1, 2])}\n",
      "Fold: 18 {'accuracy': 0.38127308277210514, 'f1': 0.29748297517703604, 'precision': 0.3200658909783987, 'recall': 0.35192673082442766, 'confusion_matrix': pycm.ConfusionMatrix(classes: [0, 1, 2])}\n",
      "Fold: 19 {'accuracy': 0.45823834196891194, 'f1': 0.38098619714368054, 'precision': 0.558456457227769, 'recall': 0.43211007000158946, 'confusion_matrix': pycm.ConfusionMatrix(classes: [0, 1, 2])}\n",
      "Fold: 20 {'accuracy': 0.4722104369961816, 'f1': 0.38798632294466834, 'precision': 0.4256502463975424, 'recall': 0.44379538282836145, 'confusion_matrix': pycm.ConfusionMatrix(classes: [0, 1, 2])}\n",
      "Fold: 21 {'accuracy': 0.4766695205479452, 'f1': 0.3817979591185748, 'precision': 0.371875351304886, 'recall': 0.44145609492819604, 'confusion_matrix': pycm.ConfusionMatrix(classes: [0, 1, 2])}\n",
      "Fold: 22 {'accuracy': 0.4560204953031597, 'f1': 0.3615243837489175, 'precision': 0.3628267000354437, 'recall': 0.43953346223743717, 'confusion_matrix': pycm.ConfusionMatrix(classes: [0, 1, 2])}\n",
      "Fold: 23 {'accuracy': 0.49861660079051384, 'f1': 0.41886962004497325, 'precision': 0.5635415206221014, 'recall': 0.48528229103187903, 'confusion_matrix': pycm.ConfusionMatrix(classes: [0, 1, 2])}\n",
      "Fold: 24 {'accuracy': 0.47061328790459966, 'f1': 0.383212216875908, 'precision': 0.3618436946627693, 'recall': 0.4523222946491628, 'confusion_matrix': pycm.ConfusionMatrix(classes: [0, 1, 2])}\n",
      "Fold: 25 {'accuracy': 0.46842661034846883, 'f1': 0.38156897390957994, 'precision': 0.4557022451048132, 'recall': 0.4550035886402115, 'confusion_matrix': pycm.ConfusionMatrix(classes: [0, 1, 2])}\n",
      "Fold: 26 {'accuracy': 0.4614565587734242, 'f1': 0.39680287447343704, 'precision': 0.6028651438679009, 'recall': 0.45072778833869553, 'confusion_matrix': pycm.ConfusionMatrix(classes: [0, 1, 2])}\n",
      "Fold: 27 {'accuracy': 0.3922277451423407, 'f1': 0.3303377479205413, 'precision': 0.4686614103998992, 'recall': 0.37660668341967657, 'confusion_matrix': pycm.ConfusionMatrix(classes: [0, 1, 2])}\n",
      "Fold: 28 {'accuracy': 0.5048406615570795, 'f1': 0.4470961858049167, 'precision': 0.5184214385931815, 'recall': 0.5043791194376778, 'confusion_matrix': pycm.ConfusionMatrix(classes: [0, 1, 2])}\n",
      "Fold: 29 {'accuracy': 0.47577458931170724, 'f1': 0.38938353630473327, 'precision': 0.49663021287883574, 'recall': 0.46327416489695605, 'confusion_matrix': pycm.ConfusionMatrix(classes: [0, 1, 2])}\n",
      "Fold: 30 {'accuracy': 0.3847487001733102, 'f1': 0.3270896173377359, 'precision': 0.38285861175886754, 'recall': 0.3718591705604301, 'confusion_matrix': pycm.ConfusionMatrix(classes: [0, 1, 2])}\n",
      "Fold: 31 {'accuracy': 0.44174056506496184, 'f1': 0.35656131823054643, 'precision': 0.3726223759332994, 'recall': 0.43568114310222, 'confusion_matrix': pycm.ConfusionMatrix(classes: [0, 1, 2])}\n",
      "Fold: 32 {'accuracy': 0.5023455027534163, 'f1': 0.4331981023204041, 'precision': 0.6408474709133417, 'recall': 0.48393733911959297, 'confusion_matrix': pycm.ConfusionMatrix(classes: [0, 1, 2])}\n",
      "Fold: 33 {'accuracy': 0.4913647851727043, 'f1': 0.3916846647394103, 'precision': 0.40119486749042915, 'recall': 0.4524525937713701, 'confusion_matrix': pycm.ConfusionMatrix(classes: [0, 1, 2])}\n",
      "Fold: 34 {'accuracy': 0.4623238717582193, 'f1': 0.37604058549361613, 'precision': 0.4219701193588354, 'recall': 0.46309082306685156, 'confusion_matrix': pycm.ConfusionMatrix(classes: [0, 1, 2])}\n",
      "Fold: 35 {'accuracy': 0.44543753897318644, 'f1': 0.39369079252642086, 'precision': 0.5345765516398487, 'recall': 0.43620443305688067, 'confusion_matrix': pycm.ConfusionMatrix(classes: [0, 1, 2])}\n",
      "Fold: 36 {'accuracy': 0.4689939288811795, 'f1': 0.42008325968764487, 'precision': 0.5687171761823644, 'recall': 0.476036040453716, 'confusion_matrix': pycm.ConfusionMatrix(classes: [0, 1, 2])}\n",
      "Fold: 37 {'accuracy': 0.4289378072237658, 'f1': 0.35169855842915676, 'precision': 0.409031497881603, 'recall': 0.41571324974105983, 'confusion_matrix': pycm.ConfusionMatrix(classes: [0, 1, 2])}\n",
      "Fold: 38 {'accuracy': 0.4531572430870821, 'f1': 0.36497014682054, 'precision': 0.43461019054487693, 'recall': 0.4424602158397301, 'confusion_matrix': pycm.ConfusionMatrix(classes: [0, 1, 2])}\n",
      "Fold: 39 {'accuracy': 0.5262564796033355, 'f1': 0.4434197124258044, 'precision': 0.5334018061687879, 'recall': 0.49849343773930777, 'confusion_matrix': pycm.ConfusionMatrix(classes: [0, 1, 2])}\n",
      "Fold: 40 {'accuracy': 0.4886339034423035, 'f1': 0.39096636191359085, 'precision': 0.4421940691262491, 'recall': 0.46534338541959824, 'confusion_matrix': pycm.ConfusionMatrix(classes: [0, 1, 2])}\n",
      "Fold: 41 {'accuracy': 0.5463962019853259, 'f1': 0.4446194252485948, 'precision': 0.4995076104050251, 'recall': 0.5220056371382749, 'confusion_matrix': pycm.ConfusionMatrix(classes: [0, 1, 2])}\n",
      "Fold: 42 {'accuracy': 0.37449435810091547, 'f1': 0.3018394187540011, 'precision': 0.3992303063481839, 'recall': 0.36360188547781624, 'confusion_matrix': pycm.ConfusionMatrix(classes: [0, 1, 2])}\n",
      "Fold: 43 {'accuracy': 0.44415011037527596, 'f1': 0.38766796528110564, 'precision': 0.581400855372643, 'recall': 0.4219841063525336, 'confusion_matrix': pycm.ConfusionMatrix(classes: [0, 1, 2])}\n",
      "Fold: 44 {'accuracy': 0.3925356750823271, 'f1': 0.3153740721670285, 'precision': 0.4373863569899467, 'recall': 0.3877381819784109, 'confusion_matrix': pycm.ConfusionMatrix(classes: [0, 1, 2])}\n",
      "Fold: 45 {'accuracy': 0.5322236448997012, 'f1': 0.48346025102640966, 'precision': 0.6370847502101301, 'recall': 0.5185391480627318, 'confusion_matrix': pycm.ConfusionMatrix(classes: [0, 1, 2])}\n",
      "Fold: 46 {'accuracy': 0.5247093023255814, 'f1': 0.4392282535798648, 'precision': 0.49639426496485656, 'recall': 0.49385254428759423, 'confusion_matrix': pycm.ConfusionMatrix(classes: [0, 1, 2])}\n",
      "Fold: 47 {'accuracy': 0.5449968533668974, 'f1': 0.49185991511166255, 'precision': 0.6466865740090728, 'recall': 0.5278347837434842, 'confusion_matrix': pycm.ConfusionMatrix(classes: [0, 1, 2])}\n",
      "Fold: 48 {'accuracy': 0.44008908685968817, 'f1': 0.3566031267602066, 'precision': 0.5051498716673533, 'recall': 0.4307277136596388, 'confusion_matrix': pycm.ConfusionMatrix(classes: [0, 1, 2])}\n",
      "Fold: 49 {'accuracy': 0.5086705202312138, 'f1': 0.4377459261113123, 'precision': 0.589709776203495, 'recall': 0.4605137447230339, 'confusion_matrix': pycm.ConfusionMatrix(classes: [0, 1, 2])}\n",
      "Fold: 50 {'accuracy': 0.4546027742749054, 'f1': 0.39323879674161466, 'precision': 0.5681848786903022, 'recall': 0.42648128801500684, 'confusion_matrix': pycm.ConfusionMatrix(classes: [0, 1, 2])}\n",
      "Mean and std for 100 pca components {'accuracy': [0.4657965848787922, 0.04750129179649243], 'f1': [0.38791314346634287, 0.04681499595185745], 'precision': [0.47682601567010713, 0.09339069936178537], 'recall': [0.4484493116296312, 0.04435299792945989]}\n",
      "--------------------\n",
      "PCA components: 200\n",
      "Fold: 1 {'accuracy': 0.5443451732403574, 'f1': 0.4580174861087814, 'precision': 0.6345438384899404, 'recall': 0.5116183236950839, 'confusion_matrix': pycm.ConfusionMatrix(classes: [0, 1, 2])}\n",
      "Fold: 2 {'accuracy': 0.466875, 'f1': 0.3817834188786949, 'precision': 0.5014987080072238, 'recall': 0.43041441617551984, 'confusion_matrix': pycm.ConfusionMatrix(classes: [0, 1, 2])}\n",
      "Fold: 3 {'accuracy': 0.4534784464361929, 'f1': 0.3571998246409742, 'precision': 0.4427696346842622, 'recall': 0.4268469239628745, 'confusion_matrix': pycm.ConfusionMatrix(classes: [0, 1, 2])}\n",
      "Fold: 4 {'accuracy': 0.4390593047034765, 'f1': 0.33574154259058514, 'precision': 0.4903991074560102, 'recall': 0.43426362071873736, 'confusion_matrix': pycm.ConfusionMatrix(classes: [0, 1, 2])}\n",
      "Fold: 5 {'accuracy': 0.413770347558293, 'f1': 0.34266398700563805, 'precision': 0.37892692666741506, 'recall': 0.439586557989121, 'confusion_matrix': pycm.ConfusionMatrix(classes: [0, 1, 2])}\n",
      "Fold: 6 {'accuracy': 0.4435612082670906, 'f1': 0.3875390351112851, 'precision': 0.6059599839898575, 'recall': 0.4276238974604807, 'confusion_matrix': pycm.ConfusionMatrix(classes: [0, 1, 2])}\n",
      "Fold: 7 {'accuracy': 0.537874097007224, 'f1': 0.4279446435704792, 'precision': 0.5521511396145854, 'recall': 0.5037021887891131, 'confusion_matrix': pycm.ConfusionMatrix(classes: [0, 1, 2])}\n",
      "Fold: 8 {'accuracy': 0.44058205335489087, 'f1': 0.352409837213967, 'precision': 0.446777506522053, 'recall': 0.4269394000572591, 'confusion_matrix': pycm.ConfusionMatrix(classes: [0, 1, 2])}\n",
      "Fold: 9 {'accuracy': 0.44454283816692497, 'f1': 0.35453451229518707, 'precision': 0.3714452770269978, 'recall': 0.41652385682813736, 'confusion_matrix': pycm.ConfusionMatrix(classes: [0, 1, 2])}\n",
      "Fold: 10 {'accuracy': 0.4588259274357929, 'f1': 0.3624899871894924, 'precision': 0.36935021337264534, 'recall': 0.4331718370841026, 'confusion_matrix': pycm.ConfusionMatrix(classes: [0, 1, 2])}\n",
      "Fold: 11 {'accuracy': 0.4479706390328152, 'f1': 0.37113255783029225, 'precision': 0.5419006018921686, 'recall': 0.43609353493096964, 'confusion_matrix': pycm.ConfusionMatrix(classes: [0, 1, 2])}\n",
      "Fold: 12 {'accuracy': 0.43514279485502505, 'f1': 0.35931583799758043, 'precision': 0.35579191164857843, 'recall': 0.43210826467345026, 'confusion_matrix': pycm.ConfusionMatrix(classes: [0, 1, 2])}\n",
      "Fold: 13 {'accuracy': 0.4381014873140857, 'f1': 0.34633235319567124, 'precision': 0.36221256123466766, 'recall': 0.4307168152026737, 'confusion_matrix': pycm.ConfusionMatrix(classes: [0, 1, 2])}\n",
      "Fold: 14 {'accuracy': 0.4712103407755582, 'f1': 0.4162269116159776, 'precision': 0.6576970101931322, 'recall': 0.47257070100479154, 'confusion_matrix': pycm.ConfusionMatrix(classes: [0, 1, 2])}\n",
      "Fold: 15 {'accuracy': 0.429778488239324, 'f1': 0.35805955307921594, 'precision': 0.3486655548442848, 'recall': 0.4197317161659601, 'confusion_matrix': pycm.ConfusionMatrix(classes: [0, 1, 2])}\n",
      "Fold: 16 {'accuracy': 0.35330756013745707, 'f1': 0.2829668941596078, 'precision': 0.3817618756528236, 'recall': 0.3588999066212966, 'confusion_matrix': pycm.ConfusionMatrix(classes: [0, 1, 2])}\n",
      "Fold: 17 {'accuracy': 0.4890979050876443, 'f1': 0.40286102866208434, 'precision': 0.56214424567713, 'recall': 0.48420046039114223, 'confusion_matrix': pycm.ConfusionMatrix(classes: [0, 1, 2])}\n",
      "Fold: 18 {'accuracy': 0.4611299915038233, 'f1': 0.3871958923236099, 'precision': 0.5415041106846302, 'recall': 0.4548326971840087, 'confusion_matrix': pycm.ConfusionMatrix(classes: [0, 1, 2])}\n",
      "Fold: 19 {'accuracy': 0.5118453865336658, 'f1': 0.4012584762254175, 'precision': 0.48849793456488816, 'recall': 0.45857025605660634, 'confusion_matrix': pycm.ConfusionMatrix(classes: [0, 1, 2])}\n",
      "Fold: 20 {'accuracy': 0.5161755615083453, 'f1': 0.41491747635826964, 'precision': 0.43597390931146474, 'recall': 0.5014349083970794, 'confusion_matrix': pycm.ConfusionMatrix(classes: [0, 1, 2])}\n",
      "Fold: 21 {'accuracy': 0.4283492125218744, 'f1': 0.3405432889716043, 'precision': 0.32946605820176483, 'recall': 0.4177141321018256, 'confusion_matrix': pycm.ConfusionMatrix(classes: [0, 1, 2])}\n",
      "Fold: 22 {'accuracy': 0.4752536757092566, 'f1': 0.414966635285461, 'precision': 0.5329296109030478, 'recall': 0.4363059524490314, 'confusion_matrix': pycm.ConfusionMatrix(classes: [0, 1, 2])}\n",
      "Fold: 23 {'accuracy': 0.4521452145214521, 'f1': 0.3714210259998889, 'precision': 0.484037008652119, 'recall': 0.42400176751768, 'confusion_matrix': pycm.ConfusionMatrix(classes: [0, 1, 2])}\n",
      "Fold: 24 {'accuracy': 0.49333333333333335, 'f1': 0.3879413507197824, 'precision': 0.3773571137509191, 'recall': 0.45553696326909354, 'confusion_matrix': pycm.ConfusionMatrix(classes: [0, 1, 2])}\n",
      "Fold: 25 {'accuracy': 0.4165322580645161, 'f1': 0.3307522892989046, 'precision': 0.41340999967664976, 'recall': 0.3750502150765322, 'confusion_matrix': pycm.ConfusionMatrix(classes: [0, 1, 2])}\n",
      "Fold: 26 {'accuracy': 0.5211412151067324, 'f1': 0.4324801518686268, 'precision': 0.6496034139298573, 'recall': 0.5134249924441139, 'confusion_matrix': pycm.ConfusionMatrix(classes: [0, 1, 2])}\n",
      "Fold: 27 {'accuracy': 0.41876288659793814, 'f1': 0.33828468193371036, 'precision': 0.4447097921841927, 'recall': 0.3934519841324731, 'confusion_matrix': pycm.ConfusionMatrix(classes: [0, 1, 2])}\n",
      "Fold: 28 {'accuracy': 0.49263431542461006, 'f1': 0.3992094327679389, 'precision': 0.3778417583633144, 'recall': 0.481040390031472, 'confusion_matrix': pycm.ConfusionMatrix(classes: [0, 1, 2])}\n",
      "Fold: 29 {'accuracy': 0.4531818181818182, 'f1': 0.3659615687021159, 'precision': 0.4044230786660137, 'recall': 0.4309035524603962, 'confusion_matrix': pycm.ConfusionMatrix(classes: [0, 1, 2])}\n",
      "Fold: 30 {'accuracy': 0.4942781690140845, 'f1': 0.39551328642203387, 'precision': 0.433978277933166, 'recall': 0.46365815423192475, 'confusion_matrix': pycm.ConfusionMatrix(classes: [0, 1, 2])}\n",
      "Fold: 31 {'accuracy': 0.4811278863232682, 'f1': 0.43526800616283484, 'precision': 0.6392869149017085, 'recall': 0.4725977683258357, 'confusion_matrix': pycm.ConfusionMatrix(classes: [0, 1, 2])}\n",
      "Fold: 32 {'accuracy': 0.5282196556984092, 'f1': 0.43517727482196494, 'precision': 0.6687027578483979, 'recall': 0.5324295144041112, 'confusion_matrix': pycm.ConfusionMatrix(classes: [0, 1, 2])}\n",
      "Fold: 33 {'accuracy': 0.5446051167964405, 'f1': 0.48720700052492427, 'precision': 0.6828923504089945, 'recall': 0.5270706800819602, 'confusion_matrix': pycm.ConfusionMatrix(classes: [0, 1, 2])}\n",
      "Fold: 34 {'accuracy': 0.40190645089780536, 'f1': 0.3202205620905128, 'precision': 0.33719190502857904, 'recall': 0.39650456874832396, 'confusion_matrix': pycm.ConfusionMatrix(classes: [0, 1, 2])}\n",
      "Fold: 35 {'accuracy': 0.4917677642980936, 'f1': 0.3939793545607668, 'precision': 0.41549700168841613, 'recall': 0.48163863359445364, 'confusion_matrix': pycm.ConfusionMatrix(classes: [0, 1, 2])}\n",
      "Fold: 36 {'accuracy': 0.5038281582305402, 'f1': 0.39604488990756104, 'precision': 0.3910685233208165, 'recall': 0.4510099011910087, 'confusion_matrix': pycm.ConfusionMatrix(classes: [0, 1, 2])}\n",
      "Fold: 37 {'accuracy': 0.45103674810100597, 'f1': 0.36194763011687797, 'precision': 0.46445512814869555, 'recall': 0.43530884005957304, 'confusion_matrix': pycm.ConfusionMatrix(classes: [0, 1, 2])}\n",
      "Fold: 38 {'accuracy': 0.5908300738809213, 'f1': 0.5092772718847677, 'precision': 0.7129111348377579, 'recall': 0.5529349580026673, 'confusion_matrix': pycm.ConfusionMatrix(classes: [0, 1, 2])}\n",
      "Fold: 39 {'accuracy': 0.49923530696963075, 'f1': 0.39616789130265057, 'precision': 0.4700685307113226, 'recall': 0.4585892335670032, 'confusion_matrix': pycm.ConfusionMatrix(classes: [0, 1, 2])}\n",
      "Fold: 40 {'accuracy': 0.4166306695464363, 'f1': 0.34281968655777373, 'precision': 0.36352269704630197, 'recall': 0.4069326458204603, 'confusion_matrix': pycm.ConfusionMatrix(classes: [0, 1, 2])}\n",
      "Fold: 41 {'accuracy': 0.40941026186927826, 'f1': 0.3193487226603714, 'precision': 0.37297200792699775, 'recall': 0.3995088473513309, 'confusion_matrix': pycm.ConfusionMatrix(classes: [0, 1, 2])}\n",
      "Fold: 42 {'accuracy': 0.43331885317115554, 'f1': 0.33338245378588427, 'precision': 0.4812987960952211, 'recall': 0.39725786509046973, 'confusion_matrix': pycm.ConfusionMatrix(classes: [0, 1, 2])}\n",
      "Fold: 43 {'accuracy': 0.38477324030371435, 'f1': 0.3145844702487754, 'precision': 0.5192650563770886, 'recall': 0.36748603825414494, 'confusion_matrix': pycm.ConfusionMatrix(classes: [0, 1, 2])}\n",
      "Fold: 44 {'accuracy': 0.5469422911283376, 'f1': 0.4262034852541699, 'precision': 0.4679541324617833, 'recall': 0.4956834779175212, 'confusion_matrix': pycm.ConfusionMatrix(classes: [0, 1, 2])}\n",
      "Fold: 45 {'accuracy': 0.42760575665067596, 'f1': 0.3391696814844963, 'precision': 0.3380006014332417, 'recall': 0.4107411612934408, 'confusion_matrix': pycm.ConfusionMatrix(classes: [0, 1, 2])}\n",
      "Fold: 46 {'accuracy': 0.45505999547203985, 'f1': 0.40845839074831464, 'precision': 0.6178381512270276, 'recall': 0.43356337958042035, 'confusion_matrix': pycm.ConfusionMatrix(classes: [0, 1, 2])}\n",
      "Fold: 47 {'accuracy': 0.3249520562539953, 'f1': 0.2470206825121275, 'precision': 0.3394205514534266, 'recall': 0.3167698324854495, 'confusion_matrix': pycm.ConfusionMatrix(classes: [0, 1, 2])}\n",
      "Fold: 48 {'accuracy': 0.49881491057961647, 'f1': 0.40882220080788273, 'precision': 0.5824112498534485, 'recall': 0.5059584653332446, 'confusion_matrix': pycm.ConfusionMatrix(classes: [0, 1, 2])}\n",
      "Fold: 49 {'accuracy': 0.5490325417766051, 'f1': 0.4730712908579718, 'precision': 0.6527016164362331, 'recall': 0.5219544833333128, 'confusion_matrix': pycm.ConfusionMatrix(classes: [0, 1, 2])}\n",
      "Fold: 50 {'accuracy': 0.530789964752229, 'f1': 0.4253352650100711, 'precision': 0.3936586439931573, 'recall': 0.5153333023504519, 'confusion_matrix': pycm.ConfusionMatrix(classes: [0, 1, 2])}\n",
      "Mean and std for 200 pca components {'accuracy': [0.46624348704667606, 0.05226595228227814], 'f1': [0.38102342358647157, 0.049798585059192296], 'precision': [0.47657691829988835, 0.10928410092058975], 'recall': [0.4474042396777627, 0.04839043259893467]}\n",
      "--------------------\n",
      "PCA components: None\n",
      "Fold: 1 {'accuracy': 0.51723395088324, 'f1': 0.41674424278558225, 'precision': 0.4346849379899688, 'recall': 0.4854417276860062, 'confusion_matrix': pycm.ConfusionMatrix(classes: [0, 1, 2])}\n",
      "Fold: 2 {'accuracy': 0.519711742263671, 'f1': 0.42678280079371017, 'precision': 0.39036964001249963, 'recall': 0.5091522298196034, 'confusion_matrix': pycm.ConfusionMatrix(classes: [0, 1, 2])}\n",
      "Fold: 3 {'accuracy': 0.5585888282234356, 'f1': 0.4674008339147913, 'precision': 0.5226882890532917, 'recall': 0.5352905247553356, 'confusion_matrix': pycm.ConfusionMatrix(classes: [0, 1, 2])}\n",
      "Fold: 4 {'accuracy': 0.557549921471842, 'f1': 0.44891009972021384, 'precision': 0.43489645720467535, 'recall': 0.5019178950541623, 'confusion_matrix': pycm.ConfusionMatrix(classes: [0, 1, 2])}\n",
      "Fold: 5 {'accuracy': 0.5829145728643216, 'f1': 0.5645545702178667, 'precision': 0.6156343129379555, 'recall': 0.569719931415287, 'confusion_matrix': pycm.ConfusionMatrix(classes: [0, 1, 2])}\n",
      "Fold: 6 {'accuracy': 0.5305567182921724, 'f1': 0.5048723375530162, 'precision': 0.5954185895162672, 'recall': 0.5171491980897626, 'confusion_matrix': pycm.ConfusionMatrix(classes: [0, 1, 2])}\n",
      "Fold: 7 {'accuracy': 0.5931823278762054, 'f1': 0.5446284301299641, 'precision': 0.6642410420389354, 'recall': 0.5784524432361634, 'confusion_matrix': pycm.ConfusionMatrix(classes: [0, 1, 2])}\n",
      "Fold: 8 {'accuracy': 0.5726044744617982, 'f1': 0.5017480065434298, 'precision': 0.637899371707281, 'recall': 0.5614096973422401, 'confusion_matrix': pycm.ConfusionMatrix(classes: [0, 1, 2])}\n",
      "Fold: 9 {'accuracy': 0.47537379067722074, 'f1': 0.44835762568529763, 'precision': 0.532037599200667, 'recall': 0.46923215569247195, 'confusion_matrix': pycm.ConfusionMatrix(classes: [0, 1, 2])}\n",
      "Fold: 10 {'accuracy': 0.5835396039603961, 'f1': 0.5547579626593794, 'precision': 0.5566110679339852, 'recall': 0.567857508567256, 'confusion_matrix': pycm.ConfusionMatrix(classes: [0, 1, 2])}\n",
      "Fold: 11 {'accuracy': 0.5270159639787146, 'f1': 0.47979537528291555, 'precision': 0.5394401090053265, 'recall': 0.5269738175301806, 'confusion_matrix': pycm.ConfusionMatrix(classes: [0, 1, 2])}\n",
      "Fold: 12 {'accuracy': 0.5958164642375169, 'f1': 0.5445966357100251, 'precision': 0.6992264223167256, 'recall': 0.5959094115704847, 'confusion_matrix': pycm.ConfusionMatrix(classes: [0, 1, 2])}\n",
      "Fold: 13 {'accuracy': 0.5358013744180891, 'f1': 0.4953566708124833, 'precision': 0.6285624817091016, 'recall': 0.5266784251410994, 'confusion_matrix': pycm.ConfusionMatrix(classes: [0, 1, 2])}\n",
      "Fold: 14 {'accuracy': 0.46152241918665277, 'f1': 0.36759211638316885, 'precision': 0.36727221604147314, 'recall': 0.43113755509732044, 'confusion_matrix': pycm.ConfusionMatrix(classes: [0, 1, 2])}\n",
      "Fold: 15 {'accuracy': 0.519210130929384, 'f1': 0.47752104458233924, 'precision': 0.5723729590267407, 'recall': 0.5200935684063748, 'confusion_matrix': pycm.ConfusionMatrix(classes: [0, 1, 2])}\n",
      "Fold: 16 {'accuracy': 0.5795230802887771, 'f1': 0.47221822963525417, 'precision': 0.48039196776820536, 'recall': 0.556413614303867, 'confusion_matrix': pycm.ConfusionMatrix(classes: [0, 1, 2])}\n",
      "Fold: 17 {'accuracy': 0.48153438073862476, 'f1': 0.4544395926928053, 'precision': 0.5218084041929734, 'recall': 0.48575143178218516, 'confusion_matrix': pycm.ConfusionMatrix(classes: [0, 1, 2])}\n",
      "Fold: 18 {'accuracy': 0.45917728126957613, 'f1': 0.3743538001675228, 'precision': 0.32935700561027736, 'recall': 0.44602703288439055, 'confusion_matrix': pycm.ConfusionMatrix(classes: [0, 1, 2])}\n",
      "Fold: 19 {'accuracy': 0.5184055761272054, 'f1': 0.43401388181289496, 'precision': 0.41176619865074865, 'recall': 0.49720900142644914, 'confusion_matrix': pycm.ConfusionMatrix(classes: [0, 1, 2])}\n",
      "Fold: 20 {'accuracy': 0.5527512505684402, 'f1': 0.5134750591748946, 'precision': 0.6369723415494815, 'recall': 0.5705927389161893, 'confusion_matrix': pycm.ConfusionMatrix(classes: [0, 1, 2])}\n",
      "Fold: 21 {'accuracy': 0.46287863789348643, 'f1': 0.42966056744259046, 'precision': 0.4883500892272905, 'recall': 0.453851133742438, 'confusion_matrix': pycm.ConfusionMatrix(classes: [0, 1, 2])}\n",
      "Fold: 22 {'accuracy': 0.5555108608205953, 'f1': 0.4481535633727052, 'precision': 0.48172466537200603, 'recall': 0.5143787356539214, 'confusion_matrix': pycm.ConfusionMatrix(classes: [0, 1, 2])}\n",
      "Fold: 23 {'accuracy': 0.6439609597397316, 'f1': 0.6247722458860153, 'precision': 0.7069522621387067, 'recall': 0.635663497446136, 'confusion_matrix': pycm.ConfusionMatrix(classes: [0, 1, 2])}\n",
      "Fold: 24 {'accuracy': 0.5134661703525291, 'f1': 0.4803993566765335, 'precision': 0.595928049117418, 'recall': 0.5003326198783049, 'confusion_matrix': pycm.ConfusionMatrix(classes: [0, 1, 2])}\n",
      "Fold: 25 {'accuracy': 0.49721417428125697, 'f1': 0.47170014714691283, 'precision': 0.5264932236078047, 'recall': 0.4889129042422254, 'confusion_matrix': pycm.ConfusionMatrix(classes: [0, 1, 2])}\n",
      "Fold: 26 {'accuracy': 0.6868665540540541, 'f1': 0.6619398864457123, 'precision': 0.742640899504169, 'recall': 0.6643829732686518, 'confusion_matrix': pycm.ConfusionMatrix(classes: [0, 1, 2])}\n",
      "Fold: 27 {'accuracy': 0.3740065451145395, 'f1': 0.30239222856773024, 'precision': 0.3179186364997834, 'recall': 0.3577480817317627, 'confusion_matrix': pycm.ConfusionMatrix(classes: [0, 1, 2])}\n",
      "Fold: 28 {'accuracy': 0.5724994645534376, 'f1': 0.527015785429176, 'precision': 0.5554460646780705, 'recall': 0.5399943020148672, 'confusion_matrix': pycm.ConfusionMatrix(classes: [0, 1, 2])}\n",
      "Fold: 29 {'accuracy': 0.50809199318569, 'f1': 0.4811100589280919, 'precision': 0.5603319059385198, 'recall': 0.49885462495232485, 'confusion_matrix': pycm.ConfusionMatrix(classes: [0, 1, 2])}\n",
      "Fold: 30 {'accuracy': 0.49271734182976784, 'f1': 0.39886569739315036, 'precision': 0.3799972754219421, 'recall': 0.4728472143947722, 'confusion_matrix': pycm.ConfusionMatrix(classes: [0, 1, 2])}\n",
      "Fold: 31 {'accuracy': 0.5044303797468355, 'f1': 0.4689664098059376, 'precision': 0.560590014067217, 'recall': 0.4907763401276584, 'confusion_matrix': pycm.ConfusionMatrix(classes: [0, 1, 2])}\n",
      "Fold: 32 {'accuracy': 0.49189078218025045, 'f1': 0.43394089275590875, 'precision': 0.49246812991188244, 'recall': 0.48039798836410585, 'confusion_matrix': pycm.ConfusionMatrix(classes: [0, 1, 2])}\n",
      "Fold: 33 {'accuracy': 0.5022088353413655, 'f1': 0.4683005084238103, 'precision': 0.5129930561684296, 'recall': 0.5007701353423794, 'confusion_matrix': pycm.ConfusionMatrix(classes: [0, 1, 2])}\n",
      "Fold: 34 {'accuracy': 0.5521283158544109, 'f1': 0.51455062769136, 'precision': 0.5640700543594196, 'recall': 0.5342854783995465, 'confusion_matrix': pycm.ConfusionMatrix(classes: [0, 1, 2])}\n",
      "Fold: 35 {'accuracy': 0.549642406394615, 'f1': 0.5379227613769256, 'precision': 0.6458378432960389, 'recall': 0.5412516057163416, 'confusion_matrix': pycm.ConfusionMatrix(classes: [0, 1, 2])}\n",
      "Fold: 36 {'accuracy': 0.6097195461357311, 'f1': 0.5873087568546285, 'precision': 0.7468953859300136, 'recall': 0.6081813087414955, 'confusion_matrix': pycm.ConfusionMatrix(classes: [0, 1, 2])}\n",
      "Fold: 37 {'accuracy': 0.5533470413525245, 'f1': 0.4652944598255809, 'precision': 0.4776511088731184, 'recall': 0.5343352407167715, 'confusion_matrix': pycm.ConfusionMatrix(classes: [0, 1, 2])}\n",
      "Fold: 38 {'accuracy': 0.4853413224909052, 'f1': 0.4382479069512963, 'precision': 0.5093480972936146, 'recall': 0.4706982435072629, 'confusion_matrix': pycm.ConfusionMatrix(classes: [0, 1, 2])}\n",
      "Fold: 39 {'accuracy': 0.5581717451523546, 'f1': 0.5124982005655699, 'precision': 0.6235014515301543, 'recall': 0.545652629613935, 'confusion_matrix': pycm.ConfusionMatrix(classes: [0, 1, 2])}\n",
      "Fold: 40 {'accuracy': 0.4373253063857235, 'f1': 0.3623044947460519, 'precision': 0.3588996513993579, 'recall': 0.41805898514245793, 'confusion_matrix': pycm.ConfusionMatrix(classes: [0, 1, 2])}\n",
      "Fold: 41 {'accuracy': 0.5918742343813802, 'f1': 0.5585874805983511, 'precision': 0.6711715242161077, 'recall': 0.5831011558425832, 'confusion_matrix': pycm.ConfusionMatrix(classes: [0, 1, 2])}\n",
      "Fold: 42 {'accuracy': 0.47267996530789247, 'f1': 0.4506367742056714, 'precision': 0.623194456813684, 'recall': 0.47407067121345997, 'confusion_matrix': pycm.ConfusionMatrix(classes: [0, 1, 2])}\n",
      "Fold: 43 {'accuracy': 0.5273454868830592, 'f1': 0.4314835727167868, 'precision': 0.4291602565723374, 'recall': 0.4786909146694489, 'confusion_matrix': pycm.ConfusionMatrix(classes: [0, 1, 2])}\n",
      "Fold: 44 {'accuracy': 0.5620331950207469, 'f1': 0.5117651485881708, 'precision': 0.6254350235157676, 'recall': 0.5526867833472561, 'confusion_matrix': pycm.ConfusionMatrix(classes: [0, 1, 2])}\n",
      "Fold: 45 {'accuracy': 0.5318419991938734, 'f1': 0.4968765865768656, 'precision': 0.5691501774353077, 'recall': 0.5414078346970689, 'confusion_matrix': pycm.ConfusionMatrix(classes: [0, 1, 2])}\n",
      "Fold: 46 {'accuracy': 0.5454545454545454, 'f1': 0.5152972003179291, 'precision': 0.6603900325589431, 'recall': 0.5372167903482885, 'confusion_matrix': pycm.ConfusionMatrix(classes: [0, 1, 2])}\n",
      "Fold: 47 {'accuracy': 0.6187857457105147, 'f1': 0.5015196178136209, 'precision': 0.6037197490778837, 'recall': 0.5838991464718858, 'confusion_matrix': pycm.ConfusionMatrix(classes: [0, 1, 2])}\n",
      "Fold: 48 {'accuracy': 0.5140705509314308, 'f1': 0.48008736607409924, 'precision': 0.5131904321264334, 'recall': 0.509678412195016, 'confusion_matrix': pycm.ConfusionMatrix(classes: [0, 1, 2])}\n",
      "Fold: 49 {'accuracy': 0.5915402691732535, 'f1': 0.5633921604868467, 'precision': 0.628361371104719, 'recall': 0.5833816890337502, 'confusion_matrix': pycm.ConfusionMatrix(classes: [0, 1, 2])}\n",
      "Fold: 50 {'accuracy': 0.5915463486084955, 'f1': 0.5523158494235892, 'precision': 0.7983348823113824, 'recall': 0.5921910716081245, 'confusion_matrix': pycm.ConfusionMatrix(classes: [0, 1, 2])}\n",
      "Mean and std for None pca components {'accuracy': [0.5364120915248456, 0.055161119209657085], 'f1': [0.4833885125869034, 0.0657968234143526], 'precision': [0.5508359436706821, 0.11010426435116381], 'recall': [0.5228021684228215, 0.05587336214798484]}\n"
     ]
    }
   ],
   "source": [
    "pca_metrics = []\n",
    "\n",
    "pca_components =  [50, 100, 200, None]\n",
    "\n",
    "dataset_path = config['Data']['dataset_path']\n",
    "model_name = config['Model']['model_name']\n",
    "\n",
    "print('Model Name')\n",
    "model = get_model(config)\n",
    "\n",
    "for n_components in pca_components:\n",
    "    print('-'*20)\n",
    "    print(f'PCA components: {n_components}')\n",
    "    curr_metrics = {}\n",
    "    \n",
    "    for k in range(n_folds):\n",
    "\n",
    "        if n_folds > 1: seed = None\n",
    "        train_ids, test_ids = balanced_split(dataset_path, num_test_part = num_test_part, seed = seed)\n",
    "\n",
    "    X_train = X[X['par_ids'].isin(train_ids)]\n",
    "    X_test = X[X['par_ids'].isin(test_ids)]\n",
    "\n",
    "    y_train = y[np.isin(par_ids, train_ids)]\n",
    "    y_test = y[np.isin(par_ids, test_ids)]\n",
    "\n",
    "    #X_train, X_test, y_train, y_test = train_test_split(X, y, test_size=0.1, random_state=seed)\n",
    "\n",
    "    X_train = X_train.drop(['par_ids'], axis=1)\n",
    "    X_test = X_test.drop(['par_ids'], axis=1)\n",
    "\n",
    "    scaler = StandardScaler()\n",
    "    X_train = scaler.fit_transform(X_train)\n",
    "    X_test = scaler.transform(X_test)\n",
    "\n",
    "        if n_components is not None:\n",
    "            pca = PCA(n_components=n_components)\n",
    "            X_train = pca.fit_transform(X_train)\n",
    "            X_test = pca.transform(X_test)\n",
    "\n",
    "        model.fit(X_train, y_train)\n",
    "        y_pred = model.predict(X_test)\n",
    "        metrics = get_metrics(y_test, y_pred)\n",
    "\n",
    "        print(f'Fold: {k+1}', metrics)\n",
    "\n",
    "        if k == 0:\n",
    "            curr_metrics = {k : [v] for k, v in metrics.items() if k != 'confusion_matrix'}\n",
    "        else:\n",
    "            curr_metrics ={k : curr_metrics[k] + [v] for k, v in metrics.items() if k != 'confusion_matrix'}\n",
    "\n",
    "    \n",
    "    mean_metrics = {k: [np.mean(v), np.std(v)] for k, v in curr_metrics.items()}\n",
    "    pca_metrics.append(mean_metrics)\n",
    "    print(f'Mean and std for {n_components} pca components', pca_metrics[-1])"
   ]
  },
  {
   "cell_type": "code",
   "execution_count": 359,
   "metadata": {},
   "outputs": [
    {
     "data": {
      "text/plain": [
       "\"plot_confusion_matrix(metrics['confusion_matrix'])\\ny_pred_train = model.predict(X_train)\\nmetrics_train = get_metrics(y_test, y_pred)\\nprint(metrics_train)\""
      ]
     },
     "execution_count": 359,
     "metadata": {},
     "output_type": "execute_result"
    }
   ],
   "source": [
    "'''plot_confusion_matrix(metrics['confusion_matrix'])\n",
    "y_pred_train = model.predict(X_train)\n",
    "metrics_train = get_metrics(y_test, y_pred)\n",
    "print(metrics_train)'''"
   ]
  },
  {
   "cell_type": "code",
   "execution_count": 360,
   "metadata": {},
   "outputs": [
    {
     "data": {
      "text/plain": [
       "\"plt.scatter(pca_components, [m['accuracy'] for m in pca_metrics], label='acc')\""
      ]
     },
     "execution_count": 360,
     "metadata": {},
     "output_type": "execute_result"
    }
   ],
   "source": [
    "'''plt.scatter(pca_components, [m['accuracy'] for m in pca_metrics], label='acc')'''"
   ]
  },
  {
   "cell_type": "code",
   "execution_count": 361,
   "metadata": {},
   "outputs": [],
   "source": [
    "metrics_df = pd.DataFrame(pca_metrics)\n",
    "metrics_df['pca_components'] = pca_components\n",
    "# sort by components\n",
    "metrics_df = metrics_df.sort_values(by=['pca_components']).reset_index(drop=True)"
   ]
  },
  {
   "cell_type": "code",
   "execution_count": 362,
   "metadata": {},
   "outputs": [],
   "source": [
    "metrics_df.to_csv('pca_metrics.csv', index=False)"
   ]
  }
 ],
 "metadata": {
  "kernelspec": {
   "display_name": "myenv",
   "language": "python",
   "name": "python3"
  },
  "language_info": {
   "codemirror_mode": {
    "name": "ipython",
    "version": 3
   },
   "file_extension": ".py",
   "mimetype": "text/x-python",
   "name": "python",
   "nbconvert_exporter": "python",
   "pygments_lexer": "ipython3",
   "version": "3.8.13"
  },
  "orig_nbformat": 4
 },
 "nbformat": 4,
 "nbformat_minor": 2
}
