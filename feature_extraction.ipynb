{
 "cells": [
  {
   "cell_type": "code",
   "execution_count": null,
   "metadata": {},
   "outputs": [],
   "source": [
    "#libraries\n",
    "from scipy.signal import butter, filtfilt, spectrogram\n",
    "import scipy.stats as ss\n",
    "import pandas as pd\n",
    "import numpy as np"
   ]
  },
  {
   "cell_type": "code",
   "execution_count": null,
   "metadata": {},
   "outputs": [],
   "source": [
    "%matplotlib qt"
   ]
  },
  {
   "cell_type": "code",
   "execution_count": null,
   "metadata": {},
   "outputs": [],
   "source": [
    "data = pd.read_pickle(\"all_subjects.pkl\")"
   ]
  },
  {
   "cell_type": "code",
   "execution_count": null,
   "metadata": {},
   "outputs": [],
   "source": [
    "signal = data['ch0'][0][0]\n",
    "signal.shape"
   ]
  },
  {
   "attachments": {},
   "cell_type": "markdown",
   "metadata": {},
   "source": [
    "#### EEG rhythms:\n",
    "$\\alpha = 8-13 \\text{Hz}, \\ \\ \\beta = 13-30 \\text{Hz},  \\ \\ \\delta = 0.5-4 \\text{Hz},  \\ \\ \\theta = 4-8 \\text{Hz},  \\ \\ \\gamma = 30-60 \\text{Hz}$ "
   ]
  },
  {
   "cell_type": "code",
   "execution_count": null,
   "metadata": {},
   "outputs": [],
   "source": [
    "def bandpass_filter(signal, low_cutoff, high_cutoff, sample_rate, order=5):\n",
    "    nyquist_freq = 0.5 * sample_rate\n",
    "    low = low_cutoff / nyquist_freq\n",
    "    high = high_cutoff / nyquist_freq\n",
    "    b, a = butter(order, [low, high], btype='band')\n",
    "    filtered_signal = filtfilt(b, a, signal)\n",
    "    return filtered_signal"
   ]
  },
  {
   "cell_type": "code",
   "execution_count": null,
   "metadata": {},
   "outputs": [],
   "source": [
    "fs = 500\n",
    "N = len(signal) \n",
    "time = np.arange(N) / fs"
   ]
  },
  {
   "cell_type": "code",
   "execution_count": null,
   "metadata": {},
   "outputs": [],
   "source": [
    "alpha_rhythm = bandpass_filter(signal, 8, 13, fs)\n",
    "beta_rhythm = bandpass_filter(signal, 13, 30, fs)\n",
    "delta_rhythm = bandpass_filter(signal, 0.5, 4, fs)\n",
    "theta_rhythm = bandpass_filter(signal, 4, 8, fs)\n",
    "gamma_rhythm = bandpass_filter(signal, 30, 60, fs)"
   ]
  },
  {
   "cell_type": "code",
   "execution_count": null,
   "metadata": {},
   "outputs": [],
   "source": [
    "from matplotlib import pyplot as plt\n",
    "\n",
    "plt.figure(1)\n",
    "plt.plot(time, gamma_rhythm, label='Gamma')\n",
    "plt.plot(time, alpha_rhythm, label='Alpha')\n",
    "plt.legend()"
   ]
  },
  {
   "cell_type": "code",
   "execution_count": null,
   "metadata": {},
   "outputs": [],
   "source": [
    "def plot_spect(data, N, fs):\n",
    "    freq_data = 2 * (np.fft.fft(data) / N)[:N//2+1]\n",
    "    freqs = np.fft.fftfreq(N, 1/fs)[:N//2+1]\n",
    "    plt.plot(freqs, np.abs(freq_data))\n",
    "    plt.xlabel('Frequency (Hz)')\n",
    "    plt.ylabel('Magnitude')\n",
    "    plt.title('One-Sided Spectrum')\n",
    "    plt.xlim([0, 45])\n",
    "    plt.show()"
   ]
  },
  {
   "cell_type": "code",
   "execution_count": null,
   "metadata": {},
   "outputs": [],
   "source": [
    "plot_spect(signal, N, fs)\n",
    "plot_spect(alpha_rhythm, N, fs)"
   ]
  },
  {
   "attachments": {},
   "cell_type": "markdown",
   "metadata": {},
   "source": [
    "#### Features"
   ]
  },
  {
   "attachments": {},
   "cell_type": "markdown",
   "metadata": {},
   "source": [
    "##### Mean"
   ]
  },
  {
   "cell_type": "code",
   "execution_count": null,
   "metadata": {},
   "outputs": [],
   "source": [
    "mean = np.mean(signal)\n",
    "mean"
   ]
  },
  {
   "attachments": {},
   "cell_type": "markdown",
   "metadata": {},
   "source": [
    "##### Variance"
   ]
  },
  {
   "cell_type": "code",
   "execution_count": null,
   "metadata": {},
   "outputs": [],
   "source": [
    "var = np.var(alpha_rhythm[0:10*fs])\n",
    "var"
   ]
  },
  {
   "attachments": {},
   "cell_type": "markdown",
   "metadata": {},
   "source": [
    "##### STD"
   ]
  },
  {
   "cell_type": "code",
   "execution_count": null,
   "metadata": {},
   "outputs": [],
   "source": [
    "std = np.std(alpha_rhythm[0:10*fs])\n",
    "std"
   ]
  },
  {
   "attachments": {},
   "cell_type": "markdown",
   "metadata": {},
   "source": [
    "##### Skewness"
   ]
  },
  {
   "cell_type": "code",
   "execution_count": null,
   "metadata": {},
   "outputs": [],
   "source": [
    "skew = ss.skew(alpha_rhythm[0:10*fs])\n",
    "skew"
   ]
  },
  {
   "attachments": {},
   "cell_type": "markdown",
   "metadata": {},
   "source": [
    "##### Kurtosis"
   ]
  },
  {
   "cell_type": "code",
   "execution_count": null,
   "metadata": {},
   "outputs": [],
   "source": [
    "kurt = ss.kurtosis(alpha_rhythm[0:10*fs])\n",
    "kurt"
   ]
  },
  {
   "attachments": {},
   "cell_type": "markdown",
   "metadata": {},
   "source": [
    "#### Comparing basic features between subjects"
   ]
  },
  {
   "cell_type": "code",
   "execution_count": null,
   "metadata": {},
   "outputs": [],
   "source": [
    "def get_subject_eeg(index, chanel):\n",
    "    signal = data['ch' + str(chanel)][index][0]\n",
    "    return signal"
   ]
  },
  {
   "cell_type": "code",
   "execution_count": null,
   "metadata": {},
   "outputs": [],
   "source": [
    "window = 5 # epoch length in seconds\n",
    "overlap = 2.5 # length of overlap in seconds\n",
    "window_length, overlap_length = int(window*fs), int(overlap*fs)\n",
    "\n",
    "sub1, sub2 = 0, 41\n",
    "signal0 = get_subject_eeg(sub1, 0)\n",
    "signal1 = get_subject_eeg(sub2, 0)\n",
    "print(\"MMSE score of first subject is {} and of second {}\".format(data['MMSE'][sub1], data['MMSE'][sub2]))\n"
   ]
  },
  {
   "cell_type": "code",
   "execution_count": null,
   "metadata": {},
   "outputs": [],
   "source": [
    "plt.plot(bandpass_filter(signal0, 4, 8, fs)[100*fs:110*fs])\n",
    "plt.plot(bandpass_filter(signal1, 4, 8, fs)[100*fs:110*fs])"
   ]
  },
  {
   "attachments": {},
   "cell_type": "markdown",
   "metadata": {},
   "source": [
    "### Comparing amplitudes of alpha and theta rhythms"
   ]
  },
  {
   "cell_type": "code",
   "execution_count": 73,
   "metadata": {},
   "outputs": [
    {
     "data": {
      "text/plain": [
       "Text(0.5, 1.0, 'power in theta spectrum')"
      ]
     },
     "execution_count": 73,
     "metadata": {},
     "output_type": "execute_result"
    }
   ],
   "source": [
    "alpha = np.empty((88, 1))\n",
    "theta = np.empty((88, 1))\n",
    "mmse = np.empty((88, 1))\n",
    "for i in range(88):\n",
    "    signal = get_subject_eeg(i, 0)\n",
    "    alpha_signal = bandpass_filter(signal, 13, 30, fs)\n",
    "    theta_signal = bandpass_filter(signal, 4, 8, fs)\n",
    "    alpha[i] = np.sum(np.square(alpha_signal))/len(signal)\n",
    "    theta[i] = np.sum(np.square(theta_signal))/len(signal)\n",
    "    mmse[i] = data['MMSE'][i]\n",
    "\n",
    "plt.figure(1)\n",
    "plt.scatter(mmse, alpha)\n",
    "plt.xlabel('mmse score')\n",
    "plt.ylabel('power')\n",
    "plt.title('power in alpha spectrum')\n",
    "plt.figure(2)\n",
    "plt.scatter(mmse, theta)\n",
    "plt.xlabel('mmse score')\n",
    "plt.ylabel('power')\n",
    "plt.title('power in theta spectrum')\n"
   ]
  },
  {
   "cell_type": "code",
   "execution_count": null,
   "metadata": {},
   "outputs": [],
   "source": []
  }
 ],
 "metadata": {
  "kernelspec": {
   "display_name": "base",
   "language": "python",
   "name": "python3"
  },
  "language_info": {
   "codemirror_mode": {
    "name": "ipython",
    "version": 3
   },
   "file_extension": ".py",
   "mimetype": "text/x-python",
   "name": "python",
   "nbconvert_exporter": "python",
   "pygments_lexer": "ipython3",
   "version": "3.9.13"
  },
  "orig_nbformat": 4
 },
 "nbformat": 4,
 "nbformat_minor": 2
}
